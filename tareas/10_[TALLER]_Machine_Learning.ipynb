{
 "cells": [
  {
   "cell_type": "code",
   "execution_count": null,
   "metadata": {
    "id": "Z7rbDx_-JApm"
   },
   "outputs": [],
   "source": [
    "!wget --no-cache -O init.py -q https://raw.githubusercontent.com/UDEA-Esp-Analitica-y-Ciencia-de-Datos/EACD-03-BIGDATA/master/init.py\n",
    "import init; init.init(force_download=False);\n",
    "from IPython.display import Image"
   ]
  },
  {
   "cell_type": "code",
   "execution_count": null,
   "metadata": {
    "id": "hDzn_xcpJRWR"
   },
   "outputs": [],
   "source": [
    "Image(\"local/imgs/udea-datascience.png\")"
   ]
  },
  {
   "cell_type": "markdown",
   "metadata": {
    "id": "myHD-jFLKEal"
   },
   "source": [
    "# **TALLER 3: Machine Learning**\n",
    "## Desarrollado por: Mg. Efraín Alberto Oviedo\n",
    "## Universidad de Antioquia"
   ]
  },
  {
   "cell_type": "markdown",
   "metadata": {
    "id": "4GK6iJ1CKS8o"
   },
   "source": [
    "Por favor, ingrese la información de cada integrante del grupo de trabajo\n",
    "\n",
    "**Nombre Completo:**\n",
    "\n",
    "**Cédula:**\n",
    "\n",
    "**Correo Institucional:**"
   ]
  },
  {
   "cell_type": "markdown",
   "metadata": {
    "id": "UlYY1g0lKhz_"
   },
   "source": [
    "#**Análisis de pacientes de hospital de Envigado**\n",
    "\n",
    "El archivo poblacion_atendida.csv contiene información sobre los pacientes atendidos en un Hospital en Envigado. Para cada paciente se tiene la siguiente información:\n",
    "\n",
    "* SEXO\n",
    "* ESTADO_CIVIL\n",
    "* ZONA_RES\n",
    "* MUN_RES\n",
    "* PAIS_NCTO\n",
    "* EDAD\n",
    "* ESCOLARIDAD_PACIENTE\n",
    "\n",
    "Fuente de los datos: https://www.datos.gov.co/Salud-y-Protecci-n-Social/Poblaci-n-Atendida-a-o-2020/4ike-xz34\n",
    "\n",
    "\n",
    "Se solicita de su ayuda para realizar las siguientes actividades:"
   ]
  },
  {
   "cell_type": "markdown",
   "metadata": {
    "id": "GAyH6mgGK3VA"
   },
   "source": [
    "##**A) Preparación de datos**\n",
    "\n",
    "Revise cada una de las variables disponibles y realice la respectiva prepración de datos antes de proceder a crear los modelos de Machine Learning\n"
   ]
  },
  {
   "cell_type": "markdown",
   "metadata": {
    "id": "F-njqbnTM2To"
   },
   "source": [
    "Presente aquí el código desarrollado y el resultado obtenido"
   ]
  },
  {
   "cell_type": "markdown",
   "metadata": {
    "id": "pDX41ab4LO7g"
   },
   "source": [
    "##**B) Análisis Descriptivo**\n",
    "\n",
    "Cree un modelo de Kmeans que permitan describir los tipos de pacientes del hospital"
   ]
  },
  {
   "cell_type": "markdown",
   "metadata": {
    "id": "bSlgm0j-NQjn"
   },
   "source": [
    "Presente aquí el código desarrollado y el resultado obtenido"
   ]
  },
  {
   "cell_type": "markdown",
   "metadata": {
    "id": "T89Y60StLUuh"
   },
   "source": [
    "##**C) Análisis Predictivo**\n",
    "\n",
    "Usando el clúster asignado a cada paciente como variable objetivo, cree un modelo predictivo que permita predecir el grupo al que pertenece cada paciente"
   ]
  },
  {
   "cell_type": "markdown",
   "metadata": {
    "id": "xWQkDcDZNRVa"
   },
   "source": [
    "Presente aquí el código desarrollado y el resultado obtenido"
   ]
  },
  {
   "cell_type": "markdown",
   "metadata": {
    "id": "WlI7cjLXLdlQ"
   },
   "source": [
    "##**D) Validación**\n",
    "\n",
    "Cree un archivo con la información de un nuevo paciente por cada integrante del grupo y utilice el modelo de predicción creado anteriormente para predecir el clúster al que pertenecerían los nuevos pacientes"
   ]
  },
  {
   "cell_type": "markdown",
   "metadata": {
    "id": "gaYRRcaPlN9w"
   },
   "source": [
    "Presente aquí el código desarrollado y el resultado obtenido"
   ]
  },
  {
   "cell_type": "markdown",
   "metadata": {
    "id": "4JYIy6EaEISf"
   },
   "source": [
    "##**Análisis de los resultados**\n",
    "\n",
    "Analice la calidad de los modelos obtenidos y presente sus conclusiones sobre el ejercicio."
   ]
  }
 ],
 "metadata": {
  "colab": {
   "provenance": []
  },
  "kernelspec": {
   "display_name": "Python 3",
   "name": "python3"
  }
 },
 "nbformat": 4,
 "nbformat_minor": 0
}
