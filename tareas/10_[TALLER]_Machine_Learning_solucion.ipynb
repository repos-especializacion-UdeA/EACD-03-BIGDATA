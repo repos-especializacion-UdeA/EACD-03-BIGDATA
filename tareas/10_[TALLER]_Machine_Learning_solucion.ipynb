{
  "cells": [
    {
      "cell_type": "code",
      "execution_count": 1,
      "metadata": {
        "id": "Z7rbDx_-JApm",
        "colab": {
          "base_uri": "https://localhost:8080/"
        },
        "outputId": "291c569a-3f02-415d-dd8f-278728732268"
      },
      "outputs": [
        {
          "output_type": "stream",
          "name": "stdout",
          "text": [
            "replicating local resources\n"
          ]
        }
      ],
      "source": [
        "!wget --no-cache -O init.py -q https://raw.githubusercontent.com/UDEA-Esp-Analitica-y-Ciencia-de-Datos/EACD-03-BIGDATA/master/init.py\n",
        "import init; init.init(force_download=False);\n",
        "from IPython.display import Image"
      ]
    },
    {
      "cell_type": "code",
      "execution_count": 2,
      "metadata": {
        "id": "hDzn_xcpJRWR",
        "colab": {
          "base_uri": "https://localhost:8080/",
          "height": 251
        },
        "outputId": "3bddbe45-07b3-4434-bff7-aafe568c3b33"
      },
      "outputs": [
        {
          "output_type": "execute_result",
          "data": {
            "image/png": "[encoded data removed]",
            "text/plain": [
              "<IPython.core.display.Image object>"
            ]
          },
          "metadata": {},
          "execution_count": 2
        }
      ],
      "source": [
        "Image(\"local/imgs/udea-datascience.png\")"
      ]
    },
    {
      "cell_type": "markdown",
      "source": [
        "Inicialmente se procede a realizar la configuración del entorno de trabajo"
      ],
      "metadata": {
        "id": "M2A1R0idPwt-"
      }
    },
    {
      "cell_type": "code",
      "source": [
        "#Instalación\n",
        "!apt-get install openjdk-11-jdk-headless -qq > /dev/null\n",
        "!wget -q http://archive.apache.org/dist/spark/spark-3.0.1/spark-3.0.1-bin-hadoop3.2.tgz\n",
        "!tar xf spark-3.0.1-bin-hadoop3.2.tgz\n",
        "!pip install -q findspark\n",
        "\n",
        "#Variables de Entorno\n",
        "import os\n",
        "os.environ[\"JAVA_HOME\"] = \"/usr/lib/jvm/java-11-openjdk-amd64\"\n",
        "os.environ[\"SPARK_HOME\"] = \"/content/spark-3.0.1-bin-hadoop3.2\"\n",
        "\n",
        "#SparkContext\n",
        "import findspark\n",
        "findspark.init()\n",
        "from pyspark.sql import SparkSession\n",
        "from pyspark import SparkContext\n",
        "spark = SparkSession.builder.master(\"local[*]\").getOrCreate()\n",
        "sc = SparkContext.getOrCreate()\n",
        "sc"
      ],
      "metadata": {
        "colab": {
          "base_uri": "https://localhost:8080/",
          "height": 196
        },
        "id": "V9Z7DBf6Pt6O",
        "outputId": "607fe0fd-1dc5-4142-90b2-41f6cb516a77"
      },
      "execution_count": 3,
      "outputs": [
        {
          "output_type": "execute_result",
          "data": {
            "text/plain": [
              "<SparkContext master=local[*] appName=pyspark-shell>"
            ],
            "text/html": [
              "\n",
              "        <div>\n",
              "            <p><b>SparkContext</b></p>\n",
              "\n",
              "            <p><a href=\"http://d69f27f460da:4040\">Spark UI</a></p>\n",
              "\n",
              "            <dl>\n",
              "              <dt>Version</dt>\n",
              "                <dd><code>v3.0.1</code></dd>\n",
              "              <dt>Master</dt>\n",
              "                <dd><code>local[*]</code></dd>\n",
              "              <dt>AppName</dt>\n",
              "                <dd><code>pyspark-shell</code></dd>\n",
              "            </dl>\n",
              "        </div>\n",
              "        "
            ]
          },
          "metadata": {},
          "execution_count": 3
        }
      ]
    },
    {
      "cell_type": "code",
      "source": [
        "# Contexto SQL\n",
        "from pyspark.sql import SQLContext\n",
        "sqlCtx = SQLContext(sc)"
      ],
      "metadata": {
        "id": "yKn5btogQJGq"
      },
      "execution_count": 4,
      "outputs": []
    },
    {
      "cell_type": "code",
      "source": [
        "# Librerias\n",
        "from pyspark.sql.functions import udf\n",
        "from pyspark.sql.types import StringType, IntegerType\n",
        "import pyspark.sql.functions as F\n",
        "from pyspark.ml.feature import MinMaxScaler\n",
        "from pyspark.ml.feature import VectorAssembler\n",
        "from pyspark.ml.clustering import KMeans\n",
        "from pyspark.ml.evaluation import ClusteringEvaluator\n",
        "from pyspark.ml.stat import Correlation\n",
        "from pyspark.ml.feature import QuantileDiscretizer\n",
        "\n",
        "import pandas as pd\n",
        "import numpy as np\n",
        "import matplotlib.pyplot as plt\n",
        "import seaborn as sns\n",
        "import itertools"
      ],
      "metadata": {
        "id": "kHAXpZgFP8vH"
      },
      "execution_count": 5,
      "outputs": []
    },
    {
      "cell_type": "markdown",
      "metadata": {
        "id": "myHD-jFLKEal"
      },
      "source": [
        "# **TALLER 3: Machine Learning**\n",
        "## Desarrollado por: Mg. Efraín Alberto Oviedo\n",
        "## Universidad de Antioquia"
      ]
    },
    {
      "cell_type": "markdown",
      "metadata": {
        "id": "4GK6iJ1CKS8o"
      },
      "source": [
        "Por favor, ingrese la información de cada integrante del grupo de trabajo\n",
        "\n",
        "**Nombre Completo:**\n",
        "\n",
        "**Cédula:**\n",
        "\n",
        "**Correo Institucional:**"
      ]
    },
    {
      "cell_type": "markdown",
      "metadata": {
        "id": "UlYY1g0lKhz_"
      },
      "source": [
        "#**Análisis de pacientes de hospital de Envigado**\n",
        "\n",
        "El archivo poblacion_atendida.csv contiene información sobre los pacientes atendidos en un Hospital en Envigado. Para cada paciente se tiene la siguiente información:\n",
        "\n",
        "* SEXO\n",
        "* ESTADO_CIVIL\n",
        "* ZONA_RES\n",
        "* MUN_RES\n",
        "* PAIS_NCTO\n",
        "* EDAD\n",
        "* ESCOLARIDAD_PACIENTE\n",
        "\n",
        "Fuente de los datos: https://www.datos.gov.co/Salud-y-Protecci-n-Social/Poblaci-n-Atendida-a-o-2020/4ike-xz34\n",
        "\n",
        "\n",
        "Se solicita de su ayuda para realizar las siguientes actividades:"
      ]
    },
    {
      "cell_type": "code",
      "source": [
        "# Carga de los datos\n",
        "pobAtendidaDF = spark.read.csv('local/data/poblacion_atendida.csv',\n",
        "                                sep = ';',\n",
        "                                header = True,\n",
        "                                inferSchema = True)"
      ],
      "metadata": {
        "id": "nnx66cGkRG3p"
      },
      "execution_count": 6,
      "outputs": []
    },
    {
      "cell_type": "markdown",
      "metadata": {
        "id": "GAyH6mgGK3VA"
      },
      "source": [
        "##**A) Preparación de datos**\n",
        "\n",
        "Revise cada una de las variables disponibles y realice la respectiva prepración de datos antes de proceder a crear los modelos de Machine Learning\n"
      ]
    },
    {
      "cell_type": "markdown",
      "source": [
        "### **1. Identificación de variables**\n",
        "\n",
        "En esta etapa se realizó lo siguiente:\n",
        "* Propiedades del conjunto de datos\n",
        "* Tipos de datos (verificar carga correcta de datos)\n",
        "* Inspección rapida del dataset\n",
        "* Información resumen del dataset"
      ],
      "metadata": {
        "id": "cAhOi6RNVYJX"
      }
    },
    {
      "cell_type": "markdown",
      "source": [
        "#### **1.1. Propiedades del conjunto de datos**"
      ],
      "metadata": {
        "id": "GFT6oETefOVO"
      }
    },
    {
      "cell_type": "code",
      "source": [
        "pobAtendidaDF = pobAtendidaDF.cache()\n",
        "pobAtendidaDF.is_cached"
      ],
      "metadata": {
        "colab": {
          "base_uri": "https://localhost:8080/"
        },
        "id": "W10G9H_7usie",
        "outputId": "dadac4b7-ede4-4e1e-fb56-3645421bb7f3"
      },
      "execution_count": 7,
      "outputs": [
        {
          "output_type": "execute_result",
          "data": {
            "text/plain": [
              "True"
            ]
          },
          "metadata": {},
          "execution_count": 7
        }
      ]
    },
    {
      "cell_type": "code",
      "source": [
        "# Cantidad de registros\n",
        "print(f\"Numero de filas: {pobAtendidaDF.count()}\")\n",
        "columnas = pobAtendidaDF.columns\n",
        "print(f\"Numero de columnas: {len(columnas)}\")"
      ],
      "metadata": {
        "colab": {
          "base_uri": "https://localhost:8080/"
        },
        "id": "4q1PS3U8VkL9",
        "outputId": "b1e6341f-0196-4f39-a333-dfcb5b56e069"
      },
      "execution_count": 8,
      "outputs": [
        {
          "output_type": "stream",
          "name": "stdout",
          "text": [
            "Numero de filas: 55962\n",
            "Numero de columnas: 8\n"
          ]
        }
      ]
    },
    {
      "cell_type": "code",
      "source": [
        "# Columnas\n",
        "columnas"
      ],
      "metadata": {
        "colab": {
          "base_uri": "https://localhost:8080/"
        },
        "id": "rQwDBpfeVy3P",
        "outputId": "1b2eb876-bd29-48e0-879c-a96d0119a0c7"
      },
      "execution_count": 9,
      "outputs": [
        {
          "output_type": "execute_result",
          "data": {
            "text/plain": [
              "['ID_UNICO',\n",
              " 'SEXO',\n",
              " 'ESTADO_CIVIL',\n",
              " 'ZONA_RES',\n",
              " 'MUN_RES',\n",
              " 'PAIS_NCTO',\n",
              " 'EDAD',\n",
              " 'ESCOLARIDAD_PACIENTE']"
            ]
          },
          "metadata": {},
          "execution_count": 9
        }
      ]
    },
    {
      "cell_type": "markdown",
      "source": [
        "#### **1.2. Tipos de datos**"
      ],
      "metadata": {
        "id": "L1C1CrvFVgtl"
      }
    },
    {
      "cell_type": "code",
      "source": [
        "# Tipos de datos de las columnas\n",
        "pobAtendidaDF.dtypes"
      ],
      "metadata": {
        "colab": {
          "base_uri": "https://localhost:8080/"
        },
        "id": "H-sx9j0ZWTmb",
        "outputId": "416a230b-f5a1-42e9-9131-ba0b32dff0ad"
      },
      "execution_count": 10,
      "outputs": [
        {
          "output_type": "execute_result",
          "data": {
            "text/plain": [
              "[('ID_UNICO', 'int'),\n",
              " ('SEXO', 'string'),\n",
              " ('ESTADO_CIVIL', 'string'),\n",
              " ('ZONA_RES', 'string'),\n",
              " ('MUN_RES', 'string'),\n",
              " ('PAIS_NCTO', 'string'),\n",
              " ('EDAD', 'int'),\n",
              " ('ESCOLARIDAD_PACIENTE', 'string')]"
            ]
          },
          "metadata": {},
          "execution_count": 10
        }
      ]
    },
    {
      "cell_type": "code",
      "source": [
        "# Esquema\n",
        "pobAtendidaDF.printSchema()"
      ],
      "metadata": {
        "colab": {
          "base_uri": "https://localhost:8080/"
        },
        "id": "w0_GYzPRWZoL",
        "outputId": "0a9eb2bd-8b64-4d78-d2d2-6d372708e14e"
      },
      "execution_count": 11,
      "outputs": [
        {
          "output_type": "stream",
          "name": "stdout",
          "text": [
            "root\n",
            " |-- ID_UNICO: integer (nullable = true)\n",
            " |-- SEXO: string (nullable = true)\n",
            " |-- ESTADO_CIVIL: string (nullable = true)\n",
            " |-- ZONA_RES: string (nullable = true)\n",
            " |-- MUN_RES: string (nullable = true)\n",
            " |-- PAIS_NCTO: string (nullable = true)\n",
            " |-- EDAD: integer (nullable = true)\n",
            " |-- ESCOLARIDAD_PACIENTE: string (nullable = true)\n",
            "\n"
          ]
        }
      ]
    },
    {
      "cell_type": "code",
      "source": [
        "# Se almacena para usar luego\n",
        "pobAtendidaDF_original_schema = pobAtendidaDF.schema"
      ],
      "metadata": {
        "id": "ZpJzDPtpJJWV"
      },
      "execution_count": 12,
      "outputs": []
    },
    {
      "cell_type": "code",
      "source": [
        "pobAtendidaDF_cod = pobAtendidaDF\n",
        "pobAtendidaDF_cod.cache()"
      ],
      "metadata": {
        "colab": {
          "base_uri": "https://localhost:8080/"
        },
        "id": "7GGFgeFh2qwX",
        "outputId": "4d7ad966-99b0-4275-c8cc-782d64047456"
      },
      "execution_count": 13,
      "outputs": [
        {
          "output_type": "execute_result",
          "data": {
            "text/plain": [
              "DataFrame[ID_UNICO: int, SEXO: string, ESTADO_CIVIL: string, ZONA_RES: string, MUN_RES: string, PAIS_NCTO: string, EDAD: int, ESCOLARIDAD_PACIENTE: string]"
            ]
          },
          "metadata": {},
          "execution_count": 13
        }
      ]
    },
    {
      "cell_type": "markdown",
      "metadata": {
        "id": "F-njqbnTM2To"
      },
      "source": [
        "#### **1.3. Inspección del dataset**\n",
        "\n"
      ]
    },
    {
      "cell_type": "code",
      "source": [
        "pobAtendidaDF.show(10)"
      ],
      "metadata": {
        "colab": {
          "base_uri": "https://localhost:8080/"
        },
        "id": "yicNMR6jWume",
        "outputId": "740b0452-443a-4037-9d86-2f25ac9af875"
      },
      "execution_count": 14,
      "outputs": [
        {
          "output_type": "stream",
          "name": "stdout",
          "text": [
            "+--------+---------+---------------+--------+---------------+---------+----+--------------------+\n",
            "|ID_UNICO|     SEXO|   ESTADO_CIVIL|ZONA_RES|        MUN_RES|PAIS_NCTO|EDAD|ESCOLARIDAD_PACIENTE|\n",
            "+--------+---------+---------------+--------+---------------+---------+----+--------------------+\n",
            "|  676901|MASCULINO|     SOLTERO(A)|  URBANA|  ZONA BANANERA| COLOMBIA|  54|   BASICA SECUNDARIA|\n",
            "|  676949|MASCULINO|    UNION LIBRE|  URBANA|       MEDELLIN| COLOMBIA|  27|     SIN INFORMACION|\n",
            "|  676948|MASCULINO|SIN INFORMACION|  URBANA|SIN INFORMACION| COLOMBIA|   0|     SIN INFORMACION|\n",
            "|  635991| FEMENINO|SIN INFORMACION|  URBANA|         ITAGUI| COLOMBIA|   0|     SIN INFORMACION|\n",
            "|  676947| FEMENINO|     SOLTERO(A)|  URBANA|         ITAGUI| COLOMBIA|  24|   BASICA SECUNDARIA|\n",
            "|  676946|MASCULINO|SIN INFORMACION|  URBANA|         ITAGUI| COLOMBIA|   0|     SIN INFORMACION|\n",
            "|  666994|MASCULINO|    UNION LIBRE|  URBANA|       ENVIGADO| COLOMBIA|  37|         TECNOLOGICA|\n",
            "|  676812|MASCULINO|     SOLTERO(A)|  URBANA|       MEDELLIN| COLOMBIA|  35|     BASICA PRIMARIA|\n",
            "|  676945|MASCULINO|SIN INFORMACION|  URBANA|       ENVIGADO| COLOMBIA|   0|     SIN INFORMACION|\n",
            "|  676944|MASCULINO|     SOLTERO(A)|  URBANA|       MEDELLIN| COLOMBIA|  28|         PROFESIONAL|\n",
            "+--------+---------+---------------+--------+---------------+---------+----+--------------------+\n",
            "only showing top 10 rows\n",
            "\n"
          ]
        }
      ]
    },
    {
      "cell_type": "markdown",
      "source": [
        "#### **1.4. Información resumen del data frame**"
      ],
      "metadata": {
        "id": "KWx-Vl_jYDzp"
      }
    },
    {
      "cell_type": "code",
      "source": [
        "# Resumen del data frame\n",
        "print(f\"{'#':<3} {'Columna':<22} {'Cant. de no-nulos'}   tipo\")\n",
        "print(f\"{54*'-'}\")\n",
        "i = 1\n",
        "for c in columnas:\n",
        "  print(f\"{i:<3d} {c:<22} {pobAtendidaDF.select(c).where(~F.col(c).isNull()).count():<8d} non-null   {pobAtendidaDF.select(c).dtypes[0][1]}\")\n",
        "  i+=1"
      ],
      "metadata": {
        "colab": {
          "base_uri": "https://localhost:8080/"
        },
        "id": "-03KOjIUYHTL",
        "outputId": "ac6fb271-f4c2-4ad7-cba2-db5243b2dfda"
      },
      "execution_count": 15,
      "outputs": [
        {
          "output_type": "stream",
          "name": "stdout",
          "text": [
            "#   Columna                Cant. de no-nulos   tipo\n",
            "------------------------------------------------------\n",
            "1   ID_UNICO               55962    non-null   int\n",
            "2   SEXO                   55962    non-null   string\n",
            "3   ESTADO_CIVIL           55962    non-null   string\n",
            "4   ZONA_RES               55962    non-null   string\n",
            "5   MUN_RES                55962    non-null   string\n",
            "6   PAIS_NCTO              55962    non-null   string\n",
            "7   EDAD                   55962    non-null   int\n",
            "8   ESCOLARIDAD_PACIENTE   55962    non-null   string\n"
          ]
        }
      ]
    },
    {
      "cell_type": "markdown",
      "source": [
        "Vemos que el dataframe no tiene datos nulos y los tipos de datos de cada columna coinciden con lo que se espera."
      ],
      "metadata": {
        "id": "fNiiqvj0dyeZ"
      }
    },
    {
      "cell_type": "markdown",
      "source": [
        "### **2. Tratamiendo de duplicados**\n",
        "\n",
        "Se resume en:\n",
        "* Eliminar variables duplicadas (columnas)\n",
        "* Eliminar registros duplicados (filas)\n",
        "* Eliminar variables irrelevantes (ID, cedula, nombre, teléfono)"
      ],
      "metadata": {
        "id": "HPN1MBs-YrzI"
      }
    },
    {
      "cell_type": "markdown",
      "source": [
        "#### **2.1. Eliminación de variables irrelevantes**\n",
        "\n",
        "Vamos a eliminar unicamente la columnas `ID_UNICO`."
      ],
      "metadata": {
        "id": "tvLtUK-ZZuBB"
      }
    },
    {
      "cell_type": "code",
      "source": [
        "var_irrelvantes = ['ID_UNICO']\n",
        "pobAtendidaDF = pobAtendidaDF.drop(*var_irrelvantes)"
      ],
      "metadata": {
        "id": "BklsE-yNaE2O"
      },
      "execution_count": 16,
      "outputs": []
    },
    {
      "cell_type": "code",
      "source": [
        "# Inspeccion del resultado\n",
        "pobAtendidaDF.show(10)"
      ],
      "metadata": {
        "colab": {
          "base_uri": "https://localhost:8080/"
        },
        "id": "vqjJcencak03",
        "outputId": "8a600368-1c6c-4c78-92c2-d35d26c3688f"
      },
      "execution_count": 17,
      "outputs": [
        {
          "output_type": "stream",
          "name": "stdout",
          "text": [
            "+---------+---------------+--------+---------------+---------+----+--------------------+\n",
            "|     SEXO|   ESTADO_CIVIL|ZONA_RES|        MUN_RES|PAIS_NCTO|EDAD|ESCOLARIDAD_PACIENTE|\n",
            "+---------+---------------+--------+---------------+---------+----+--------------------+\n",
            "|MASCULINO|     SOLTERO(A)|  URBANA|  ZONA BANANERA| COLOMBIA|  54|   BASICA SECUNDARIA|\n",
            "|MASCULINO|    UNION LIBRE|  URBANA|       MEDELLIN| COLOMBIA|  27|     SIN INFORMACION|\n",
            "|MASCULINO|SIN INFORMACION|  URBANA|SIN INFORMACION| COLOMBIA|   0|     SIN INFORMACION|\n",
            "| FEMENINO|SIN INFORMACION|  URBANA|         ITAGUI| COLOMBIA|   0|     SIN INFORMACION|\n",
            "| FEMENINO|     SOLTERO(A)|  URBANA|         ITAGUI| COLOMBIA|  24|   BASICA SECUNDARIA|\n",
            "|MASCULINO|SIN INFORMACION|  URBANA|         ITAGUI| COLOMBIA|   0|     SIN INFORMACION|\n",
            "|MASCULINO|    UNION LIBRE|  URBANA|       ENVIGADO| COLOMBIA|  37|         TECNOLOGICA|\n",
            "|MASCULINO|     SOLTERO(A)|  URBANA|       MEDELLIN| COLOMBIA|  35|     BASICA PRIMARIA|\n",
            "|MASCULINO|SIN INFORMACION|  URBANA|       ENVIGADO| COLOMBIA|   0|     SIN INFORMACION|\n",
            "|MASCULINO|     SOLTERO(A)|  URBANA|       MEDELLIN| COLOMBIA|  28|         PROFESIONAL|\n",
            "+---------+---------------+--------+---------------+---------+----+--------------------+\n",
            "only showing top 10 rows\n",
            "\n"
          ]
        }
      ]
    },
    {
      "cell_type": "code",
      "source": [
        "# Se actualizan la columnas del dataframe\n",
        "columnas = pobAtendidaDF.columns"
      ],
      "metadata": {
        "id": "V1BcnW4jenvK"
      },
      "execution_count": 18,
      "outputs": []
    },
    {
      "cell_type": "markdown",
      "source": [
        "### **3. Analisis univariado**\n",
        "\n",
        "Este tipo de analisis realiza para:\n",
        "* **Variables numéricas**: estadística descriptiva, histogramas, box plot.\n",
        "* **Variables categóricas**: tabla de frecuencias y diagrama de barras."
      ],
      "metadata": {
        "id": "MyYErCH5e7Th"
      }
    },
    {
      "cell_type": "markdown",
      "source": [
        "#### **3.1. Variables númericas**\n",
        "\n",
        "##### **Estadistica descriptiva**\n",
        "\n",
        "La unica variable númerica que nos interesa es la `EDAD`"
      ],
      "metadata": {
        "id": "b2FRMlrrfM6E"
      }
    },
    {
      "cell_type": "code",
      "source": [
        "pobAtendidaDF.select('EDAD').describe().show()"
      ],
      "metadata": {
        "colab": {
          "base_uri": "https://localhost:8080/"
        },
        "id": "ldf07xNPffgg",
        "outputId": "ca1c314f-81c7-4b9d-91f5-e0415439fc4c"
      },
      "execution_count": 19,
      "outputs": [
        {
          "output_type": "stream",
          "name": "stdout",
          "text": [
            "+-------+------------------+\n",
            "|summary|              EDAD|\n",
            "+-------+------------------+\n",
            "|  count|             55962|\n",
            "|   mean|41.761248704478035|\n",
            "| stddev|23.162071761943924|\n",
            "|    min|                 0|\n",
            "|    max|               109|\n",
            "+-------+------------------+\n",
            "\n"
          ]
        }
      ]
    },
    {
      "cell_type": "markdown",
      "source": [
        "##### **Histograma**\n",
        "\n",
        "A continuación se muestra el histograma para la variable numerica empleando 20 particiones."
      ],
      "metadata": {
        "id": "DGuSjm15jsbo"
      }
    },
    {
      "cell_type": "code",
      "source": [
        "df_pobAtendidaEdad_pandas = pobAtendidaDF.select('EDAD').toPandas()\n",
        "plt.figure(figsize=(10, 6))\n",
        "sns.histplot(df_pobAtendidaEdad_pandas, x='EDAD', bins = 20, kde=True)\n",
        "plt.title('Distribucion de edades')\n",
        "plt.xlabel('Edad')\n",
        "plt.ylabel('Frecuencia')\n",
        "plt.grid(True)\n",
        "plt.show()"
      ],
      "metadata": {
        "colab": {
          "base_uri": "https://localhost:8080/",
          "height": 564
        },
        "id": "LftbTKjdjrs4",
        "outputId": "3ce9802e-bdd0-4d67-f548-df6298290128"
      },
      "execution_count": 20,
      "outputs": [
        {
          "output_type": "display_data",
          "data": {
            "text/plain": [
              "<Figure size 1000x600 with 1 Axes>"
            ],
            "image/png": "[encoded data removed]"
          },
          "metadata": {}
        }
      ]
    },
    {
      "cell_type": "markdown",
      "source": [
        "#### **3.2. Variables categoricas**"
      ],
      "metadata": {
        "id": "DAH6fCTPh0_Q"
      }
    },
    {
      "cell_type": "markdown",
      "source": [
        "Variables categóricas: tabla de frecuencias y diagrama de barras"
      ],
      "metadata": {
        "id": "y9TqnH1ia-Ca"
      }
    },
    {
      "cell_type": "markdown",
      "source": [
        "##### **Valores unicos por columna**"
      ],
      "metadata": {
        "id": "MHmxfhfaa_JR"
      }
    },
    {
      "cell_type": "code",
      "source": [
        "print(f\"{'COLUMNA':>20} [CANT ]: ITEMS\")\n",
        "print(f\"{50*'-'}\")\n",
        "for c in columnas:\n",
        "  if c != 'EDAD':\n",
        "    items = pobAtendidaDF.select(c).distinct().collect()\n",
        "    items = [fila[0] for fila in items]\n",
        "    print(f\"{c:>20} [{len(items):>5}]: {', '.join(items)}\")\n"
      ],
      "metadata": {
        "colab": {
          "base_uri": "https://localhost:8080/"
        },
        "id": "cAFkdcCLcgFe",
        "outputId": "e2efd5e3-8b13-478e-f74e-63f720fab23b"
      },
      "execution_count": 21,
      "outputs": [
        {
          "output_type": "stream",
          "name": "stdout",
          "text": [
            "             COLUMNA [CANT ]: ITEMS\n",
            "--------------------------------------------------\n",
            "                SEXO [    2]: FEMENINO, MASCULINO\n",
            "        ESTADO_CIVIL [    6]: SIN INFORMACION, SOLTERO(A), VIUDO(A), SEPARADO(A), UNION LIBRE, CASADO(A)\n",
            "            ZONA_RES [    2]: RURAL, URBANA\n",
            "             MUN_RES [  186]: ARMENIA, SAN PABLO, YOLOMBO, NORCASIA, ATACO, ZONA BANANERA, COPACABANA, NUEVA GRANADA, SANTA HELENA  A  Y T, SABANAS DE SAN ANGEL, EL TAMBO, SAN LORENZO, HELICONIA, CASABIANCA, PUERTO ESCONDIDO, LA CRUZ, LA ESPERANZA, LA FLORIDA, TAMESIS, SANTA BARBARA, RETIRO, ANDES, JERSEY, BAGADO, ANDALUCIA, SAN MARCOS, SANTA MARIA, ALBANIA, SAMOA ESTADOUNIDENSE, MEDIO BAUDO, SAN JOSE DEL FRAGUA, ITUANGO, SURATA, FLORENCIA, TARQUI, CONTRATACION, BETULIA, LA PINTADA, OPORAPA, BARRANCAS, SANTA ROSA DE OSOS, ACANDI, TOLEDO, SAN MATEO, SIN INFORMACION, CONCORDIA, EL BANCO, RIOSUCIO, AMALFI, LA SIERRA, VILLANUEVA, CARMEN DEL DARIEN, BOCHALEMA, EL DORADO, SOLANO, SOMALIA, EL LITORAL DEL SAN JUAN, PINCHOTE, SAN JOSE DEL PALMAR, SAN ANTONIO DEL TEQU, PUERTO LIBERTADOR, SALAZAR, ARBOLETES, EL CARMEN, LA UNION, MEDIO SAN JUAN, SAN PEDRO, COLOMBIA, CAUCASIA, LA MACARENA, REMOLINO, CHINCHINA, APARTADO, SALGAR, TIBIRITA, COMBITA, CERRO SAN ANTONIO, ALTO BAUDO, CALDAS, BARICHARA, LINARES, GAMBIA, LA CEJA, MEDIO ATRATO, TIBU, RIONEGRO, GARZON, SOCORRO, BAHIA SOLANO, PUENTE NACIONAL, AUSTRIA, CIRCASIA, ONZAGA, VALDIVIA, VENECIA, MUTATA, DURANIA, LA PAZ, ENCISO, ALBANCUNDIN, OLAYA HERRERA, MONTEBELLO, LANDAZURI, NARINO, DIBULLA, SAN AGUSTIN, ACACIAS, CACERES, ANTILLAS NEERLANDESAS, PIEDECUESTA, GIRARDOTA, QUIBDO, BARBOSA, AMAGA, DOS QUEBRADAS, CERETE, SANTANA, BELLO, SAN MIGUEL, CERRITO, ENCINO, SAN CRISTOBAL Y NIEVES, SALENTO, BOGOTA, ISTMINA, NECOCLI, SAN BENITO, LA ESTRELLA, EL PLAYON, LOS PATIOS, ALAND, SANTUARIO, NAMIBIA, GUACHUCAL, BELEN DE LOS ANDAQUI, PUEBLO RICORIS, VILLA CARO, SABANETA, SUCRE, FLORIDABLANCA, SANTA MARTA, CASTILLA LA NUEVA, MEDELLIN, OROCUE, VELEZ, MANAURE, ENVIGADO, BARRANCABERMEJA, BURITICA, SAN JOSE DE LA MONTAÑA, BOLIVAR, URIBIA, SANTACRUZ, CALARCA, CURUMANI, ABREGO, JARDIN, SAN FERNANDO, CALIFORNIA, EL PEÑOL, PANAMA, ITAGUI, CHILE, LA APARTADA, CARACOLI, BUCARAMANGA, SEGOVIA, CONCEPCION, VALPARAISO, EBEJICO, FRANCISCO PIZARRO, GUARANDA, URIBE, PUERTO GAITAN, AGUADA, SABANA DE TORRES, SAN CRISTOBAL, MESETAS, CORDOBA, CONDOTO, PEREIRA, VILLA NUEVA, SAN LUIS DE GACENO, CUCUTA, LA ARGENTINA, TADO\n",
            "           PAIS_NCTO [   35]: RUSIA, ESPAÑA, PERÚ, SIN INFORMACION, COSTA RICA, SUIZA, DINAMARCA, COLOMBIA, FRANCIA, HONDURAS, EL SALVADOR, PANAMÁ, TAIWÁN, MALASIA, CHINA, NICARAGUA, CANADÁ, ITALIA, LITUANIA, ESTADOS UNIDOS, ARGENTINA, REPUBLICA DOMINICANA, ECUADOR, BOLIVIA, ARABIA SAUDITA, SUECIA, ALEMANIA, URUGUAY, BRASIL, AUSTRALIA, CHILE, HAITÍ, VENEZUELA, CUBA, MÉXICO\n",
            "ESCOLARIDAD_PACIENTE [   13]: PROFESIONAL, TECNICA PROFESIONAL, SIN INFORMACION, ESPECIALIZACION, TECNOLOGICA, BASICA SECUNDARIA, MEDIA TECNICA (BACHILLERATO T), MAESTRIA, NORMALISTA, BASICA PRIMARIA, MEDIA ACADEMICA O CLASICA, PREESCOLAR, DOCTORADO\n"
          ]
        }
      ]
    },
    {
      "cell_type": "markdown",
      "source": [
        "##### **Conteo de frecuencias**"
      ],
      "metadata": {
        "id": "uqxfr99Ochq9"
      }
    },
    {
      "cell_type": "code",
      "source": [
        "for c in columnas:\n",
        "  if c != 'EDAD':\n",
        "    print(f\"{50*'-'}\")\n",
        "    print(f\"{c.center(50)}\")\n",
        "    print()\n",
        "    pobAtendidaDF.groupBy(c).count().show(pobAtendidaDF.select(c).distinct().count())"
      ],
      "metadata": {
        "colab": {
          "base_uri": "https://localhost:8080/"
        },
        "id": "vWmcrrdjh0GB",
        "outputId": "28c70844-fc99-4c7e-fce4-5848f9c2f697"
      },
      "execution_count": 22,
      "outputs": [
        {
          "output_type": "stream",
          "name": "stdout",
          "text": [
            "--------------------------------------------------\n",
            "                       SEXO                       \n",
            "\n",
            "+---------+-----+\n",
            "|     SEXO|count|\n",
            "+---------+-----+\n",
            "| FEMENINO|33168|\n",
            "|MASCULINO|22794|\n",
            "+---------+-----+\n",
            "\n",
            "--------------------------------------------------\n",
            "                   ESTADO_CIVIL                   \n",
            "\n",
            "+---------------+-----+\n",
            "|   ESTADO_CIVIL|count|\n",
            "+---------------+-----+\n",
            "|SIN INFORMACION| 8992|\n",
            "|     SOLTERO(A)|21306|\n",
            "|       VIUDO(A)| 3001|\n",
            "|    SEPARADO(A)| 2167|\n",
            "|    UNION LIBRE| 7526|\n",
            "|      CASADO(A)|12970|\n",
            "+---------------+-----+\n",
            "\n",
            "--------------------------------------------------\n",
            "                     ZONA_RES                     \n",
            "\n",
            "+--------+-----+\n",
            "|ZONA_RES|count|\n",
            "+--------+-----+\n",
            "|   RURAL|  297|\n",
            "|  URBANA|55665|\n",
            "+--------+-----+\n",
            "\n",
            "--------------------------------------------------\n",
            "                     MUN_RES                      \n",
            "\n",
            "+--------------------+-----+\n",
            "|             MUN_RES|count|\n",
            "+--------------------+-----+\n",
            "|             ARMENIA|    2|\n",
            "|           SAN PABLO|    1|\n",
            "|             YOLOMBO|   15|\n",
            "|            NORCASIA|    1|\n",
            "|               ATACO|    1|\n",
            "|       ZONA BANANERA|   48|\n",
            "|          COPACABANA|  231|\n",
            "|       NUEVA GRANADA|    1|\n",
            "|SANTA HELENA  A  Y T|    1|\n",
            "|SABANAS DE SAN ANGEL|    1|\n",
            "|            EL TAMBO|    1|\n",
            "|         SAN LORENZO|    1|\n",
            "|           HELICONIA|    9|\n",
            "|          CASABIANCA|    2|\n",
            "|    PUERTO ESCONDIDO|    2|\n",
            "|             LA CRUZ|    6|\n",
            "|        LA ESPERANZA|    1|\n",
            "|          LA FLORIDA|    1|\n",
            "|             TAMESIS|   16|\n",
            "|       SANTA BARBARA|   22|\n",
            "|              RETIRO|   22|\n",
            "|               ANDES|   56|\n",
            "|              JERSEY|    1|\n",
            "|              BAGADO|    2|\n",
            "|           ANDALUCIA|    2|\n",
            "|          SAN MARCOS|    2|\n",
            "|         SANTA MARIA|    3|\n",
            "|             ALBANIA|    2|\n",
            "|SAMOA ESTADOUNIDENSE|    1|\n",
            "|         MEDIO BAUDO|    1|\n",
            "| SAN JOSE DEL FRAGUA|    1|\n",
            "|             ITUANGO|    4|\n",
            "|              SURATA|    1|\n",
            "|           FLORENCIA|    3|\n",
            "|              TARQUI|    4|\n",
            "|        CONTRATACION|    1|\n",
            "|             BETULIA|   16|\n",
            "|          LA PINTADA|    3|\n",
            "|             OPORAPA|    1|\n",
            "|           BARRANCAS|    1|\n",
            "|  SANTA ROSA DE OSOS|    9|\n",
            "|              ACANDI|    9|\n",
            "|              TOLEDO|    5|\n",
            "|           SAN MATEO|    8|\n",
            "|     SIN INFORMACION| 3128|\n",
            "|           CONCORDIA|   16|\n",
            "|            EL BANCO|    2|\n",
            "|            RIOSUCIO|    2|\n",
            "|              AMALFI|    1|\n",
            "|           LA SIERRA|    1|\n",
            "|          VILLANUEVA|    1|\n",
            "|   CARMEN DEL DARIEN|    1|\n",
            "|           BOCHALEMA|    1|\n",
            "|           EL DORADO|    4|\n",
            "|              SOLANO|    1|\n",
            "|             SOMALIA|    1|\n",
            "|EL LITORAL DEL SA...|    2|\n",
            "|            PINCHOTE|    1|\n",
            "| SAN JOSE DEL PALMAR|    1|\n",
            "|SAN ANTONIO DEL TEQU|    4|\n",
            "|   PUERTO LIBERTADOR|    1|\n",
            "|             SALAZAR|    1|\n",
            "|           ARBOLETES|    5|\n",
            "|           EL CARMEN|    1|\n",
            "|            LA UNION|    5|\n",
            "|      MEDIO SAN JUAN|    3|\n",
            "|           SAN PEDRO|    4|\n",
            "|            COLOMBIA|    3|\n",
            "|            CAUCASIA|   53|\n",
            "|         LA MACARENA|    1|\n",
            "|            REMOLINO|    3|\n",
            "|           CHINCHINA|    1|\n",
            "|            APARTADO|   13|\n",
            "|              SALGAR|   21|\n",
            "|            TIBIRITA|    2|\n",
            "|             COMBITA|    2|\n",
            "|   CERRO SAN ANTONIO|    1|\n",
            "|          ALTO BAUDO|    1|\n",
            "|              CALDAS|  967|\n",
            "|           BARICHARA|   25|\n",
            "|             LINARES|    3|\n",
            "|              GAMBIA|    1|\n",
            "|             LA CEJA|   18|\n",
            "|        MEDIO ATRATO|    8|\n",
            "|                TIBU|    1|\n",
            "|            RIONEGRO|   24|\n",
            "|              GARZON|    1|\n",
            "|             SOCORRO|    1|\n",
            "|        BAHIA SOLANO|    1|\n",
            "|     PUENTE NACIONAL|    1|\n",
            "|             AUSTRIA|    1|\n",
            "|            CIRCASIA|    2|\n",
            "|              ONZAGA|    1|\n",
            "|            VALDIVIA|   11|\n",
            "|             VENECIA|   10|\n",
            "|              MUTATA|    2|\n",
            "|             DURANIA|    1|\n",
            "|              LA PAZ|    8|\n",
            "|              ENCISO|    5|\n",
            "|         ALBANCUNDIN|    3|\n",
            "|       OLAYA HERRERA|    5|\n",
            "|          MONTEBELLO|    1|\n",
            "|           LANDAZURI|    1|\n",
            "|              NARINO|    4|\n",
            "|             DIBULLA|    8|\n",
            "|         SAN AGUSTIN|    4|\n",
            "|             ACACIAS|    5|\n",
            "|             CACERES|    2|\n",
            "|ANTILLAS NEERLAND...|    1|\n",
            "|         PIEDECUESTA|    1|\n",
            "|           GIRARDOTA|  120|\n",
            "|              QUIBDO|   26|\n",
            "|             BARBOSA|  165|\n",
            "|               AMAGA|  123|\n",
            "|       DOS QUEBRADAS|    3|\n",
            "|              CERETE|    1|\n",
            "|             SANTANA|    1|\n",
            "|               BELLO| 1219|\n",
            "|          SAN MIGUEL|    1|\n",
            "|             CERRITO|    3|\n",
            "|              ENCINO|   11|\n",
            "|SAN CRISTOBAL Y N...|    5|\n",
            "|             SALENTO|    1|\n",
            "|              BOGOTA|    9|\n",
            "|             ISTMINA|    1|\n",
            "|             NECOCLI|    4|\n",
            "|          SAN BENITO|    1|\n",
            "|         LA ESTRELLA| 1292|\n",
            "|           EL PLAYON|    3|\n",
            "|          LOS PATIOS|    1|\n",
            "|               ALAND|    1|\n",
            "|           SANTUARIO|    1|\n",
            "|             NAMIBIA|    1|\n",
            "|           GUACHUCAL|    1|\n",
            "|BELEN DE LOS ANDAQUI|    1|\n",
            "|      PUEBLO RICORIS|    2|\n",
            "|          VILLA CARO|    1|\n",
            "|            SABANETA| 2420|\n",
            "|               SUCRE|    1|\n",
            "|       FLORIDABLANCA|    1|\n",
            "|         SANTA MARTA|    1|\n",
            "|   CASTILLA LA NUEVA|    1|\n",
            "|            MEDELLIN| 9868|\n",
            "|              OROCUE|    1|\n",
            "|               VELEZ|    2|\n",
            "|             MANAURE|    2|\n",
            "|            ENVIGADO|30655|\n",
            "|     BARRANCABERMEJA|    1|\n",
            "|            BURITICA|    1|\n",
            "|SAN JOSE DE LA MO...|    2|\n",
            "|             BOLIVAR|    6|\n",
            "|              URIBIA|    1|\n",
            "|           SANTACRUZ|    2|\n",
            "|             CALARCA|    1|\n",
            "|            CURUMANI|    1|\n",
            "|              ABREGO|   13|\n",
            "|              JARDIN|    1|\n",
            "|        SAN FERNANDO|    5|\n",
            "|          CALIFORNIA|    1|\n",
            "|            EL PEÑOL|    5|\n",
            "|              PANAMA|    1|\n",
            "|              ITAGUI| 4898|\n",
            "|               CHILE|    1|\n",
            "|         LA APARTADA|    1|\n",
            "|            CARACOLI|    7|\n",
            "|         BUCARAMANGA|    1|\n",
            "|             SEGOVIA|   27|\n",
            "|          CONCEPCION|    2|\n",
            "|          VALPARAISO|    4|\n",
            "|             EBEJICO|    8|\n",
            "|   FRANCISCO PIZARRO|    2|\n",
            "|            GUARANDA|    1|\n",
            "|               URIBE|   18|\n",
            "|       PUERTO GAITAN|    1|\n",
            "|              AGUADA|    7|\n",
            "|    SABANA DE TORRES|   22|\n",
            "|       SAN CRISTOBAL|   22|\n",
            "|             MESETAS|    2|\n",
            "|             CORDOBA|    3|\n",
            "|             CONDOTO|    1|\n",
            "|             PEREIRA|    1|\n",
            "|         VILLA NUEVA|    1|\n",
            "|  SAN LUIS DE GACENO|    2|\n",
            "|              CUCUTA|    1|\n",
            "|        LA ARGENTINA|    1|\n",
            "|                TADO|    1|\n",
            "+--------------------+-----+\n",
            "\n",
            "--------------------------------------------------\n",
            "                    PAIS_NCTO                     \n",
            "\n",
            "+--------------------+-----+\n",
            "|           PAIS_NCTO|count|\n",
            "+--------------------+-----+\n",
            "|               RUSIA|    2|\n",
            "|              ESPAÑA|   16|\n",
            "|                PERÚ|    9|\n",
            "|     SIN INFORMACION|   57|\n",
            "|          COSTA RICA|    3|\n",
            "|               SUIZA|    2|\n",
            "|           DINAMARCA|    1|\n",
            "|            COLOMBIA|54250|\n",
            "|             FRANCIA|    3|\n",
            "|            HONDURAS|    2|\n",
            "|         EL SALVADOR|    3|\n",
            "|              PANAMÁ|    4|\n",
            "|              TAIWÁN|    1|\n",
            "|             MALASIA|    1|\n",
            "|               CHINA|    1|\n",
            "|           NICARAGUA|    1|\n",
            "|              CANADÁ|    9|\n",
            "|              ITALIA|    1|\n",
            "|            LITUANIA|    1|\n",
            "|      ESTADOS UNIDOS|   37|\n",
            "|           ARGENTINA|    4|\n",
            "|REPUBLICA DOMINICANA|    1|\n",
            "|             ECUADOR|    8|\n",
            "|             BOLIVIA|    1|\n",
            "|      ARABIA SAUDITA|    1|\n",
            "|              SUECIA|    1|\n",
            "|            ALEMANIA|    3|\n",
            "|             URUGUAY|    1|\n",
            "|              BRASIL|    3|\n",
            "|           AUSTRALIA|    2|\n",
            "|               CHILE|    4|\n",
            "|               HAITÍ|    1|\n",
            "|           VENEZUELA| 1521|\n",
            "|                CUBA|    2|\n",
            "|              MÉXICO|    5|\n",
            "+--------------------+-----+\n",
            "\n",
            "--------------------------------------------------\n",
            "               ESCOLARIDAD_PACIENTE               \n",
            "\n",
            "+--------------------+-----+\n",
            "|ESCOLARIDAD_PACIENTE|count|\n",
            "+--------------------+-----+\n",
            "|         PROFESIONAL| 4413|\n",
            "| TECNICA PROFESIONAL| 2551|\n",
            "|     SIN INFORMACION|11042|\n",
            "|     ESPECIALIZACION| 1077|\n",
            "|         TECNOLOGICA| 1979|\n",
            "|   BASICA SECUNDARIA|17231|\n",
            "|MEDIA TECNICA (BA...|  423|\n",
            "|            MAESTRIA|  118|\n",
            "|          NORMALISTA|  205|\n",
            "|     BASICA PRIMARIA|11416|\n",
            "|MEDIA ACADEMICA O...| 4744|\n",
            "|          PREESCOLAR|  700|\n",
            "|           DOCTORADO|   63|\n",
            "+--------------------+-----+\n",
            "\n"
          ]
        }
      ]
    },
    {
      "cell_type": "markdown",
      "source": [
        "### **4. Analisis bivariado**"
      ],
      "metadata": {
        "id": "qBIpjEstm5A6"
      }
    },
    {
      "cell_type": "markdown",
      "source": [
        "#### **4.1. Correlacion**\n",
        "\n",
        "Para la correlación tener en cuenta las siguientes recomendaciones:\n",
        "* Correlaciones entre las variables predictoras deben ser menores a 0.7\n",
        "* Correlaciones con la variable objetivo debe ser mayor a 0.3\n",
        "\n",
        "<!--\n",
        "```py\n",
        "from pyspark.sql.types import *\n",
        "\n",
        "for c in columnas[1:]:\n",
        "  if c != 'EDAD':\n",
        "    # Columna\n",
        "    listaCol = pobAtendidaNum.select(c).distinct()\n",
        "    listaCol = [fila[0] for fila in listaCol.collect()]\n",
        "    # Cast por columna\n",
        "    for col in listaCol:\n",
        "      pobAtendidaNum = pobAtendidaNum.withColumn(col, (pobAtendidaNum[c] == col).cast(IntegerType()))\n",
        "    print(listaCol)\n",
        "```\n",
        "-->"
      ],
      "metadata": {
        "id": "sgSiVbdGnSYl"
      }
    },
    {
      "cell_type": "markdown",
      "source": [
        "Convirtiendo las variables categoricas a numericas:"
      ],
      "metadata": {
        "id": "ZH5CXPyXjOUW"
      }
    },
    {
      "cell_type": "code",
      "source": [
        "pobAtendidaNum = pobAtendidaDF\n",
        "pobAtendidaDF.unpersist()\n",
        "print(pobAtendidaDF.is_cached)\n",
        "pobAtendidaNum.cache()\n",
        "print(pobAtendidaNum.is_cached)"
      ],
      "metadata": {
        "id": "wsvVlcdpMJBS",
        "colab": {
          "base_uri": "https://localhost:8080/"
        },
        "outputId": "467ea2a1-6007-4a0b-da45-296499b6ad16"
      },
      "execution_count": 23,
      "outputs": [
        {
          "output_type": "stream",
          "name": "stdout",
          "text": [
            "False\n",
            "True\n"
          ]
        }
      ]
    },
    {
      "cell_type": "markdown",
      "source": [
        "Ahora vamos a asociar los valores categoricos a datos numericos mediante la función `StringIndexer`."
      ],
      "metadata": {
        "id": "Ed3BvYBrhBvc"
      }
    },
    {
      "cell_type": "code",
      "source": [
        "from pyspark.sql.types import *\n",
        "from pyspark.ml.feature import StringIndexer\n",
        "\n",
        "for c in columnas:\n",
        "  if c != 'EDAD':\n",
        "    # Columna\n",
        "    indexer = StringIndexer(inputCol = c, outputCol = c + '_NUM')\n",
        "    # Asignacion de valores de indices los strings\n",
        "    indexer = indexer.fit(pobAtendidaNum)\n",
        "    # Creacion de columna con valores de indices\n",
        "    pobAtendidaNum = indexer.transform(pobAtendidaNum)"
      ],
      "metadata": {
        "id": "I9P1r058O2ef"
      },
      "execution_count": 24,
      "outputs": []
    },
    {
      "cell_type": "code",
      "source": [
        "# Inspeccion de las columnas con las que queda el dataframe\n",
        "print(f\"Columnas: {pobAtendidaNum.columns}\")"
      ],
      "metadata": {
        "colab": {
          "base_uri": "https://localhost:8080/"
        },
        "id": "2d0PbvhSR5nB",
        "outputId": "e129156d-3596-4889-9ac5-7f8c5c18dfa2"
      },
      "execution_count": 25,
      "outputs": [
        {
          "output_type": "stream",
          "name": "stdout",
          "text": [
            "Columnas: ['SEXO', 'ESTADO_CIVIL', 'ZONA_RES', 'MUN_RES', 'PAIS_NCTO', 'EDAD', 'ESCOLARIDAD_PACIENTE', 'SEXO_NUM', 'ESTADO_CIVIL_NUM', 'ZONA_RES_NUM', 'MUN_RES_NUM', 'PAIS_NCTO_NUM', 'ESCOLARIDAD_PACIENTE_NUM']\n"
          ]
        }
      ]
    },
    {
      "cell_type": "code",
      "source": [
        "# Inspeccion del dataframe\n",
        "pobAtendidaNum.show(10)"
      ],
      "metadata": {
        "colab": {
          "base_uri": "https://localhost:8080/"
        },
        "id": "86eNwC5NRedm",
        "outputId": "4a61145f-8e38-456c-ecb1-decda1f6077b"
      },
      "execution_count": 26,
      "outputs": [
        {
          "output_type": "stream",
          "name": "stdout",
          "text": [
            "+---------+---------------+--------+---------------+---------+----+--------------------+--------+----------------+------------+-----------+-------------+------------------------+\n",
            "|     SEXO|   ESTADO_CIVIL|ZONA_RES|        MUN_RES|PAIS_NCTO|EDAD|ESCOLARIDAD_PACIENTE|SEXO_NUM|ESTADO_CIVIL_NUM|ZONA_RES_NUM|MUN_RES_NUM|PAIS_NCTO_NUM|ESCOLARIDAD_PACIENTE_NUM|\n",
            "+---------+---------------+--------+---------------+---------+----+--------------------+--------+----------------+------------+-----------+-------------+------------------------+\n",
            "|MASCULINO|     SOLTERO(A)|  URBANA|  ZONA BANANERA| COLOMBIA|  54|   BASICA SECUNDARIA|     1.0|             0.0|         0.0|       14.0|          0.0|                     0.0|\n",
            "|MASCULINO|    UNION LIBRE|  URBANA|       MEDELLIN| COLOMBIA|  27|     SIN INFORMACION|     1.0|             3.0|         0.0|        1.0|          0.0|                     2.0|\n",
            "|MASCULINO|SIN INFORMACION|  URBANA|SIN INFORMACION| COLOMBIA|   0|     SIN INFORMACION|     1.0|             2.0|         0.0|        3.0|          0.0|                     2.0|\n",
            "| FEMENINO|SIN INFORMACION|  URBANA|         ITAGUI| COLOMBIA|   0|     SIN INFORMACION|     0.0|             2.0|         0.0|        2.0|          0.0|                     2.0|\n",
            "| FEMENINO|     SOLTERO(A)|  URBANA|         ITAGUI| COLOMBIA|  24|   BASICA SECUNDARIA|     0.0|             0.0|         0.0|        2.0|          0.0|                     0.0|\n",
            "|MASCULINO|SIN INFORMACION|  URBANA|         ITAGUI| COLOMBIA|   0|     SIN INFORMACION|     1.0|             2.0|         0.0|        2.0|          0.0|                     2.0|\n",
            "|MASCULINO|    UNION LIBRE|  URBANA|       ENVIGADO| COLOMBIA|  37|         TECNOLOGICA|     1.0|             3.0|         0.0|        0.0|          0.0|                     6.0|\n",
            "|MASCULINO|     SOLTERO(A)|  URBANA|       MEDELLIN| COLOMBIA|  35|     BASICA PRIMARIA|     1.0|             0.0|         0.0|        1.0|          0.0|                     1.0|\n",
            "|MASCULINO|SIN INFORMACION|  URBANA|       ENVIGADO| COLOMBIA|   0|     SIN INFORMACION|     1.0|             2.0|         0.0|        0.0|          0.0|                     2.0|\n",
            "|MASCULINO|     SOLTERO(A)|  URBANA|       MEDELLIN| COLOMBIA|  28|         PROFESIONAL|     1.0|             0.0|         0.0|        1.0|          0.0|                     4.0|\n",
            "+---------+---------------+--------+---------------+---------+----+--------------------+--------+----------------+------------+-----------+-------------+------------------------+\n",
            "only showing top 10 rows\n",
            "\n"
          ]
        }
      ]
    },
    {
      "cell_type": "markdown",
      "source": [
        "Agrupando las columnas numericas asociadas a los predictores como el vector `features` tenemos:\n"
      ],
      "metadata": {
        "id": "CGU1u_NTi0mK"
      }
    },
    {
      "cell_type": "code",
      "source": [
        "vector_col = \"features\"\n",
        "pobAtendidaNum.dtypes[7]\n",
        "columnas_num = [c[0] for c in pobAtendidaNum.dtypes if c[1].startswith(('int','bigint','double'))]\n",
        "\n",
        "assembler = VectorAssembler(inputCols = columnas_num, outputCol = vector_col)\n",
        "# Inspeccion del resultado\n",
        "assembler.transform(pobAtendidaNum).show(5, truncate = False)"
      ],
      "metadata": {
        "colab": {
          "base_uri": "https://localhost:8080/"
        },
        "id": "ekAaoeKihwb6",
        "outputId": "4805f437-510e-418d-eb48-10db1f76eb70"
      },
      "execution_count": 27,
      "outputs": [
        {
          "output_type": "stream",
          "name": "stdout",
          "text": [
            "+---------+---------------+--------+---------------+---------+----+--------------------+--------+----------------+------------+-----------+-------------+------------------------+------------------------------+\n",
            "|SEXO     |ESTADO_CIVIL   |ZONA_RES|MUN_RES        |PAIS_NCTO|EDAD|ESCOLARIDAD_PACIENTE|SEXO_NUM|ESTADO_CIVIL_NUM|ZONA_RES_NUM|MUN_RES_NUM|PAIS_NCTO_NUM|ESCOLARIDAD_PACIENTE_NUM|features                      |\n",
            "+---------+---------------+--------+---------------+---------+----+--------------------+--------+----------------+------------+-----------+-------------+------------------------+------------------------------+\n",
            "|MASCULINO|SOLTERO(A)     |URBANA  |ZONA BANANERA  |COLOMBIA |54  |BASICA SECUNDARIA   |1.0     |0.0             |0.0         |14.0       |0.0          |0.0                     |(7,[0,1,4],[54.0,1.0,14.0])   |\n",
            "|MASCULINO|UNION LIBRE    |URBANA  |MEDELLIN       |COLOMBIA |27  |SIN INFORMACION     |1.0     |3.0             |0.0         |1.0        |0.0          |2.0                     |[27.0,1.0,3.0,0.0,1.0,0.0,2.0]|\n",
            "|MASCULINO|SIN INFORMACION|URBANA  |SIN INFORMACION|COLOMBIA |0   |SIN INFORMACION     |1.0     |2.0             |0.0         |3.0        |0.0          |2.0                     |[0.0,1.0,2.0,0.0,3.0,0.0,2.0] |\n",
            "|FEMENINO |SIN INFORMACION|URBANA  |ITAGUI         |COLOMBIA |0   |SIN INFORMACION     |0.0     |2.0             |0.0         |2.0        |0.0          |2.0                     |(7,[2,4,6],[2.0,2.0,2.0])     |\n",
            "|FEMENINO |SOLTERO(A)     |URBANA  |ITAGUI         |COLOMBIA |24  |BASICA SECUNDARIA   |0.0     |0.0             |0.0         |2.0        |0.0          |0.0                     |(7,[0,4],[24.0,2.0])          |\n",
            "+---------+---------------+--------+---------------+---------+----+--------------------+--------+----------------+------------+-----------+-------------+------------------------+------------------------------+\n",
            "only showing top 5 rows\n",
            "\n"
          ]
        }
      ]
    },
    {
      "cell_type": "code",
      "source": [
        "# Obtencion del vector de columnas numericas\n",
        "df_vector = assembler.transform(pobAtendidaNum).select(vector_col)\n",
        "df_vector.show(5, truncate = False)"
      ],
      "metadata": {
        "colab": {
          "base_uri": "https://localhost:8080/"
        },
        "id": "ZO4dPJeRl3RL",
        "outputId": "7c696abc-c6b1-4aff-9520-935a748e8a1c"
      },
      "execution_count": 28,
      "outputs": [
        {
          "output_type": "stream",
          "name": "stdout",
          "text": [
            "+------------------------------+\n",
            "|features                      |\n",
            "+------------------------------+\n",
            "|(7,[0,1,4],[54.0,1.0,14.0])   |\n",
            "|[27.0,1.0,3.0,0.0,1.0,0.0,2.0]|\n",
            "|[0.0,1.0,2.0,0.0,3.0,0.0,2.0] |\n",
            "|(7,[2,4,6],[2.0,2.0,2.0])     |\n",
            "|(7,[0,4],[24.0,2.0])          |\n",
            "+------------------------------+\n",
            "only showing top 5 rows\n",
            "\n"
          ]
        }
      ]
    },
    {
      "cell_type": "markdown",
      "source": [
        "Ahora vamos a obtener la matriz de correlacion:"
      ],
      "metadata": {
        "id": "zQSS--qYmczI"
      }
    },
    {
      "cell_type": "code",
      "source": [
        "matrix = Correlation.corr(df_vector, vector_col)\n",
        "matrix.collect()[0][\"pearson({})\".format(vector_col)].values"
      ],
      "metadata": {
        "colab": {
          "base_uri": "https://localhost:8080/"
        },
        "id": "JW1J9Qodm8i0",
        "outputId": "0c1ad732-d1d5-473d-d659-f9d14567399f"
      },
      "execution_count": 29,
      "outputs": [
        {
          "output_type": "execute_result",
          "data": {
            "text/plain": [
              "array([ 1.00000000e+00,  1.32226560e-03,  1.84375113e-01, -1.59391122e-02,\n",
              "        1.88735936e-04, -2.23239015e-02, -1.34468678e-01,  1.32226560e-03,\n",
              "        1.00000000e+00, -8.05207848e-02,  3.01751330e-03, -3.01393956e-03,\n",
              "        4.87131434e-03, -2.85487697e-02,  1.84375113e-01, -8.05207848e-02,\n",
              "        1.00000000e+00, -1.53472029e-02,  2.32973197e-02, -8.02437639e-03,\n",
              "       -2.52478000e-02, -1.59391122e-02,  3.01751330e-03, -1.53472029e-02,\n",
              "        1.00000000e+00, -1.16074365e-02, -5.27399154e-03, -9.30609172e-03,\n",
              "        1.88735936e-04, -3.01393956e-03,  2.32973197e-02, -1.16074365e-02,\n",
              "        1.00000000e+00,  4.09158661e-03, -7.77546330e-03, -2.23239015e-02,\n",
              "        4.87131434e-03, -8.02437639e-03, -5.27399154e-03,  4.09158661e-03,\n",
              "        1.00000000e+00, -1.32954659e-03, -1.34468678e-01, -2.85487697e-02,\n",
              "       -2.52478000e-02, -9.30609172e-03, -7.77546330e-03, -1.32954659e-03,\n",
              "        1.00000000e+00])"
            ]
          },
          "metadata": {},
          "execution_count": 29
        }
      ]
    },
    {
      "cell_type": "code",
      "source": [
        "import itertools\n",
        "\n",
        "pares = list(itertools.combinations(columnas_num, 2))\n",
        "for par in pares:\n",
        "  pair_corr = pobAtendidaNum.corr(*par)\n",
        "  print(f\"Corr({par}) = {pair_corr:.4f}\")\n"
      ],
      "metadata": {
        "colab": {
          "base_uri": "https://localhost:8080/"
        },
        "id": "jfpF1dbGpN0O",
        "outputId": "d9b2a37b-b578-4fd1-d2b0-30fc5c2b124d"
      },
      "execution_count": 30,
      "outputs": [
        {
          "output_type": "stream",
          "name": "stdout",
          "text": [
            "Corr(('EDAD', 'SEXO_NUM')) = 0.0013\n",
            "Corr(('EDAD', 'ESTADO_CIVIL_NUM')) = 0.1844\n",
            "Corr(('EDAD', 'ZONA_RES_NUM')) = -0.0159\n",
            "Corr(('EDAD', 'MUN_RES_NUM')) = 0.0002\n",
            "Corr(('EDAD', 'PAIS_NCTO_NUM')) = -0.0223\n",
            "Corr(('EDAD', 'ESCOLARIDAD_PACIENTE_NUM')) = -0.1345\n",
            "Corr(('SEXO_NUM', 'ESTADO_CIVIL_NUM')) = -0.0805\n",
            "Corr(('SEXO_NUM', 'ZONA_RES_NUM')) = 0.0030\n",
            "Corr(('SEXO_NUM', 'MUN_RES_NUM')) = -0.0030\n",
            "Corr(('SEXO_NUM', 'PAIS_NCTO_NUM')) = 0.0049\n",
            "Corr(('SEXO_NUM', 'ESCOLARIDAD_PACIENTE_NUM')) = -0.0285\n",
            "Corr(('ESTADO_CIVIL_NUM', 'ZONA_RES_NUM')) = -0.0153\n",
            "Corr(('ESTADO_CIVIL_NUM', 'MUN_RES_NUM')) = 0.0233\n",
            "Corr(('ESTADO_CIVIL_NUM', 'PAIS_NCTO_NUM')) = -0.0080\n",
            "Corr(('ESTADO_CIVIL_NUM', 'ESCOLARIDAD_PACIENTE_NUM')) = -0.0252\n",
            "Corr(('ZONA_RES_NUM', 'MUN_RES_NUM')) = -0.0116\n",
            "Corr(('ZONA_RES_NUM', 'PAIS_NCTO_NUM')) = -0.0053\n",
            "Corr(('ZONA_RES_NUM', 'ESCOLARIDAD_PACIENTE_NUM')) = -0.0093\n",
            "Corr(('MUN_RES_NUM', 'PAIS_NCTO_NUM')) = 0.0041\n",
            "Corr(('MUN_RES_NUM', 'ESCOLARIDAD_PACIENTE_NUM')) = -0.0078\n",
            "Corr(('PAIS_NCTO_NUM', 'ESCOLARIDAD_PACIENTE_NUM')) = -0.0013\n"
          ]
        }
      ]
    },
    {
      "cell_type": "markdown",
      "source": [
        "De acuerdo a los resultados anteriores vemos que los predictores no estan correlacionados:"
      ],
      "metadata": {
        "id": "YfolXJ88sDSO"
      }
    },
    {
      "cell_type": "markdown",
      "source": [
        "### **5.Tratamiendo de ouliers**"
      ],
      "metadata": {
        "id": "PznuLNW2siQy"
      }
    },
    {
      "cell_type": "markdown",
      "source": [
        "Para este problema se va a tratar como outliers a:\n",
        "* Poblacion de mas de 100 años ya que esta es muy escaza.\n",
        "* Pais de nacimiento pues la gran mayoria nacen en Colombia.\n",
        "* Zona residencial (urbana/rural) pues la mayoria de la población es urbana\n"
      ],
      "metadata": {
        "id": "7AzmfXVO7XFo"
      }
    },
    {
      "cell_type": "code",
      "source": [
        "pobAtendidaNum.count()"
      ],
      "metadata": {
        "colab": {
          "base_uri": "https://localhost:8080/"
        },
        "id": "zttBozIm9HSm",
        "outputId": "dcde1f9a-1f2e-4821-a79e-7f1a4f0be69a"
      },
      "execution_count": 31,
      "outputs": [
        {
          "output_type": "execute_result",
          "data": {
            "text/plain": [
              "55962"
            ]
          },
          "metadata": {},
          "execution_count": 31
        }
      ]
    },
    {
      "cell_type": "code",
      "source": [
        "# Se quitan los que son mayores que 100\n",
        "pobAtendidaNum_filtrada = pobAtendidaNum.filter(pobAtendidaNum['EDAD'] <= 100)\n",
        "pobAtendidaNum_filtrada.count()"
      ],
      "metadata": {
        "colab": {
          "base_uri": "https://localhost:8080/"
        },
        "id": "bBu10NCx9Rzx",
        "outputId": "01c4d5e4-03be-471c-ee03-b1cc48b1d6c7"
      },
      "execution_count": 32,
      "outputs": [
        {
          "output_type": "execute_result",
          "data": {
            "text/plain": [
              "55948"
            ]
          },
          "metadata": {},
          "execution_count": 32
        }
      ]
    },
    {
      "cell_type": "code",
      "source": [
        "pobAtendidaNum_filtrada.show(5)"
      ],
      "metadata": {
        "colab": {
          "base_uri": "https://localhost:8080/"
        },
        "id": "ditaWtHyG8e3",
        "outputId": "eb655d8d-18de-4659-f5c3-9e7cab719e51"
      },
      "execution_count": 33,
      "outputs": [
        {
          "output_type": "stream",
          "name": "stdout",
          "text": [
            "+---------+---------------+--------+---------------+---------+----+--------------------+--------+----------------+------------+-----------+-------------+------------------------+\n",
            "|     SEXO|   ESTADO_CIVIL|ZONA_RES|        MUN_RES|PAIS_NCTO|EDAD|ESCOLARIDAD_PACIENTE|SEXO_NUM|ESTADO_CIVIL_NUM|ZONA_RES_NUM|MUN_RES_NUM|PAIS_NCTO_NUM|ESCOLARIDAD_PACIENTE_NUM|\n",
            "+---------+---------------+--------+---------------+---------+----+--------------------+--------+----------------+------------+-----------+-------------+------------------------+\n",
            "|MASCULINO|     SOLTERO(A)|  URBANA|  ZONA BANANERA| COLOMBIA|  54|   BASICA SECUNDARIA|     1.0|             0.0|         0.0|       14.0|          0.0|                     0.0|\n",
            "|MASCULINO|    UNION LIBRE|  URBANA|       MEDELLIN| COLOMBIA|  27|     SIN INFORMACION|     1.0|             3.0|         0.0|        1.0|          0.0|                     2.0|\n",
            "|MASCULINO|SIN INFORMACION|  URBANA|SIN INFORMACION| COLOMBIA|   0|     SIN INFORMACION|     1.0|             2.0|         0.0|        3.0|          0.0|                     2.0|\n",
            "| FEMENINO|SIN INFORMACION|  URBANA|         ITAGUI| COLOMBIA|   0|     SIN INFORMACION|     0.0|             2.0|         0.0|        2.0|          0.0|                     2.0|\n",
            "| FEMENINO|     SOLTERO(A)|  URBANA|         ITAGUI| COLOMBIA|  24|   BASICA SECUNDARIA|     0.0|             0.0|         0.0|        2.0|          0.0|                     0.0|\n",
            "+---------+---------------+--------+---------------+---------+----+--------------------+--------+----------------+------------+-----------+-------------+------------------------+\n",
            "only showing top 5 rows\n",
            "\n"
          ]
        }
      ]
    },
    {
      "cell_type": "code",
      "source": [
        "# Se quitan las personas nacidas fuera de colombia\n",
        "columnas_drop = ['PAIS_NCTO', 'PAIS_NCTO_NUM','ZONA_RES', 'ZONA_RES_NUM']\n",
        "pobAtendidaNum_filtrada = pobAtendidaNum_filtrada.drop(*columnas_drop)\n"
      ],
      "metadata": {
        "id": "U7DiU4GV-Hm4"
      },
      "execution_count": 34,
      "outputs": []
    },
    {
      "cell_type": "code",
      "source": [
        "pobAtendidaNum_filtrada.show(5)"
      ],
      "metadata": {
        "colab": {
          "base_uri": "https://localhost:8080/"
        },
        "id": "30-oN-4YHX9a",
        "outputId": "19ec2f87-5da2-4c29-ded5-315b15709fe6"
      },
      "execution_count": 35,
      "outputs": [
        {
          "output_type": "stream",
          "name": "stdout",
          "text": [
            "+---------+---------------+---------------+----+--------------------+--------+----------------+-----------+------------------------+\n",
            "|     SEXO|   ESTADO_CIVIL|        MUN_RES|EDAD|ESCOLARIDAD_PACIENTE|SEXO_NUM|ESTADO_CIVIL_NUM|MUN_RES_NUM|ESCOLARIDAD_PACIENTE_NUM|\n",
            "+---------+---------------+---------------+----+--------------------+--------+----------------+-----------+------------------------+\n",
            "|MASCULINO|     SOLTERO(A)|  ZONA BANANERA|  54|   BASICA SECUNDARIA|     1.0|             0.0|       14.0|                     0.0|\n",
            "|MASCULINO|    UNION LIBRE|       MEDELLIN|  27|     SIN INFORMACION|     1.0|             3.0|        1.0|                     2.0|\n",
            "|MASCULINO|SIN INFORMACION|SIN INFORMACION|   0|     SIN INFORMACION|     1.0|             2.0|        3.0|                     2.0|\n",
            "| FEMENINO|SIN INFORMACION|         ITAGUI|   0|     SIN INFORMACION|     0.0|             2.0|        2.0|                     2.0|\n",
            "| FEMENINO|     SOLTERO(A)|         ITAGUI|  24|   BASICA SECUNDARIA|     0.0|             0.0|        2.0|                     0.0|\n",
            "+---------+---------------+---------------+----+--------------------+--------+----------------+-----------+------------------------+\n",
            "only showing top 5 rows\n",
            "\n"
          ]
        }
      ]
    },
    {
      "cell_type": "markdown",
      "source": [
        "Ahora vamos a filtrar por edades (variable numerica) usando el rango intercuantilico:\n"
      ],
      "metadata": {
        "id": "qirPA8Z2LpBx"
      }
    },
    {
      "cell_type": "code",
      "source": [
        "pobAtendidaNum_filtrada.select('EDAD').summary().show()"
      ],
      "metadata": {
        "colab": {
          "base_uri": "https://localhost:8080/"
        },
        "id": "BVF3fD8HAP2u",
        "outputId": "49f944b7-70f4-43d0-a8be-8d6b8be2eba1"
      },
      "execution_count": 36,
      "outputs": [
        {
          "output_type": "stream",
          "name": "stdout",
          "text": [
            "+-------+------------------+\n",
            "|summary|              EDAD|\n",
            "+-------+------------------+\n",
            "|  count|             55948|\n",
            "|   mean|41.746049903481804|\n",
            "| stddev|23.145006217250327|\n",
            "|    min|                 0|\n",
            "|    25%|                24|\n",
            "|    50%|                39|\n",
            "|    75%|                60|\n",
            "|    max|               100|\n",
            "+-------+------------------+\n",
            "\n"
          ]
        }
      ]
    },
    {
      "cell_type": "code",
      "source": [
        "# Calculo de los valores usados para filtrar\n",
        "Q1 = float(pobAtendidaNum_filtrada.select('EDAD').summary().collect()[4][1])\n",
        "Q3 = float(pobAtendidaNum_filtrada.select('EDAD').summary().collect()[6][1])\n",
        "IQR = Q3 - Q1\n",
        "lim_inf = Q1 - 1.5 * IQR\n",
        "lim_sup = Q3 + 1.5 * IQR\n",
        "print(f\"Q1: {Q1}\")\n",
        "print(f\"Q3: {Q3}\")\n",
        "print(f\"IQR: {IQR}\")\n",
        "print(f\"Limite inferior: {lim_inf}\")\n",
        "print(f\"Limite superior: {lim_sup}\")\n",
        "# Filtrado\n",
        "pobAtendidaNum_filtrada = pobAtendidaNum_filtrada.filter((pobAtendidaNum_filtrada['EDAD'] > lim_inf) & (pobAtendidaNum_filtrada['EDAD'] < lim_sup))\n",
        "print(f\"Numero de filas: {pobAtendidaNum_filtrada.count()}\")"
      ],
      "metadata": {
        "colab": {
          "base_uri": "https://localhost:8080/"
        },
        "id": "ALn3M0_b_6NJ",
        "outputId": "55e27a00-723c-4d81-f0bf-c042b4f8d949"
      },
      "execution_count": 37,
      "outputs": [
        {
          "output_type": "stream",
          "name": "stdout",
          "text": [
            "Q1: 24.0\n",
            "Q3: 60.0\n",
            "IQR: 36.0\n",
            "Limite inferior: -30.0\n",
            "Limite superior: 114.0\n",
            "Numero de filas: 55948\n"
          ]
        }
      ]
    },
    {
      "cell_type": "markdown",
      "source": [
        "De la salida anterior, vemos que no se filtro nada debido a que ya se había filtrado los datos conciderados como outliers"
      ],
      "metadata": {
        "id": "79IHSzMyNyDL"
      }
    },
    {
      "cell_type": "code",
      "source": [
        "pobAtendidaNum_filtrada.show(5)"
      ],
      "metadata": {
        "colab": {
          "base_uri": "https://localhost:8080/"
        },
        "id": "erjmGlOAN22f",
        "outputId": "fc39c7ff-ba25-4ada-9d5d-58e89fb400cf"
      },
      "execution_count": 38,
      "outputs": [
        {
          "output_type": "stream",
          "name": "stdout",
          "text": [
            "+---------+---------------+---------------+----+--------------------+--------+----------------+-----------+------------------------+\n",
            "|     SEXO|   ESTADO_CIVIL|        MUN_RES|EDAD|ESCOLARIDAD_PACIENTE|SEXO_NUM|ESTADO_CIVIL_NUM|MUN_RES_NUM|ESCOLARIDAD_PACIENTE_NUM|\n",
            "+---------+---------------+---------------+----+--------------------+--------+----------------+-----------+------------------------+\n",
            "|MASCULINO|     SOLTERO(A)|  ZONA BANANERA|  54|   BASICA SECUNDARIA|     1.0|             0.0|       14.0|                     0.0|\n",
            "|MASCULINO|    UNION LIBRE|       MEDELLIN|  27|     SIN INFORMACION|     1.0|             3.0|        1.0|                     2.0|\n",
            "|MASCULINO|SIN INFORMACION|SIN INFORMACION|   0|     SIN INFORMACION|     1.0|             2.0|        3.0|                     2.0|\n",
            "| FEMENINO|SIN INFORMACION|         ITAGUI|   0|     SIN INFORMACION|     0.0|             2.0|        2.0|                     2.0|\n",
            "| FEMENINO|     SOLTERO(A)|         ITAGUI|  24|   BASICA SECUNDARIA|     0.0|             0.0|        2.0|                     0.0|\n",
            "+---------+---------------+---------------+----+--------------------+--------+----------------+-----------+------------------------+\n",
            "only showing top 5 rows\n",
            "\n"
          ]
        }
      ]
    },
    {
      "cell_type": "code",
      "source": [
        "# cached antes de empezar\n",
        "pobAtendidaNum.unpersist()\n",
        "print(pobAtendidaNum.is_cached)\n",
        "df_cached = pobAtendidaNum_filtrada.cache()\n",
        "df_cached.show(5)"
      ],
      "metadata": {
        "colab": {
          "base_uri": "https://localhost:8080/"
        },
        "id": "xE05dyHmavHV",
        "outputId": "d69c8829-fdc5-40c9-d0ce-19b70ac342f5"
      },
      "execution_count": 39,
      "outputs": [
        {
          "output_type": "stream",
          "name": "stdout",
          "text": [
            "False\n",
            "+---------+---------------+---------------+----+--------------------+--------+----------------+-----------+------------------------+\n",
            "|     SEXO|   ESTADO_CIVIL|        MUN_RES|EDAD|ESCOLARIDAD_PACIENTE|SEXO_NUM|ESTADO_CIVIL_NUM|MUN_RES_NUM|ESCOLARIDAD_PACIENTE_NUM|\n",
            "+---------+---------------+---------------+----+--------------------+--------+----------------+-----------+------------------------+\n",
            "|MASCULINO|     SOLTERO(A)|  ZONA BANANERA|  54|   BASICA SECUNDARIA|     1.0|             0.0|       14.0|                     0.0|\n",
            "|MASCULINO|    UNION LIBRE|       MEDELLIN|  27|     SIN INFORMACION|     1.0|             3.0|        1.0|                     2.0|\n",
            "|MASCULINO|SIN INFORMACION|SIN INFORMACION|   0|     SIN INFORMACION|     1.0|             2.0|        3.0|                     2.0|\n",
            "| FEMENINO|SIN INFORMACION|         ITAGUI|   0|     SIN INFORMACION|     0.0|             2.0|        2.0|                     2.0|\n",
            "| FEMENINO|     SOLTERO(A)|         ITAGUI|  24|   BASICA SECUNDARIA|     0.0|             0.0|        2.0|                     0.0|\n",
            "+---------+---------------+---------------+----+--------------------+--------+----------------+-----------+------------------------+\n",
            "only showing top 5 rows\n",
            "\n"
          ]
        }
      ]
    },
    {
      "cell_type": "markdown",
      "source": [
        "### **6. Tratamiento de datos nulos**\n",
        "\n",
        "Segun analisis realizados con anterioridad el dataset no tiene datos nulos por lo que no es necesario realizar imputacion."
      ],
      "metadata": {
        "id": "pn_1VgcRpHtP"
      }
    },
    {
      "cell_type": "markdown",
      "source": [
        "La edad que es una variable numérica, podríamos discretizarla para volverla categórica."
      ],
      "metadata": {
        "id": "D1mlhKdlya-y"
      }
    },
    {
      "cell_type": "markdown",
      "source": [
        "### **7. Transformación de variables desde las reglas del negocio**\n",
        "\n",
        "En esta parte se puede hacer:\n",
        "* **Discretización o Binning**: convertir de número a categoría\n",
        "* **Crear variables Dummy**: convertir de categoría a número"
      ],
      "metadata": {
        "id": "Y9gc9XqRqq1j"
      }
    },
    {
      "cell_type": "markdown",
      "source": [
        "Para nuestro caso, vamos a definir las siguintes categorias ([link](https://www.minsalud.gov.co/proteccionsocial/Paginas/cicloVida.aspx)):\n",
        "* Primera Infancia (0 - 5 años)\n",
        "* Infancia (6 - 11 años)\n",
        "* Adolescencia (12 - 18 años)\n",
        "* Juventud (14 - 26 años)\n",
        "* Adultez (27- 59 años)\n",
        "* Persona Mayor (60 años o mas) envejecimiento y vejez"
      ],
      "metadata": {
        "id": "Wd16t58IH748"
      }
    },
    {
      "cell_type": "code",
      "source": [
        "# Definir una función para categorizar\n",
        "def categorizar(value):\n",
        "    if value <= 5:\n",
        "        return 0\n",
        "    elif value <= 12:\n",
        "        return 1\n",
        "    elif value <= 18:\n",
        "        return 2\n",
        "    elif value <= 26:\n",
        "        return 3\n",
        "    elif value <= 59:\n",
        "        return 4\n",
        "    else:\n",
        "        return 5\n",
        "\n",
        "# Convertir la función en una UDF (User-Defined Function)\n",
        "categorize_udf = udf(categorizar, IntegerType())"
      ],
      "metadata": {
        "id": "qrX3rscqIdJx"
      },
      "execution_count": 40,
      "outputs": []
    },
    {
      "cell_type": "code",
      "source": [
        "df_cached = df_cached.withColumn(\"EDAD_CAT\", categorize_udf(F.col(\"EDAD\")))"
      ],
      "metadata": {
        "id": "V-d5tlEwJwyC"
      },
      "execution_count": 41,
      "outputs": []
    },
    {
      "cell_type": "code",
      "source": [
        "df_cached.show(5)"
      ],
      "metadata": {
        "colab": {
          "base_uri": "https://localhost:8080/"
        },
        "id": "eYSCpemnGAjX",
        "outputId": "8ee4642b-9a0b-4631-9124-538b4dbbc464"
      },
      "execution_count": 42,
      "outputs": [
        {
          "output_type": "stream",
          "name": "stdout",
          "text": [
            "+---------+---------------+---------------+----+--------------------+--------+----------------+-----------+------------------------+--------+\n",
            "|     SEXO|   ESTADO_CIVIL|        MUN_RES|EDAD|ESCOLARIDAD_PACIENTE|SEXO_NUM|ESTADO_CIVIL_NUM|MUN_RES_NUM|ESCOLARIDAD_PACIENTE_NUM|EDAD_CAT|\n",
            "+---------+---------------+---------------+----+--------------------+--------+----------------+-----------+------------------------+--------+\n",
            "|MASCULINO|     SOLTERO(A)|  ZONA BANANERA|  54|   BASICA SECUNDARIA|     1.0|             0.0|       14.0|                     0.0|       4|\n",
            "|MASCULINO|    UNION LIBRE|       MEDELLIN|  27|     SIN INFORMACION|     1.0|             3.0|        1.0|                     2.0|       4|\n",
            "|MASCULINO|SIN INFORMACION|SIN INFORMACION|   0|     SIN INFORMACION|     1.0|             2.0|        3.0|                     2.0|       0|\n",
            "| FEMENINO|SIN INFORMACION|         ITAGUI|   0|     SIN INFORMACION|     0.0|             2.0|        2.0|                     2.0|       0|\n",
            "| FEMENINO|     SOLTERO(A)|         ITAGUI|  24|   BASICA SECUNDARIA|     0.0|             0.0|        2.0|                     0.0|       3|\n",
            "+---------+---------------+---------------+----+--------------------+--------+----------------+-----------+------------------------+--------+\n",
            "only showing top 5 rows\n",
            "\n"
          ]
        }
      ]
    },
    {
      "cell_type": "markdown",
      "source": [
        "Creando el vector caracteristico"
      ],
      "metadata": {
        "id": "SVxOIKkIiYlj"
      }
    },
    {
      "cell_type": "code",
      "source": [
        "# cols_cats = [\"EDAD_CAT\", \"ESTADO_CIVIL_NUM\", \"ZONA_RES_NUM\", \"MUN_RES_NUM\", \"PAIS_NCTO_NUM\",\"ESCOLARIDAD_PACIENTE_NUM\"]\n",
        "cols_cats = [\"EDAD_CAT\", \"SEXO_NUM\", \"ESTADO_CIVIL_NUM\", \"MUN_RES_NUM\", \"ESCOLARIDAD_PACIENTE_NUM\"]\n",
        "assembler = VectorAssembler(inputCols = cols_cats, outputCol=\"FEATURES\")\n",
        "vector_features = assembler.transform(df_cached)\n",
        "vector_features.show(5, truncate = False)"
      ],
      "metadata": {
        "colab": {
          "base_uri": "https://localhost:8080/"
        },
        "id": "38A2kLTgUmfz",
        "outputId": "bf78f96b-d9e3-4d85-ec72-b7cf15b13e4f"
      },
      "execution_count": 43,
      "outputs": [
        {
          "output_type": "stream",
          "name": "stdout",
          "text": [
            "+---------+---------------+---------------+----+--------------------+--------+----------------+-----------+------------------------+--------+----------------------+\n",
            "|SEXO     |ESTADO_CIVIL   |MUN_RES        |EDAD|ESCOLARIDAD_PACIENTE|SEXO_NUM|ESTADO_CIVIL_NUM|MUN_RES_NUM|ESCOLARIDAD_PACIENTE_NUM|EDAD_CAT|FEATURES              |\n",
            "+---------+---------------+---------------+----+--------------------+--------+----------------+-----------+------------------------+--------+----------------------+\n",
            "|MASCULINO|SOLTERO(A)     |ZONA BANANERA  |54  |BASICA SECUNDARIA   |1.0     |0.0             |14.0       |0.0                     |4       |[4.0,1.0,0.0,14.0,0.0]|\n",
            "|MASCULINO|UNION LIBRE    |MEDELLIN       |27  |SIN INFORMACION     |1.0     |3.0             |1.0        |2.0                     |4       |[4.0,1.0,3.0,1.0,2.0] |\n",
            "|MASCULINO|SIN INFORMACION|SIN INFORMACION|0   |SIN INFORMACION     |1.0     |2.0             |3.0        |2.0                     |0       |[0.0,1.0,2.0,3.0,2.0] |\n",
            "|FEMENINO |SIN INFORMACION|ITAGUI         |0   |SIN INFORMACION     |0.0     |2.0             |2.0        |2.0                     |0       |[0.0,0.0,2.0,2.0,2.0] |\n",
            "|FEMENINO |SOLTERO(A)     |ITAGUI         |24  |BASICA SECUNDARIA   |0.0     |0.0             |2.0        |0.0                     |3       |(5,[0,3],[3.0,2.0])   |\n",
            "+---------+---------------+---------------+----+--------------------+--------+----------------+-----------+------------------------+--------+----------------------+\n",
            "only showing top 5 rows\n",
            "\n"
          ]
        }
      ]
    },
    {
      "cell_type": "code",
      "source": [
        "df_cached.unpersist()"
      ],
      "metadata": {
        "id": "4P2aOVWqklKP",
        "colab": {
          "base_uri": "https://localhost:8080/"
        },
        "outputId": "a240728d-ef24-4533-a777-4db9f6188594"
      },
      "execution_count": 44,
      "outputs": [
        {
          "output_type": "execute_result",
          "data": {
            "text/plain": [
              "DataFrame[SEXO: string, ESTADO_CIVIL: string, MUN_RES: string, EDAD: int, ESCOLARIDAD_PACIENTE: string, SEXO_NUM: double, ESTADO_CIVIL_NUM: double, MUN_RES_NUM: double, ESCOLARIDAD_PACIENTE_NUM: double, EDAD_CAT: int]"
            ]
          },
          "metadata": {},
          "execution_count": 44
        }
      ]
    },
    {
      "cell_type": "markdown",
      "metadata": {
        "id": "pDX41ab4LO7g"
      },
      "source": [
        "## **B) Análisis Descriptivo**\n",
        "\n",
        "Cree un modelo de Kmeans que permitan describir los tipos de pacientes del hospital"
      ]
    },
    {
      "cell_type": "markdown",
      "source": [
        "### **1. Preparar**"
      ],
      "metadata": {
        "id": "IHqPhQPxsqvD"
      }
    },
    {
      "cell_type": "code",
      "source": [
        "df_cached.is_cached"
      ],
      "metadata": {
        "colab": {
          "base_uri": "https://localhost:8080/"
        },
        "id": "g3GiSeMOuIDH",
        "outputId": "38bda783-aa4d-4e09-88a7-68dc68ae719f"
      },
      "execution_count": 45,
      "outputs": [
        {
          "output_type": "execute_result",
          "data": {
            "text/plain": [
              "False"
            ]
          },
          "metadata": {},
          "execution_count": 45
        }
      ]
    },
    {
      "cell_type": "code",
      "source": [
        "df_cached.show(5)"
      ],
      "metadata": {
        "colab": {
          "base_uri": "https://localhost:8080/"
        },
        "id": "2KNro5CltLpQ",
        "outputId": "1ff1e3eb-0219-40b2-b9b5-3be4c49674ea"
      },
      "execution_count": 46,
      "outputs": [
        {
          "output_type": "stream",
          "name": "stdout",
          "text": [
            "+---------+---------------+---------------+----+--------------------+--------+----------------+-----------+------------------------+--------+\n",
            "|     SEXO|   ESTADO_CIVIL|        MUN_RES|EDAD|ESCOLARIDAD_PACIENTE|SEXO_NUM|ESTADO_CIVIL_NUM|MUN_RES_NUM|ESCOLARIDAD_PACIENTE_NUM|EDAD_CAT|\n",
            "+---------+---------------+---------------+----+--------------------+--------+----------------+-----------+------------------------+--------+\n",
            "|MASCULINO|     SOLTERO(A)|  ZONA BANANERA|  54|   BASICA SECUNDARIA|     1.0|             0.0|       14.0|                     0.0|       4|\n",
            "|MASCULINO|    UNION LIBRE|       MEDELLIN|  27|     SIN INFORMACION|     1.0|             3.0|        1.0|                     2.0|       4|\n",
            "|MASCULINO|SIN INFORMACION|SIN INFORMACION|   0|     SIN INFORMACION|     1.0|             2.0|        3.0|                     2.0|       0|\n",
            "| FEMENINO|SIN INFORMACION|         ITAGUI|   0|     SIN INFORMACION|     0.0|             2.0|        2.0|                     2.0|       0|\n",
            "| FEMENINO|     SOLTERO(A)|         ITAGUI|  24|   BASICA SECUNDARIA|     0.0|             0.0|        2.0|                     0.0|       3|\n",
            "+---------+---------------+---------------+----+--------------------+--------+----------------+-----------+------------------------+--------+\n",
            "only showing top 5 rows\n",
            "\n"
          ]
        }
      ]
    },
    {
      "cell_type": "code",
      "source": [
        "# Creacion de una columna vectorizada con las features\n",
        "assembler = VectorAssembler(inputCols = cols_cats , outputCol=\"FEATURES\")\n",
        "vector_features = assembler.transform(df_cached)\n",
        "vector_features.show()"
      ],
      "metadata": {
        "colab": {
          "base_uri": "https://localhost:8080/"
        },
        "id": "vBUMrcjbtfTC",
        "outputId": "283220b8-5fb7-494d-ed19-10747d5f0669"
      },
      "execution_count": 47,
      "outputs": [
        {
          "output_type": "stream",
          "name": "stdout",
          "text": [
            "+---------+---------------+---------------+----+--------------------+--------+----------------+-----------+------------------------+--------+--------------------+\n",
            "|     SEXO|   ESTADO_CIVIL|        MUN_RES|EDAD|ESCOLARIDAD_PACIENTE|SEXO_NUM|ESTADO_CIVIL_NUM|MUN_RES_NUM|ESCOLARIDAD_PACIENTE_NUM|EDAD_CAT|            FEATURES|\n",
            "+---------+---------------+---------------+----+--------------------+--------+----------------+-----------+------------------------+--------+--------------------+\n",
            "|MASCULINO|     SOLTERO(A)|  ZONA BANANERA|  54|   BASICA SECUNDARIA|     1.0|             0.0|       14.0|                     0.0|       4|[4.0,1.0,0.0,14.0...|\n",
            "|MASCULINO|    UNION LIBRE|       MEDELLIN|  27|     SIN INFORMACION|     1.0|             3.0|        1.0|                     2.0|       4|[4.0,1.0,3.0,1.0,...|\n",
            "|MASCULINO|SIN INFORMACION|SIN INFORMACION|   0|     SIN INFORMACION|     1.0|             2.0|        3.0|                     2.0|       0|[0.0,1.0,2.0,3.0,...|\n",
            "| FEMENINO|SIN INFORMACION|         ITAGUI|   0|     SIN INFORMACION|     0.0|             2.0|        2.0|                     2.0|       0|[0.0,0.0,2.0,2.0,...|\n",
            "| FEMENINO|     SOLTERO(A)|         ITAGUI|  24|   BASICA SECUNDARIA|     0.0|             0.0|        2.0|                     0.0|       3| (5,[0,3],[3.0,2.0])|\n",
            "|MASCULINO|SIN INFORMACION|         ITAGUI|   0|     SIN INFORMACION|     1.0|             2.0|        2.0|                     2.0|       0|[0.0,1.0,2.0,2.0,...|\n",
            "|MASCULINO|    UNION LIBRE|       ENVIGADO|  37|         TECNOLOGICA|     1.0|             3.0|        0.0|                     6.0|       4|[4.0,1.0,3.0,0.0,...|\n",
            "|MASCULINO|     SOLTERO(A)|       MEDELLIN|  35|     BASICA PRIMARIA|     1.0|             0.0|        1.0|                     1.0|       4|[4.0,1.0,0.0,1.0,...|\n",
            "|MASCULINO|SIN INFORMACION|       ENVIGADO|   0|     SIN INFORMACION|     1.0|             2.0|        0.0|                     2.0|       0|[0.0,1.0,2.0,0.0,...|\n",
            "|MASCULINO|     SOLTERO(A)|       MEDELLIN|  28|         PROFESIONAL|     1.0|             0.0|        1.0|                     4.0|       4|[4.0,1.0,0.0,1.0,...|\n",
            "| FEMENINO|SIN INFORMACION|SIN INFORMACION|  33|     SIN INFORMACION|     0.0|             2.0|        3.0|                     2.0|       4|[4.0,0.0,2.0,3.0,...|\n",
            "| FEMENINO|SIN INFORMACION|SIN INFORMACION|  27|     SIN INFORMACION|     0.0|             2.0|        3.0|                     2.0|       4|[4.0,0.0,2.0,3.0,...|\n",
            "|MASCULINO|     SOLTERO(A)|         BAGADO|  30|     SIN INFORMACION|     1.0|             0.0|       81.0|                     2.0|       4|[4.0,1.0,0.0,81.0...|\n",
            "| FEMENINO|SIN INFORMACION|       ENVIGADO|  37|     SIN INFORMACION|     0.0|             2.0|        0.0|                     2.0|       4|[4.0,0.0,2.0,0.0,...|\n",
            "| FEMENINO|    UNION LIBRE|          BELLO|  27|   BASICA SECUNDARIA|     0.0|             3.0|        6.0|                     0.0|       4|[4.0,0.0,3.0,6.0,...|\n",
            "|MASCULINO|      CASADO(A)|       ENVIGADO|  78|   BASICA SECUNDARIA|     1.0|             1.0|        0.0|                     0.0|       5|[5.0,1.0,1.0,0.0,...|\n",
            "| FEMENINO|SIN INFORMACION|SIN INFORMACION|  20|     SIN INFORMACION|     0.0|             2.0|        3.0|                     2.0|       3|[3.0,0.0,2.0,3.0,...|\n",
            "|MASCULINO|    UNION LIBRE|       ENVIGADO|  53|   BASICA SECUNDARIA|     1.0|             3.0|        0.0|                     0.0|       4|[4.0,1.0,3.0,0.0,...|\n",
            "| FEMENINO|    UNION LIBRE|       ENVIGADO|  33|   BASICA SECUNDARIA|     0.0|             3.0|        0.0|                     0.0|       4| (5,[0,2],[4.0,3.0])|\n",
            "| FEMENINO|     SOLTERO(A)|       ENVIGADO|  18|   BASICA SECUNDARIA|     0.0|             0.0|        0.0|                     0.0|       2|       (5,[0],[2.0])|\n",
            "+---------+---------------+---------------+----+--------------------+--------+----------------+-----------+------------------------+--------+--------------------+\n",
            "only showing top 20 rows\n",
            "\n"
          ]
        }
      ]
    },
    {
      "cell_type": "markdown",
      "source": [
        "Obtencion del vector caracteristico:"
      ],
      "metadata": {
        "id": "O7U-GkdPt32_"
      }
    },
    {
      "cell_type": "code",
      "source": [
        "vdata = vector_features.select(\"FEATURES\").cache()\n",
        "vdata.is_cached"
      ],
      "metadata": {
        "colab": {
          "base_uri": "https://localhost:8080/"
        },
        "id": "ZmJUrWpMtwht",
        "outputId": "0041bfc7-ea8f-4a89-a25c-ecb63f8e91de"
      },
      "execution_count": 48,
      "outputs": [
        {
          "output_type": "execute_result",
          "data": {
            "text/plain": [
              "True"
            ]
          },
          "metadata": {},
          "execution_count": 48
        }
      ]
    },
    {
      "cell_type": "code",
      "source": [
        "vdata.show(5, truncate = False)"
      ],
      "metadata": {
        "colab": {
          "base_uri": "https://localhost:8080/"
        },
        "id": "Jzju23_AuOh3",
        "outputId": "a39c3d84-edcd-4472-fb06-a851eb2595be"
      },
      "execution_count": 49,
      "outputs": [
        {
          "output_type": "stream",
          "name": "stdout",
          "text": [
            "+----------------------+\n",
            "|FEATURES              |\n",
            "+----------------------+\n",
            "|[4.0,1.0,0.0,14.0,0.0]|\n",
            "|[4.0,1.0,3.0,1.0,2.0] |\n",
            "|[0.0,1.0,2.0,3.0,2.0] |\n",
            "|[0.0,0.0,2.0,2.0,2.0] |\n",
            "|(5,[0,3],[3.0,2.0])   |\n",
            "+----------------------+\n",
            "only showing top 5 rows\n",
            "\n"
          ]
        }
      ]
    },
    {
      "cell_type": "code",
      "source": [
        "vdata.count()"
      ],
      "metadata": {
        "colab": {
          "base_uri": "https://localhost:8080/"
        },
        "id": "rpDqNgRFMUFb",
        "outputId": "b80864db-427b-41b4-d486-9b7b9486e4ac"
      },
      "execution_count": 50,
      "outputs": [
        {
          "output_type": "execute_result",
          "data": {
            "text/plain": [
              "55948"
            ]
          },
          "metadata": {},
          "execution_count": 50
        }
      ]
    },
    {
      "cell_type": "markdown",
      "source": [
        "### **2. Modelar**"
      ],
      "metadata": {
        "id": "qYubWRDCuZ4s"
      }
    },
    {
      "cell_type": "markdown",
      "source": [
        "Inicialmente vamos a emplear el método del codo para encontrar el numero ideal de clusters."
      ],
      "metadata": {
        "id": "GSRHJwyIukVy"
      }
    },
    {
      "cell_type": "code",
      "source": [
        "from pyspark.ml.clustering import KMeans\n",
        "kini = 2; kfin = 20\n",
        "ks = range(kini, kfin + 1)\n",
        "costo=[]\n",
        "DIST = 'euclidean'\n",
        "for k in range(kini, kfin + 1):\n",
        "    kmeans= KMeans( featuresCol='FEATURES', k=k, predictionCol='CLUSTER', distanceMeasure = DIST)\n",
        "    model = kmeans.fit(vdata)\n",
        "    costo.append(model.summary.trainingCost)\n",
        "plt.plot(ks, costo, '-o')\n",
        "plt.title('Método del codo')\n",
        "plt.xlabel('Número de clusters')\n",
        "plt.ylabel('costo')\n",
        "plt.xticks(ks)\n",
        "plt.show()"
      ],
      "metadata": {
        "colab": {
          "base_uri": "https://localhost:8080/",
          "height": 472
        },
        "id": "GzP2MrNyzhcE",
        "outputId": "da705aaf-cb79-45df-dab1-56d83ee75523"
      },
      "execution_count": 51,
      "outputs": [
        {
          "output_type": "display_data",
          "data": {
            "text/plain": [
              "<Figure size 640x480 with 1 Axes>"
            ],
            "image/png": "[encoded data removed]"
          },
          "metadata": {}
        }
      ]
    },
    {
      "cell_type": "markdown",
      "source": [
        "Elijamos $k = 10$ como numero de centroides"
      ],
      "metadata": {
        "id": "ljG_k0ag0CRp"
      }
    },
    {
      "cell_type": "code",
      "source": [
        "K = 10\n",
        "km = KMeans(featuresCol='FEATURES', k = K, predictionCol='CLUSTER', distanceMeasure = DIST)\n",
        "km_model = km.fit(vdata)"
      ],
      "metadata": {
        "id": "uhi0NIY7mKyz"
      },
      "execution_count": 52,
      "outputs": []
    },
    {
      "cell_type": "markdown",
      "source": [
        "Veamos la ubicación de los centroides para cada cluster:"
      ],
      "metadata": {
        "id": "ONSYpq2Nv7kl"
      }
    },
    {
      "cell_type": "code",
      "source": [
        "cols_cats"
      ],
      "metadata": {
        "colab": {
          "base_uri": "https://localhost:8080/"
        },
        "id": "lGWUU74NFWCG",
        "outputId": "fe2a5f0d-55d3-401a-b0ea-34a738601b22"
      },
      "execution_count": 53,
      "outputs": [
        {
          "output_type": "execute_result",
          "data": {
            "text/plain": [
              "['EDAD_CAT',\n",
              " 'SEXO_NUM',\n",
              " 'ESTADO_CIVIL_NUM',\n",
              " 'MUN_RES_NUM',\n",
              " 'ESCOLARIDAD_PACIENTE_NUM']"
            ]
          },
          "metadata": {},
          "execution_count": 53
        }
      ]
    },
    {
      "cell_type": "code",
      "source": [
        "centers = km_model.clusterCenters()\n",
        "print(\"Centroides: \")\n",
        "for center in centers:\n",
        "  centerR=[round(num, 0) for num in center]\n",
        "  print(centerR)\n",
        "print(\"Variables\")\n",
        "vdata.columns"
      ],
      "metadata": {
        "colab": {
          "base_uri": "https://localhost:8080/"
        },
        "id": "4e-qGUSyv2ll",
        "outputId": "4128a1e8-5371-486f-b181-aed82da09008"
      },
      "execution_count": 54,
      "outputs": [
        {
          "output_type": "stream",
          "name": "stdout",
          "text": [
            "Centroides: \n",
            "[4.0, 0.0, 0.0, 0.0, 1.0]\n",
            "[4.0, 0.0, 2.0, 51.0, 2.0]\n",
            "[4.0, 0.0, 1.0, 24.0, 2.0]\n",
            "[4.0, 0.0, 1.0, 1.0, 6.0]\n",
            "[4.0, 0.0, 1.0, 154.0, 2.0]\n",
            "[4.0, 0.0, 1.0, 92.0, 2.0]\n",
            "[4.0, 0.0, 4.0, 1.0, 1.0]\n",
            "[4.0, 0.0, 2.0, 4.0, 2.0]\n",
            "[4.0, 0.0, 1.0, 7.0, 2.0]\n",
            "[0.0, 1.0, 1.0, 1.0, 2.0]\n",
            "Variables\n"
          ]
        },
        {
          "output_type": "execute_result",
          "data": {
            "text/plain": [
              "['FEATURES']"
            ]
          },
          "metadata": {},
          "execution_count": 54
        }
      ]
    },
    {
      "cell_type": "markdown",
      "source": [
        "Ahora realicemos las predicciones aplicando la clusterizacion."
      ],
      "metadata": {
        "id": "eUPMj2x8wKhH"
      }
    },
    {
      "cell_type": "code",
      "source": [
        "predictions = km_model.transform(vdata)\n",
        "predictions.distinct().show()"
      ],
      "metadata": {
        "colab": {
          "base_uri": "https://localhost:8080/"
        },
        "id": "vfpMau3jnKvK",
        "outputId": "808b8872-1bdc-4506-8bea-3ce24b9b8326"
      },
      "execution_count": 55,
      "outputs": [
        {
          "output_type": "stream",
          "name": "stdout",
          "text": [
            "+--------------------+-------+\n",
            "|            FEATURES|CLUSTER|\n",
            "+--------------------+-------+\n",
            "|[4.0,1.0,1.0,4.0,...|      7|\n",
            "|[4.0,0.0,3.0,8.0,...|      8|\n",
            "|[4.0,0.0,2.0,7.0,...|      8|\n",
            "|[2.0,0.0,3.0,5.0,...|      7|\n",
            "|[3.0,0.0,3.0,101....|      5|\n",
            "|[4.0,0.0,3.0,8.0,...|      8|\n",
            "|[5.0,1.0,3.0,6.0,...|      8|\n",
            "|       (5,[4],[8.0])|      3|\n",
            "|[5.0,1.0,2.0,48.0...|      1|\n",
            "|[3.0,1.0,2.0,11.0...|      8|\n",
            "|[4.0,1.0,2.0,4.0,...|      7|\n",
            "|[3.0,0.0,1.0,42.0...|      1|\n",
            "|[4.0,0.0,3.0,6.0,...|      8|\n",
            "|[5.0,0.0,5.0,52.0...|      1|\n",
            "|[4.0,1.0,0.0,14.0...|      8|\n",
            "|[4.0,0.0,3.0,1.0,...|      6|\n",
            "|[5.0,1.0,4.0,5.0,...|      7|\n",
            "|[4.0,0.0,5.0,2.0,...|      6|\n",
            "|[4.0,1.0,0.0,2.0,...|      3|\n",
            "|[5.0,1.0,3.0,1.0,...|      6|\n",
            "+--------------------+-------+\n",
            "only showing top 20 rows\n",
            "\n"
          ]
        }
      ]
    },
    {
      "cell_type": "markdown",
      "source": [
        "### **3. Evaluar**\n",
        "\n",
        "Realicemos la evaluación empleando el indice de silueta."
      ],
      "metadata": {
        "id": "jg0ddgv1wVDJ"
      }
    },
    {
      "cell_type": "code",
      "source": [
        "from pyspark.ml.evaluation import ClusteringEvaluator\n",
        "evaluator = ClusteringEvaluator(featuresCol='FEATURES', predictionCol='CLUSTER')\n",
        "silhouette = evaluator.evaluate(predictions)\n",
        "print(\"Índice de la silueta = \" + str(silhouette))"
      ],
      "metadata": {
        "colab": {
          "base_uri": "https://localhost:8080/"
        },
        "id": "ETdY0HAonm8-",
        "outputId": "35ded8e6-d9d9-43c2-a37e-3bb507e6d829"
      },
      "execution_count": 56,
      "outputs": [
        {
          "output_type": "stream",
          "name": "stdout",
          "text": [
            "Índice de la silueta = 0.5015339351667818\n"
          ]
        }
      ]
    },
    {
      "cell_type": "markdown",
      "metadata": {
        "id": "bSlgm0j-NQjn"
      },
      "source": [
        "Presente aquí el código desarrollado y el resultado obtenido"
      ]
    },
    {
      "cell_type": "markdown",
      "metadata": {
        "id": "T89Y60StLUuh"
      },
      "source": [
        "##**C) Análisis Predictivo**\n",
        "\n",
        "Usando el clúster asignado a cada paciente como variable objetivo, cree un modelo predictivo que permita predecir el grupo al que pertenece cada paciente"
      ]
    },
    {
      "cell_type": "code",
      "source": [
        "for center in centers:\n",
        "  centerR=[round(num, 0) for num in center]\n",
        "  print(centerR)\n",
        "print(\"Variables\")"
      ],
      "metadata": {
        "colab": {
          "base_uri": "https://localhost:8080/"
        },
        "id": "MGDKmEhQksac",
        "outputId": "c874c42f-33bc-491c-ed14-8fc1ed8d62a8"
      },
      "execution_count": 57,
      "outputs": [
        {
          "output_type": "stream",
          "name": "stdout",
          "text": [
            "[4.0, 0.0, 0.0, 0.0, 1.0]\n",
            "[4.0, 0.0, 2.0, 51.0, 2.0]\n",
            "[4.0, 0.0, 1.0, 24.0, 2.0]\n",
            "[4.0, 0.0, 1.0, 1.0, 6.0]\n",
            "[4.0, 0.0, 1.0, 154.0, 2.0]\n",
            "[4.0, 0.0, 1.0, 92.0, 2.0]\n",
            "[4.0, 0.0, 4.0, 1.0, 1.0]\n",
            "[4.0, 0.0, 2.0, 4.0, 2.0]\n",
            "[4.0, 0.0, 1.0, 7.0, 2.0]\n",
            "[0.0, 1.0, 1.0, 1.0, 2.0]\n",
            "Variables\n"
          ]
        }
      ]
    },
    {
      "cell_type": "code",
      "source": [
        "# pobAtendidaDF_cod.show(5)\n",
        "pobAtendidaDF_cod.show(5)\n",
        "#pobAtendidaDF.show(5)"
      ],
      "metadata": {
        "colab": {
          "base_uri": "https://localhost:8080/"
        },
        "id": "O2jn4NMbyUTp",
        "outputId": "6cf13cff-38d3-4fec-a5be-c118751049e6"
      },
      "execution_count": 58,
      "outputs": [
        {
          "output_type": "stream",
          "name": "stdout",
          "text": [
            "+--------+---------+---------------+--------+---------------+---------+----+--------------------+\n",
            "|ID_UNICO|     SEXO|   ESTADO_CIVIL|ZONA_RES|        MUN_RES|PAIS_NCTO|EDAD|ESCOLARIDAD_PACIENTE|\n",
            "+--------+---------+---------------+--------+---------------+---------+----+--------------------+\n",
            "|  676901|MASCULINO|     SOLTERO(A)|  URBANA|  ZONA BANANERA| COLOMBIA|  54|   BASICA SECUNDARIA|\n",
            "|  676949|MASCULINO|    UNION LIBRE|  URBANA|       MEDELLIN| COLOMBIA|  27|     SIN INFORMACION|\n",
            "|  676948|MASCULINO|SIN INFORMACION|  URBANA|SIN INFORMACION| COLOMBIA|   0|     SIN INFORMACION|\n",
            "|  635991| FEMENINO|SIN INFORMACION|  URBANA|         ITAGUI| COLOMBIA|   0|     SIN INFORMACION|\n",
            "|  676947| FEMENINO|     SOLTERO(A)|  URBANA|         ITAGUI| COLOMBIA|  24|   BASICA SECUNDARIA|\n",
            "+--------+---------+---------------+--------+---------------+---------+----+--------------------+\n",
            "only showing top 5 rows\n",
            "\n"
          ]
        }
      ]
    },
    {
      "cell_type": "code",
      "source": [
        "pobAtendidaDF_cod_reduce = pobAtendidaDF_cod.drop('PAIS_NCTO','ZONA_RES')\n",
        "pobAtendidaDF_cod_reduce.show(5)"
      ],
      "metadata": {
        "colab": {
          "base_uri": "https://localhost:8080/"
        },
        "id": "jYfPgBJk5RVD",
        "outputId": "ab28317b-7eb1-4174-801d-40e176d22973"
      },
      "execution_count": 59,
      "outputs": [
        {
          "output_type": "stream",
          "name": "stdout",
          "text": [
            "+--------+---------+---------------+---------------+----+--------------------+\n",
            "|ID_UNICO|     SEXO|   ESTADO_CIVIL|        MUN_RES|EDAD|ESCOLARIDAD_PACIENTE|\n",
            "+--------+---------+---------------+---------------+----+--------------------+\n",
            "|  676901|MASCULINO|     SOLTERO(A)|  ZONA BANANERA|  54|   BASICA SECUNDARIA|\n",
            "|  676949|MASCULINO|    UNION LIBRE|       MEDELLIN|  27|     SIN INFORMACION|\n",
            "|  676948|MASCULINO|SIN INFORMACION|SIN INFORMACION|   0|     SIN INFORMACION|\n",
            "|  635991| FEMENINO|SIN INFORMACION|         ITAGUI|   0|     SIN INFORMACION|\n",
            "|  676947| FEMENINO|     SOLTERO(A)|         ITAGUI|  24|   BASICA SECUNDARIA|\n",
            "+--------+---------+---------------+---------------+----+--------------------+\n",
            "only showing top 5 rows\n",
            "\n"
          ]
        }
      ]
    },
    {
      "cell_type": "code",
      "source": [
        "pobAtendidaNum_cod = pobAtendidaDF_cod_reduce\n",
        "pobAtendidaNum_cod.show(5)"
      ],
      "metadata": {
        "id": "QUP1i6iY6t-u",
        "colab": {
          "base_uri": "https://localhost:8080/"
        },
        "outputId": "ec8bd7f7-901a-41d0-b6ae-3fa28af33d71"
      },
      "execution_count": 60,
      "outputs": [
        {
          "output_type": "stream",
          "name": "stdout",
          "text": [
            "+--------+---------+---------------+---------------+----+--------------------+\n",
            "|ID_UNICO|     SEXO|   ESTADO_CIVIL|        MUN_RES|EDAD|ESCOLARIDAD_PACIENTE|\n",
            "+--------+---------+---------------+---------------+----+--------------------+\n",
            "|  676901|MASCULINO|     SOLTERO(A)|  ZONA BANANERA|  54|   BASICA SECUNDARIA|\n",
            "|  676949|MASCULINO|    UNION LIBRE|       MEDELLIN|  27|     SIN INFORMACION|\n",
            "|  676948|MASCULINO|SIN INFORMACION|SIN INFORMACION|   0|     SIN INFORMACION|\n",
            "|  635991| FEMENINO|SIN INFORMACION|         ITAGUI|   0|     SIN INFORMACION|\n",
            "|  676947| FEMENINO|     SOLTERO(A)|         ITAGUI|  24|   BASICA SECUNDARIA|\n",
            "+--------+---------+---------------+---------------+----+--------------------+\n",
            "only showing top 5 rows\n",
            "\n"
          ]
        }
      ]
    },
    {
      "cell_type": "code",
      "source": [
        "pobAtendidaNum_cod.columns"
      ],
      "metadata": {
        "colab": {
          "base_uri": "https://localhost:8080/"
        },
        "id": "wVjR8H1LfPbe",
        "outputId": "650df98e-90a6-4df0-eecc-1992f737d0d3"
      },
      "execution_count": 61,
      "outputs": [
        {
          "output_type": "execute_result",
          "data": {
            "text/plain": [
              "['ID_UNICO', 'SEXO', 'ESTADO_CIVIL', 'MUN_RES', 'EDAD', 'ESCOLARIDAD_PACIENTE']"
            ]
          },
          "metadata": {},
          "execution_count": 61
        }
      ]
    },
    {
      "cell_type": "code",
      "source": [
        "for c in pobAtendidaNum_cod.columns[1:]:\n",
        "  if c != 'EDAD':\n",
        "    # Columna\n",
        "    indexer = StringIndexer(inputCol = c, outputCol = c + '_NUM')\n",
        "    # Asignacion de valores de indices los strings\n",
        "    indexer = indexer.fit(pobAtendidaNum_cod)\n",
        "    # Creacion de columna con valores de indices\n",
        "    pobAtendidaNum_cod = indexer.transform(pobAtendidaNum_cod)"
      ],
      "metadata": {
        "id": "JoXmvF7W6Vu7"
      },
      "execution_count": 62,
      "outputs": []
    },
    {
      "cell_type": "code",
      "source": [
        "pobAtendidaNum_cod.show(5)"
      ],
      "metadata": {
        "colab": {
          "base_uri": "https://localhost:8080/"
        },
        "id": "jGT6wabt6693",
        "outputId": "5e20d696-3c83-42c4-a707-0d120bf3a5f7"
      },
      "execution_count": 63,
      "outputs": [
        {
          "output_type": "stream",
          "name": "stdout",
          "text": [
            "+--------+---------+---------------+---------------+----+--------------------+--------+----------------+-----------+------------------------+\n",
            "|ID_UNICO|     SEXO|   ESTADO_CIVIL|        MUN_RES|EDAD|ESCOLARIDAD_PACIENTE|SEXO_NUM|ESTADO_CIVIL_NUM|MUN_RES_NUM|ESCOLARIDAD_PACIENTE_NUM|\n",
            "+--------+---------+---------------+---------------+----+--------------------+--------+----------------+-----------+------------------------+\n",
            "|  676901|MASCULINO|     SOLTERO(A)|  ZONA BANANERA|  54|   BASICA SECUNDARIA|     1.0|             0.0|       14.0|                     0.0|\n",
            "|  676949|MASCULINO|    UNION LIBRE|       MEDELLIN|  27|     SIN INFORMACION|     1.0|             3.0|        1.0|                     2.0|\n",
            "|  676948|MASCULINO|SIN INFORMACION|SIN INFORMACION|   0|     SIN INFORMACION|     1.0|             2.0|        3.0|                     2.0|\n",
            "|  635991| FEMENINO|SIN INFORMACION|         ITAGUI|   0|     SIN INFORMACION|     0.0|             2.0|        2.0|                     2.0|\n",
            "|  676947| FEMENINO|     SOLTERO(A)|         ITAGUI|  24|   BASICA SECUNDARIA|     0.0|             0.0|        2.0|                     0.0|\n",
            "+--------+---------+---------------+---------------+----+--------------------+--------+----------------+-----------+------------------------+\n",
            "only showing top 5 rows\n",
            "\n"
          ]
        }
      ]
    },
    {
      "cell_type": "code",
      "source": [
        "pobAtendidaNum_cod.count()"
      ],
      "metadata": {
        "colab": {
          "base_uri": "https://localhost:8080/"
        },
        "id": "GG9PywHqzUdq",
        "outputId": "a2c60067-3c55-47e3-b161-b549088a98cf"
      },
      "execution_count": 64,
      "outputs": [
        {
          "output_type": "execute_result",
          "data": {
            "text/plain": [
              "55962"
            ]
          },
          "metadata": {},
          "execution_count": 64
        }
      ]
    },
    {
      "cell_type": "code",
      "source": [
        "pobAtendidaNum_cod = pobAtendidaNum_cod.withColumn(\"EDAD_CAT\", categorize_udf(F.col(\"EDAD\")))\n",
        "pobAtendidaNum_cod.show(5)"
      ],
      "metadata": {
        "colab": {
          "base_uri": "https://localhost:8080/"
        },
        "id": "kKrdwRfT9G3p",
        "outputId": "1359e1d1-f880-44bd-da24-b9aec2cb79fd"
      },
      "execution_count": 65,
      "outputs": [
        {
          "output_type": "stream",
          "name": "stdout",
          "text": [
            "+--------+---------+---------------+---------------+----+--------------------+--------+----------------+-----------+------------------------+--------+\n",
            "|ID_UNICO|     SEXO|   ESTADO_CIVIL|        MUN_RES|EDAD|ESCOLARIDAD_PACIENTE|SEXO_NUM|ESTADO_CIVIL_NUM|MUN_RES_NUM|ESCOLARIDAD_PACIENTE_NUM|EDAD_CAT|\n",
            "+--------+---------+---------------+---------------+----+--------------------+--------+----------------+-----------+------------------------+--------+\n",
            "|  676901|MASCULINO|     SOLTERO(A)|  ZONA BANANERA|  54|   BASICA SECUNDARIA|     1.0|             0.0|       14.0|                     0.0|       4|\n",
            "|  676949|MASCULINO|    UNION LIBRE|       MEDELLIN|  27|     SIN INFORMACION|     1.0|             3.0|        1.0|                     2.0|       4|\n",
            "|  676948|MASCULINO|SIN INFORMACION|SIN INFORMACION|   0|     SIN INFORMACION|     1.0|             2.0|        3.0|                     2.0|       0|\n",
            "|  635991| FEMENINO|SIN INFORMACION|         ITAGUI|   0|     SIN INFORMACION|     0.0|             2.0|        2.0|                     2.0|       0|\n",
            "|  676947| FEMENINO|     SOLTERO(A)|         ITAGUI|  24|   BASICA SECUNDARIA|     0.0|             0.0|        2.0|                     0.0|       3|\n",
            "+--------+---------+---------------+---------------+----+--------------------+--------+----------------+-----------+------------------------+--------+\n",
            "only showing top 5 rows\n",
            "\n"
          ]
        }
      ]
    },
    {
      "cell_type": "code",
      "source": [
        "cols_cats"
      ],
      "metadata": {
        "colab": {
          "base_uri": "https://localhost:8080/"
        },
        "id": "OPIRh9wPjz7_",
        "outputId": "04b705c5-9245-45ae-b2d7-012ee8b4c73c"
      },
      "execution_count": 66,
      "outputs": [
        {
          "output_type": "execute_result",
          "data": {
            "text/plain": [
              "['EDAD_CAT',\n",
              " 'SEXO_NUM',\n",
              " 'ESTADO_CIVIL_NUM',\n",
              " 'MUN_RES_NUM',\n",
              " 'ESCOLARIDAD_PACIENTE_NUM']"
            ]
          },
          "metadata": {},
          "execution_count": 66
        }
      ]
    },
    {
      "cell_type": "code",
      "source": [
        "vector_col = \"FEATURES\"\n",
        "assembler = VectorAssembler(inputCols = cols_cats, outputCol = vector_col)\n",
        "# Inspeccion del resultado\n",
        "vector_features = assembler.transform(pobAtendidaNum_cod)"
      ],
      "metadata": {
        "id": "nSsInu_jy8rf"
      },
      "execution_count": 67,
      "outputs": []
    },
    {
      "cell_type": "code",
      "source": [
        "vector_features.show(5)"
      ],
      "metadata": {
        "colab": {
          "base_uri": "https://localhost:8080/"
        },
        "id": "ZZXaZXGlzD33",
        "outputId": "68ec5935-c447-4b31-dba7-c5214ac8955a"
      },
      "execution_count": 68,
      "outputs": [
        {
          "output_type": "stream",
          "name": "stdout",
          "text": [
            "+--------+---------+---------------+---------------+----+--------------------+--------+----------------+-----------+------------------------+--------+--------------------+\n",
            "|ID_UNICO|     SEXO|   ESTADO_CIVIL|        MUN_RES|EDAD|ESCOLARIDAD_PACIENTE|SEXO_NUM|ESTADO_CIVIL_NUM|MUN_RES_NUM|ESCOLARIDAD_PACIENTE_NUM|EDAD_CAT|            FEATURES|\n",
            "+--------+---------+---------------+---------------+----+--------------------+--------+----------------+-----------+------------------------+--------+--------------------+\n",
            "|  676901|MASCULINO|     SOLTERO(A)|  ZONA BANANERA|  54|   BASICA SECUNDARIA|     1.0|             0.0|       14.0|                     0.0|       4|[4.0,1.0,0.0,14.0...|\n",
            "|  676949|MASCULINO|    UNION LIBRE|       MEDELLIN|  27|     SIN INFORMACION|     1.0|             3.0|        1.0|                     2.0|       4|[4.0,1.0,3.0,1.0,...|\n",
            "|  676948|MASCULINO|SIN INFORMACION|SIN INFORMACION|   0|     SIN INFORMACION|     1.0|             2.0|        3.0|                     2.0|       0|[0.0,1.0,2.0,3.0,...|\n",
            "|  635991| FEMENINO|SIN INFORMACION|         ITAGUI|   0|     SIN INFORMACION|     0.0|             2.0|        2.0|                     2.0|       0|[0.0,0.0,2.0,2.0,...|\n",
            "|  676947| FEMENINO|     SOLTERO(A)|         ITAGUI|  24|   BASICA SECUNDARIA|     0.0|             0.0|        2.0|                     0.0|       3| (5,[0,3],[3.0,2.0])|\n",
            "+--------+---------+---------------+---------------+----+--------------------+--------+----------------+-----------+------------------------+--------+--------------------+\n",
            "only showing top 5 rows\n",
            "\n"
          ]
        }
      ]
    },
    {
      "cell_type": "code",
      "source": [
        "vector_features.count()"
      ],
      "metadata": {
        "colab": {
          "base_uri": "https://localhost:8080/"
        },
        "id": "DfXYcTWsybrK",
        "outputId": "80a404ce-5389-47f5-c082-ba6fbcee8225"
      },
      "execution_count": 69,
      "outputs": [
        {
          "output_type": "execute_result",
          "data": {
            "text/plain": [
              "55962"
            ]
          },
          "metadata": {},
          "execution_count": 69
        }
      ]
    },
    {
      "cell_type": "markdown",
      "source": [
        "Vector caracteristico"
      ],
      "metadata": {
        "id": "Zy4IyTbmzZoZ"
      }
    },
    {
      "cell_type": "code",
      "source": [
        "vdata_id = vector_features.select(\"ID_UNICO\",\"FEATURES\")\n",
        "vdata_id.show()"
      ],
      "metadata": {
        "colab": {
          "base_uri": "https://localhost:8080/"
        },
        "id": "O_8MHW-mygxj",
        "outputId": "3a7b9c3e-bc19-48e4-d2a5-1d4612a67026"
      },
      "execution_count": 70,
      "outputs": [
        {
          "output_type": "stream",
          "name": "stdout",
          "text": [
            "+--------+--------------------+\n",
            "|ID_UNICO|            FEATURES|\n",
            "+--------+--------------------+\n",
            "|  676901|[4.0,1.0,0.0,14.0...|\n",
            "|  676949|[4.0,1.0,3.0,1.0,...|\n",
            "|  676948|[0.0,1.0,2.0,3.0,...|\n",
            "|  635991|[0.0,0.0,2.0,2.0,...|\n",
            "|  676947| (5,[0,3],[3.0,2.0])|\n",
            "|  676946|[0.0,1.0,2.0,2.0,...|\n",
            "|  666994|[4.0,1.0,3.0,0.0,...|\n",
            "|  676812|[4.0,1.0,0.0,1.0,...|\n",
            "|  676945|[0.0,1.0,2.0,0.0,...|\n",
            "|  676944|[4.0,1.0,0.0,1.0,...|\n",
            "|  676943|[4.0,0.0,2.0,3.0,...|\n",
            "|  676942|[4.0,0.0,2.0,3.0,...|\n",
            "|  656425|[4.0,1.0,0.0,81.0...|\n",
            "|  676941|[4.0,0.0,2.0,0.0,...|\n",
            "|  673748|[4.0,0.0,3.0,6.0,...|\n",
            "|  624331|[5.0,1.0,1.0,0.0,...|\n",
            "|  676940|[3.0,0.0,2.0,3.0,...|\n",
            "|  676939|[4.0,1.0,3.0,0.0,...|\n",
            "|  676937| (5,[0,2],[4.0,3.0])|\n",
            "|  676938|       (5,[0],[2.0])|\n",
            "+--------+--------------------+\n",
            "only showing top 20 rows\n",
            "\n"
          ]
        }
      ]
    },
    {
      "cell_type": "code",
      "source": [
        "predictions = km_model.transform(vdata_id.select(\"FEATURES\"))\n",
        "predictions.distinct().show()"
      ],
      "metadata": {
        "colab": {
          "base_uri": "https://localhost:8080/"
        },
        "id": "rFT6jWWpI-PK",
        "outputId": "16347105-14cb-44c9-dfc6-ee0be2992deb"
      },
      "execution_count": 71,
      "outputs": [
        {
          "output_type": "stream",
          "name": "stdout",
          "text": [
            "+--------------------+-------+\n",
            "|            FEATURES|CLUSTER|\n",
            "+--------------------+-------+\n",
            "|[4.0,1.0,1.0,4.0,...|      7|\n",
            "|[4.0,0.0,3.0,8.0,...|      8|\n",
            "|[4.0,0.0,2.0,7.0,...|      8|\n",
            "|[2.0,0.0,3.0,5.0,...|      7|\n",
            "|[3.0,0.0,3.0,101....|      5|\n",
            "|[4.0,0.0,3.0,8.0,...|      8|\n",
            "|[5.0,1.0,3.0,6.0,...|      8|\n",
            "|       (5,[4],[8.0])|      3|\n",
            "|[5.0,1.0,2.0,48.0...|      1|\n",
            "|[3.0,1.0,2.0,11.0...|      8|\n",
            "|[4.0,1.0,2.0,4.0,...|      7|\n",
            "|[3.0,0.0,1.0,42.0...|      1|\n",
            "|[4.0,0.0,3.0,6.0,...|      8|\n",
            "|[5.0,0.0,5.0,52.0...|      1|\n",
            "|[4.0,1.0,0.0,14.0...|      8|\n",
            "|[4.0,0.0,3.0,1.0,...|      6|\n",
            "|[5.0,1.0,4.0,5.0,...|      7|\n",
            "|[4.0,0.0,5.0,2.0,...|      6|\n",
            "|[4.0,1.0,0.0,2.0,...|      3|\n",
            "|[5.0,1.0,3.0,1.0,...|      6|\n",
            "+--------------------+-------+\n",
            "only showing top 20 rows\n",
            "\n"
          ]
        }
      ]
    },
    {
      "cell_type": "code",
      "source": [
        "predictions.count()"
      ],
      "metadata": {
        "colab": {
          "base_uri": "https://localhost:8080/"
        },
        "id": "tbTKImYh_DfS",
        "outputId": "71d6d770-11c4-4211-d8fa-1f60e6834c57"
      },
      "execution_count": 72,
      "outputs": [
        {
          "output_type": "execute_result",
          "data": {
            "text/plain": [
              "55962"
            ]
          },
          "metadata": {},
          "execution_count": 72
        }
      ]
    },
    {
      "cell_type": "code",
      "source": [
        "# Agregar índices artificiales\n",
        "vdata_id = vdata_id.withColumn(\"index\", F.monotonically_increasing_id())\n",
        "# vdata_id.show(5)\n",
        "predictions = predictions.select(\"CLUSTER\").withColumn(\"index\", F.monotonically_increasing_id())\n",
        "# predictions.show(5)\n",
        "df_predictions = vdata_id.join(predictions, on=\"index\", how=\"inner\").drop(\"index\",\"FEATURES\")\n",
        "df_predictions.show(5)"
      ],
      "metadata": {
        "colab": {
          "base_uri": "https://localhost:8080/"
        },
        "id": "vxuL0-c7_PYi",
        "outputId": "2bad64ae-8c56-49dc-cc1b-b0144d4add9b"
      },
      "execution_count": 73,
      "outputs": [
        {
          "output_type": "stream",
          "name": "stdout",
          "text": [
            "+--------+-------+\n",
            "|ID_UNICO|CLUSTER|\n",
            "+--------+-------+\n",
            "|  676901|      8|\n",
            "|  676949|      6|\n",
            "|  676948|      9|\n",
            "|  635991|      9|\n",
            "|  676947|      0|\n",
            "+--------+-------+\n",
            "only showing top 5 rows\n",
            "\n"
          ]
        }
      ]
    },
    {
      "cell_type": "code",
      "source": [
        "pobAtendidaNum_cod = pobAtendidaNum_cod.join(df_predictions, on=\"ID_UNICO\", how=\"inner\")"
      ],
      "metadata": {
        "id": "E_DmVrqDHMAM"
      },
      "execution_count": 74,
      "outputs": []
    },
    {
      "cell_type": "code",
      "source": [
        "pobAtendidaNum_cod.show(5)"
      ],
      "metadata": {
        "colab": {
          "base_uri": "https://localhost:8080/"
        },
        "id": "g_Vez-_PK5_6",
        "outputId": "ad32e143-138f-446a-c863-bd24bfdffc6c"
      },
      "execution_count": 75,
      "outputs": [
        {
          "output_type": "stream",
          "name": "stdout",
          "text": [
            "+--------+---------+---------------+---------------+----+--------------------+--------+----------------+-----------+------------------------+--------+-------+\n",
            "|ID_UNICO|     SEXO|   ESTADO_CIVIL|        MUN_RES|EDAD|ESCOLARIDAD_PACIENTE|SEXO_NUM|ESTADO_CIVIL_NUM|MUN_RES_NUM|ESCOLARIDAD_PACIENTE_NUM|EDAD_CAT|CLUSTER|\n",
            "+--------+---------+---------------+---------------+----+--------------------+--------+----------------+-----------+------------------------+--------+-------+\n",
            "|  676901|MASCULINO|     SOLTERO(A)|  ZONA BANANERA|  54|   BASICA SECUNDARIA|     1.0|             0.0|       14.0|                     0.0|       4|      8|\n",
            "|  676949|MASCULINO|    UNION LIBRE|       MEDELLIN|  27|     SIN INFORMACION|     1.0|             3.0|        1.0|                     2.0|       4|      6|\n",
            "|  676948|MASCULINO|SIN INFORMACION|SIN INFORMACION|   0|     SIN INFORMACION|     1.0|             2.0|        3.0|                     2.0|       0|      9|\n",
            "|  635991| FEMENINO|SIN INFORMACION|         ITAGUI|   0|     SIN INFORMACION|     0.0|             2.0|        2.0|                     2.0|       0|      9|\n",
            "|  676947| FEMENINO|     SOLTERO(A)|         ITAGUI|  24|   BASICA SECUNDARIA|     0.0|             0.0|        2.0|                     0.0|       3|      0|\n",
            "+--------+---------+---------------+---------------+----+--------------------+--------+----------------+-----------+------------------------+--------+-------+\n",
            "only showing top 5 rows\n",
            "\n"
          ]
        }
      ]
    },
    {
      "cell_type": "code",
      "source": [
        "pobAtendidaNum_cod.count()"
      ],
      "metadata": {
        "colab": {
          "base_uri": "https://localhost:8080/"
        },
        "id": "0FTsf012K_uy",
        "outputId": "00d2ada4-45f3-415e-a0ae-0643b4ad66bc"
      },
      "execution_count": 76,
      "outputs": [
        {
          "output_type": "execute_result",
          "data": {
            "text/plain": [
              "55962"
            ]
          },
          "metadata": {},
          "execution_count": 76
        }
      ]
    },
    {
      "cell_type": "markdown",
      "metadata": {
        "id": "xWQkDcDZNRVa"
      },
      "source": [
        "### **Preparación**\n"
      ]
    },
    {
      "cell_type": "code",
      "source": [
        "pobAtendidaNum_cod.cache()"
      ],
      "metadata": {
        "colab": {
          "base_uri": "https://localhost:8080/"
        },
        "id": "qyfz49QPujBC",
        "outputId": "f0eed3f6-893d-4533-f1fa-c6d248a7cc6b"
      },
      "execution_count": 77,
      "outputs": [
        {
          "output_type": "execute_result",
          "data": {
            "text/plain": [
              "DataFrame[ID_UNICO: int, SEXO: string, ESTADO_CIVIL: string, MUN_RES: string, EDAD: int, ESCOLARIDAD_PACIENTE: string, SEXO_NUM: double, ESTADO_CIVIL_NUM: double, MUN_RES_NUM: double, ESCOLARIDAD_PACIENTE_NUM: double, EDAD_CAT: int, CLUSTER: int]"
            ]
          },
          "metadata": {},
          "execution_count": 77
        }
      ]
    },
    {
      "cell_type": "code",
      "source": [
        "# Datos\n",
        "pobAtendidaNum_cod.show(5)"
      ],
      "metadata": {
        "colab": {
          "base_uri": "https://localhost:8080/"
        },
        "id": "wO5_Rp9luqrr",
        "outputId": "81711635-58c6-439a-e69e-de5908624ca6"
      },
      "execution_count": 78,
      "outputs": [
        {
          "output_type": "stream",
          "name": "stdout",
          "text": [
            "+--------+---------+---------------+---------------+----+--------------------+--------+----------------+-----------+------------------------+--------+-------+\n",
            "|ID_UNICO|     SEXO|   ESTADO_CIVIL|        MUN_RES|EDAD|ESCOLARIDAD_PACIENTE|SEXO_NUM|ESTADO_CIVIL_NUM|MUN_RES_NUM|ESCOLARIDAD_PACIENTE_NUM|EDAD_CAT|CLUSTER|\n",
            "+--------+---------+---------------+---------------+----+--------------------+--------+----------------+-----------+------------------------+--------+-------+\n",
            "|  676901|MASCULINO|     SOLTERO(A)|  ZONA BANANERA|  54|   BASICA SECUNDARIA|     1.0|             0.0|       14.0|                     0.0|       4|      8|\n",
            "|  676949|MASCULINO|    UNION LIBRE|       MEDELLIN|  27|     SIN INFORMACION|     1.0|             3.0|        1.0|                     2.0|       4|      6|\n",
            "|  676948|MASCULINO|SIN INFORMACION|SIN INFORMACION|   0|     SIN INFORMACION|     1.0|             2.0|        3.0|                     2.0|       0|      9|\n",
            "|  635991| FEMENINO|SIN INFORMACION|         ITAGUI|   0|     SIN INFORMACION|     0.0|             2.0|        2.0|                     2.0|       0|      9|\n",
            "|  676947| FEMENINO|     SOLTERO(A)|         ITAGUI|  24|   BASICA SECUNDARIA|     0.0|             0.0|        2.0|                     0.0|       3|      0|\n",
            "+--------+---------+---------------+---------------+----+--------------------+--------+----------------+-----------+------------------------+--------+-------+\n",
            "only showing top 5 rows\n",
            "\n"
          ]
        }
      ]
    },
    {
      "cell_type": "markdown",
      "source": [
        "Inspección de las salidas categoricas"
      ],
      "metadata": {
        "id": "tWcPqzb_Fp59"
      }
    },
    {
      "cell_type": "code",
      "source": [
        "pobAtendidaNum_cod.groupBy('CLUSTER').count().show()"
      ],
      "metadata": {
        "colab": {
          "base_uri": "https://localhost:8080/"
        },
        "id": "ZrKNyzCSFoNz",
        "outputId": "6a0222e6-c84a-48f7-a640-86ceeb946907"
      },
      "execution_count": 79,
      "outputs": [
        {
          "output_type": "stream",
          "name": "stdout",
          "text": [
            "+-------+-----+\n",
            "|CLUSTER|count|\n",
            "+-------+-----+\n",
            "|      1|  174|\n",
            "|      6| 9340|\n",
            "|      3| 9968|\n",
            "|      5|   87|\n",
            "|      9| 5473|\n",
            "|      4|   63|\n",
            "|      8| 2942|\n",
            "|      7| 5982|\n",
            "|      2|  368|\n",
            "|      0|21565|\n",
            "+-------+-----+\n",
            "\n"
          ]
        }
      ]
    },
    {
      "cell_type": "markdown",
      "source": [
        "Como los datos estan desbalanceados vamos a usar la biblioteca `imbalanced-learn` para realizar la generación sintética"
      ],
      "metadata": {
        "id": "NYfIV5eoIJfb"
      }
    },
    {
      "cell_type": "code",
      "source": [
        "model_cols = cols_cats + ['CLUSTER']\n",
        "model_cols"
      ],
      "metadata": {
        "colab": {
          "base_uri": "https://localhost:8080/"
        },
        "id": "C5t_3i1FJEJr",
        "outputId": "5ea3a78e-4a97-4b45-e481-276699a67bc5"
      },
      "execution_count": 80,
      "outputs": [
        {
          "output_type": "execute_result",
          "data": {
            "text/plain": [
              "['EDAD_CAT',\n",
              " 'SEXO_NUM',\n",
              " 'ESTADO_CIVIL_NUM',\n",
              " 'MUN_RES_NUM',\n",
              " 'ESCOLARIDAD_PACIENTE_NUM',\n",
              " 'CLUSTER']"
            ]
          },
          "metadata": {},
          "execution_count": 80
        }
      ]
    },
    {
      "cell_type": "code",
      "source": [
        "from imblearn.over_sampling import SMOTE"
      ],
      "metadata": {
        "id": "wXwsFQQ6IIw7"
      },
      "execution_count": 81,
      "outputs": []
    },
    {
      "cell_type": "code",
      "source": [
        "# Se separan los labels de las features\n",
        "\n",
        "# Selecciona las columnas de características y la etiqueta\n",
        "pandas_df = pobAtendidaNum_cod.select(*model_cols).toPandas()\n",
        "print(type(pandas_df))\n",
        "X = pandas_df.drop(columns=[\"CLUSTER\"])\n",
        "y = pandas_df[\"CLUSTER\"]"
      ],
      "metadata": {
        "colab": {
          "base_uri": "https://localhost:8080/"
        },
        "id": "NXxHgIkoIkUJ",
        "outputId": "c0d2e77c-c6d9-46f4-fd80-d73279dd95b9"
      },
      "execution_count": 82,
      "outputs": [
        {
          "output_type": "stream",
          "name": "stdout",
          "text": [
            "<class 'pandas.core.frame.DataFrame'>\n"
          ]
        }
      ]
    },
    {
      "cell_type": "code",
      "source": [
        "X.columns"
      ],
      "metadata": {
        "colab": {
          "base_uri": "https://localhost:8080/"
        },
        "id": "Y8UTq03GLfxv",
        "outputId": "15ef9957-d676-40bc-b27b-41f9e0ed9ade"
      },
      "execution_count": 83,
      "outputs": [
        {
          "output_type": "execute_result",
          "data": {
            "text/plain": [
              "Index(['EDAD_CAT', 'SEXO_NUM', 'ESTADO_CIVIL_NUM', 'MUN_RES_NUM',\n",
              "       'ESCOLARIDAD_PACIENTE_NUM'],\n",
              "      dtype='object')"
            ]
          },
          "metadata": {},
          "execution_count": 83
        }
      ]
    },
    {
      "cell_type": "code",
      "source": [
        "y"
      ],
      "metadata": {
        "colab": {
          "base_uri": "https://localhost:8080/",
          "height": 458
        },
        "id": "kDc7g9_-LkTg",
        "outputId": "68bdfc81-70d1-4f8a-8b83-165a82cc977b"
      },
      "execution_count": 84,
      "outputs": [
        {
          "output_type": "execute_result",
          "data": {
            "text/plain": [
              "0        8\n",
              "1        6\n",
              "2        9\n",
              "3        9\n",
              "4        0\n",
              "        ..\n",
              "55957    0\n",
              "55958    0\n",
              "55959    0\n",
              "55960    0\n",
              "55961    5\n",
              "Name: CLUSTER, Length: 55962, dtype: int32"
            ],
            "text/html": [
              "<div>\n",
              "<style scoped>\n",
              "    .dataframe tbody tr th:only-of-type {\n",
              "        vertical-align: middle;\n",
              "    }\n",
              "\n",
              "    .dataframe tbody tr th {\n",
              "        vertical-align: top;\n",
              "    }\n",
              "\n",
              "    .dataframe thead th {\n",
              "        text-align: right;\n",
              "    }\n",
              "</style>\n",
              "<table border=\"1\" class=\"dataframe\">\n",
              "  <thead>\n",
              "    <tr style=\"text-align: right;\">\n",
              "      <th></th>\n",
              "      <th>CLUSTER</th>\n",
              "    </tr>\n",
              "  </thead>\n",
              "  <tbody>\n",
              "    <tr>\n",
              "      <th>0</th>\n",
              "      <td>8</td>\n",
              "    </tr>\n",
              "    <tr>\n",
              "      <th>1</th>\n",
              "      <td>6</td>\n",
              "    </tr>\n",
              "    <tr>\n",
              "      <th>2</th>\n",
              "      <td>9</td>\n",
              "    </tr>\n",
              "    <tr>\n",
              "      <th>3</th>\n",
              "      <td>9</td>\n",
              "    </tr>\n",
              "    <tr>\n",
              "      <th>4</th>\n",
              "      <td>0</td>\n",
              "    </tr>\n",
              "    <tr>\n",
              "      <th>...</th>\n",
              "      <td>...</td>\n",
              "    </tr>\n",
              "    <tr>\n",
              "      <th>55957</th>\n",
              "      <td>0</td>\n",
              "    </tr>\n",
              "    <tr>\n",
              "      <th>55958</th>\n",
              "      <td>0</td>\n",
              "    </tr>\n",
              "    <tr>\n",
              "      <th>55959</th>\n",
              "      <td>0</td>\n",
              "    </tr>\n",
              "    <tr>\n",
              "      <th>55960</th>\n",
              "      <td>0</td>\n",
              "    </tr>\n",
              "    <tr>\n",
              "      <th>55961</th>\n",
              "      <td>5</td>\n",
              "    </tr>\n",
              "  </tbody>\n",
              "</table>\n",
              "<p>55962 rows × 1 columns</p>\n",
              "</div><br><label><b>dtype:</b> int32</label>"
            ]
          },
          "metadata": {},
          "execution_count": 84
        }
      ]
    },
    {
      "cell_type": "code",
      "source": [
        "# Se aplica SMOTE\n",
        "smote = SMOTE(sampling_strategy=\"auto\", random_state=42)\n",
        "X_resampled, y_resampled = smote.fit_resample(X, y)"
      ],
      "metadata": {
        "id": "DZ7jEml0JchO"
      },
      "execution_count": 85,
      "outputs": []
    },
    {
      "cell_type": "code",
      "source": [
        "# Crea un nuevo DataFrame con los datos balanceados\n",
        "resampled_df = pd.DataFrame(X_resampled, columns=X.columns)\n",
        "resampled_df[\"CLUSTER\"] = y_resampled"
      ],
      "metadata": {
        "id": "BEoEnKd_Jjt_"
      },
      "execution_count": 86,
      "outputs": []
    },
    {
      "cell_type": "code",
      "source": [
        "resampled_df.head()"
      ],
      "metadata": {
        "colab": {
          "base_uri": "https://localhost:8080/",
          "height": 206
        },
        "id": "mDHFr1siL45D",
        "outputId": "077b7856-2f5b-432c-8f0e-d12c6480fe9b"
      },
      "execution_count": 87,
      "outputs": [
        {
          "output_type": "execute_result",
          "data": {
            "text/plain": [
              "   EDAD_CAT  SEXO_NUM  ESTADO_CIVIL_NUM  MUN_RES_NUM  \\\n",
              "0         4       1.0               0.0         14.0   \n",
              "1         4       1.0               3.0          1.0   \n",
              "2         0       1.0               2.0          3.0   \n",
              "3         0       0.0               2.0          2.0   \n",
              "4         3       0.0               0.0          2.0   \n",
              "\n",
              "   ESCOLARIDAD_PACIENTE_NUM  CLUSTER  \n",
              "0                       0.0        8  \n",
              "1                       2.0        6  \n",
              "2                       2.0        9  \n",
              "3                       2.0        9  \n",
              "4                       0.0        0  "
            ],
            "text/html": [
              "\n",
              "  <div id=\"df-65999238-ede8-43ea-b32c-7961db90b48b\" class=\"colab-df-container\">\n",
              "    <div>\n",
              "<style scoped>\n",
              "    .dataframe tbody tr th:only-of-type {\n",
              "        vertical-align: middle;\n",
              "    }\n",
              "\n",
              "    .dataframe tbody tr th {\n",
              "        vertical-align: top;\n",
              "    }\n",
              "\n",
              "    .dataframe thead th {\n",
              "        text-align: right;\n",
              "    }\n",
              "</style>\n",
              "<table border=\"1\" class=\"dataframe\">\n",
              "  <thead>\n",
              "    <tr style=\"text-align: right;\">\n",
              "      <th></th>\n",
              "      <th>EDAD_CAT</th>\n",
              "      <th>SEXO_NUM</th>\n",
              "      <th>ESTADO_CIVIL_NUM</th>\n",
              "      <th>MUN_RES_NUM</th>\n",
              "      <th>ESCOLARIDAD_PACIENTE_NUM</th>\n",
              "      <th>CLUSTER</th>\n",
              "    </tr>\n",
              "  </thead>\n",
              "  <tbody>\n",
              "    <tr>\n",
              "      <th>0</th>\n",
              "      <td>4</td>\n",
              "      <td>1.0</td>\n",
              "      <td>0.0</td>\n",
              "      <td>14.0</td>\n",
              "      <td>0.0</td>\n",
              "      <td>8</td>\n",
              "    </tr>\n",
              "    <tr>\n",
              "      <th>1</th>\n",
              "      <td>4</td>\n",
              "      <td>1.0</td>\n",
              "      <td>3.0</td>\n",
              "      <td>1.0</td>\n",
              "      <td>2.0</td>\n",
              "      <td>6</td>\n",
              "    </tr>\n",
              "    <tr>\n",
              "      <th>2</th>\n",
              "      <td>0</td>\n",
              "      <td>1.0</td>\n",
              "      <td>2.0</td>\n",
              "      <td>3.0</td>\n",
              "      <td>2.0</td>\n",
              "      <td>9</td>\n",
              "    </tr>\n",
              "    <tr>\n",
              "      <th>3</th>\n",
              "      <td>0</td>\n",
              "      <td>0.0</td>\n",
              "      <td>2.0</td>\n",
              "      <td>2.0</td>\n",
              "      <td>2.0</td>\n",
              "      <td>9</td>\n",
              "    </tr>\n",
              "    <tr>\n",
              "      <th>4</th>\n",
              "      <td>3</td>\n",
              "      <td>0.0</td>\n",
              "      <td>0.0</td>\n",
              "      <td>2.0</td>\n",
              "      <td>0.0</td>\n",
              "      <td>0</td>\n",
              "    </tr>\n",
              "  </tbody>\n",
              "</table>\n",
              "</div>\n",
              "    <div class=\"colab-df-buttons\">\n",
              "\n",
              "  <div class=\"colab-df-container\">\n",
              "    <button class=\"colab-df-convert\" onclick=\"convertToInteractive('df-65999238-ede8-43ea-b32c-7961db90b48b')\"\n",
              "            title=\"Convert this dataframe to an interactive table.\"\n",
              "            style=\"display:none;\">\n",
              "\n",
              "  <svg xmlns=\"http://www.w3.org/2000/svg\" height=\"24px\" viewBox=\"0 -960 960 960\">\n",
              "    <path d=\"M120-120v-720h720v720H120Zm60-500h600v-160H180v160Zm220 220h160v-160H400v160Zm0 220h160v-160H400v160ZM180-400h160v-160H180v160Zm440 0h160v-160H620v160ZM180-180h160v-160H180v160Zm440 0h160v-160H620v160Z\"/>\n",
              "  </svg>\n",
              "    </button>\n",
              "\n",
              "  <style>\n",
              "    .colab-df-container {\n",
              "      display:flex;\n",
              "      gap: 12px;\n",
              "    }\n",
              "\n",
              "    .colab-df-convert {\n",
              "      background-color: #E8F0FE;\n",
              "      border: none;\n",
              "      border-radius: 50%;\n",
              "      cursor: pointer;\n",
              "      display: none;\n",
              "      fill: #1967D2;\n",
              "      height: 32px;\n",
              "      padding: 0 0 0 0;\n",
              "      width: 32px;\n",
              "    }\n",
              "\n",
              "    .colab-df-convert:hover {\n",
              "      background-color: #E2EBFA;\n",
              "      box-shadow: 0px 1px 2px rgba(60, 64, 67, 0.3), 0px 1px 3px 1px rgba(60, 64, 67, 0.15);\n",
              "      fill: #174EA6;\n",
              "    }\n",
              "\n",
              "    .colab-df-buttons div {\n",
              "      margin-bottom: 4px;\n",
              "    }\n",
              "\n",
              "    [theme=dark] .colab-df-convert {\n",
              "      background-color: #3B4455;\n",
              "      fill: #D2E3FC;\n",
              "    }\n",
              "\n",
              "    [theme=dark] .colab-df-convert:hover {\n",
              "      background-color: #434B5C;\n",
              "      box-shadow: 0px 1px 3px 1px rgba(0, 0, 0, 0.15);\n",
              "      filter: drop-shadow(0px 1px 2px rgba(0, 0, 0, 0.3));\n",
              "      fill: #FFFFFF;\n",
              "    }\n",
              "  </style>\n",
              "\n",
              "    <script>\n",
              "      const buttonEl =\n",
              "        document.querySelector('#df-65999238-ede8-43ea-b32c-7961db90b48b button.colab-df-convert');\n",
              "      buttonEl.style.display =\n",
              "        google.colab.kernel.accessAllowed ? 'block' : 'none';\n",
              "\n",
              "      async function convertToInteractive(key) {\n",
              "        const element = document.querySelector('#df-65999238-ede8-43ea-b32c-7961db90b48b');\n",
              "        const dataTable =\n",
              "          await google.colab.kernel.invokeFunction('convertToInteractive',\n",
              "                                                    [key], {});\n",
              "        if (!dataTable) return;\n",
              "\n",
              "        const docLinkHtml = 'Like what you see? Visit the ' +\n",
              "          '<a target=\"_blank\" href=https://colab.research.google.com/notebooks/data_table.ipynb>data table notebook</a>'\n",
              "          + ' to learn more about interactive tables.';\n",
              "        element.innerHTML = '';\n",
              "        dataTable['output_type'] = 'display_data';\n",
              "        await google.colab.output.renderOutput(dataTable, element);\n",
              "        const docLink = document.createElement('div');\n",
              "        docLink.innerHTML = docLinkHtml;\n",
              "        element.appendChild(docLink);\n",
              "      }\n",
              "    </script>\n",
              "  </div>\n",
              "\n",
              "\n",
              "<div id=\"df-569d1222-e217-4e2e-891b-430d0665b0dd\">\n",
              "  <button class=\"colab-df-quickchart\" onclick=\"quickchart('df-569d1222-e217-4e2e-891b-430d0665b0dd')\"\n",
              "            title=\"Suggest charts\"\n",
              "            style=\"display:none;\">\n",
              "\n",
              "<svg xmlns=\"http://www.w3.org/2000/svg\" height=\"24px\"viewBox=\"0 0 24 24\"\n",
              "     width=\"24px\">\n",
              "    <g>\n",
              "        <path d=\"M19 3H5c-1.1 0-2 .9-2 2v14c0 1.1.9 2 2 2h14c1.1 0 2-.9 2-2V5c0-1.1-.9-2-2-2zM9 17H7v-7h2v7zm4 0h-2V7h2v10zm4 0h-2v-4h2v4z\"/>\n",
              "    </g>\n",
              "</svg>\n",
              "  </button>\n",
              "\n",
              "<style>\n",
              "  .colab-df-quickchart {\n",
              "      --bg-color: #E8F0FE;\n",
              "      --fill-color: #1967D2;\n",
              "      --hover-bg-color: #E2EBFA;\n",
              "      --hover-fill-color: #174EA6;\n",
              "      --disabled-fill-color: #AAA;\n",
              "      --disabled-bg-color: #DDD;\n",
              "  }\n",
              "\n",
              "  [theme=dark] .colab-df-quickchart {\n",
              "      --bg-color: #3B4455;\n",
              "      --fill-color: #D2E3FC;\n",
              "      --hover-bg-color: #434B5C;\n",
              "      --hover-fill-color: #FFFFFF;\n",
              "      --disabled-bg-color: #3B4455;\n",
              "      --disabled-fill-color: #666;\n",
              "  }\n",
              "\n",
              "  .colab-df-quickchart {\n",
              "    background-color: var(--bg-color);\n",
              "    border: none;\n",
              "    border-radius: 50%;\n",
              "    cursor: pointer;\n",
              "    display: none;\n",
              "    fill: var(--fill-color);\n",
              "    height: 32px;\n",
              "    padding: 0;\n",
              "    width: 32px;\n",
              "  }\n",
              "\n",
              "  .colab-df-quickchart:hover {\n",
              "    background-color: var(--hover-bg-color);\n",
              "    box-shadow: 0 1px 2px rgba(60, 64, 67, 0.3), 0 1px 3px 1px rgba(60, 64, 67, 0.15);\n",
              "    fill: var(--button-hover-fill-color);\n",
              "  }\n",
              "\n",
              "  .colab-df-quickchart-complete:disabled,\n",
              "  .colab-df-quickchart-complete:disabled:hover {\n",
              "    background-color: var(--disabled-bg-color);\n",
              "    fill: var(--disabled-fill-color);\n",
              "    box-shadow: none;\n",
              "  }\n",
              "\n",
              "  .colab-df-spinner {\n",
              "    border: 2px solid var(--fill-color);\n",
              "    border-color: transparent;\n",
              "    border-bottom-color: var(--fill-color);\n",
              "    animation:\n",
              "      spin 1s steps(1) infinite;\n",
              "  }\n",
              "\n",
              "  @keyframes spin {\n",
              "    0% {\n",
              "      border-color: transparent;\n",
              "      border-bottom-color: var(--fill-color);\n",
              "      border-left-color: var(--fill-color);\n",
              "    }\n",
              "    20% {\n",
              "      border-color: transparent;\n",
              "      border-left-color: var(--fill-color);\n",
              "      border-top-color: var(--fill-color);\n",
              "    }\n",
              "    30% {\n",
              "      border-color: transparent;\n",
              "      border-left-color: var(--fill-color);\n",
              "      border-top-color: var(--fill-color);\n",
              "      border-right-color: var(--fill-color);\n",
              "    }\n",
              "    40% {\n",
              "      border-color: transparent;\n",
              "      border-right-color: var(--fill-color);\n",
              "      border-top-color: var(--fill-color);\n",
              "    }\n",
              "    60% {\n",
              "      border-color: transparent;\n",
              "      border-right-color: var(--fill-color);\n",
              "    }\n",
              "    80% {\n",
              "      border-color: transparent;\n",
              "      border-right-color: var(--fill-color);\n",
              "      border-bottom-color: var(--fill-color);\n",
              "    }\n",
              "    90% {\n",
              "      border-color: transparent;\n",
              "      border-bottom-color: var(--fill-color);\n",
              "    }\n",
              "  }\n",
              "</style>\n",
              "\n",
              "  <script>\n",
              "    async function quickchart(key) {\n",
              "      const quickchartButtonEl =\n",
              "        document.querySelector('#' + key + ' button');\n",
              "      quickchartButtonEl.disabled = true;  // To prevent multiple clicks.\n",
              "      quickchartButtonEl.classList.add('colab-df-spinner');\n",
              "      try {\n",
              "        const charts = await google.colab.kernel.invokeFunction(\n",
              "            'suggestCharts', [key], {});\n",
              "      } catch (error) {\n",
              "        console.error('Error during call to suggestCharts:', error);\n",
              "      }\n",
              "      quickchartButtonEl.classList.remove('colab-df-spinner');\n",
              "      quickchartButtonEl.classList.add('colab-df-quickchart-complete');\n",
              "    }\n",
              "    (() => {\n",
              "      let quickchartButtonEl =\n",
              "        document.querySelector('#df-569d1222-e217-4e2e-891b-430d0665b0dd button');\n",
              "      quickchartButtonEl.style.display =\n",
              "        google.colab.kernel.accessAllowed ? 'block' : 'none';\n",
              "    })();\n",
              "  </script>\n",
              "</div>\n",
              "\n",
              "    </div>\n",
              "  </div>\n"
            ],
            "application/vnd.google.colaboratory.intrinsic+json": {
              "type": "dataframe",
              "variable_name": "resampled_df"
            }
          },
          "metadata": {},
          "execution_count": 87
        }
      ]
    },
    {
      "cell_type": "code",
      "source": [
        "resampled_df.dtypes"
      ],
      "metadata": {
        "colab": {
          "base_uri": "https://localhost:8080/",
          "height": 272
        },
        "id": "fLSFcAm6NqWj",
        "outputId": "85388be8-2069-4bd3-acb4-e407ee52a361"
      },
      "execution_count": 88,
      "outputs": [
        {
          "output_type": "execute_result",
          "data": {
            "text/plain": [
              "EDAD_CAT                      int32\n",
              "SEXO_NUM                    float64\n",
              "ESTADO_CIVIL_NUM            float64\n",
              "MUN_RES_NUM                 float64\n",
              "ESCOLARIDAD_PACIENTE_NUM    float64\n",
              "CLUSTER                       int32\n",
              "dtype: object"
            ],
            "text/html": [
              "<div>\n",
              "<style scoped>\n",
              "    .dataframe tbody tr th:only-of-type {\n",
              "        vertical-align: middle;\n",
              "    }\n",
              "\n",
              "    .dataframe tbody tr th {\n",
              "        vertical-align: top;\n",
              "    }\n",
              "\n",
              "    .dataframe thead th {\n",
              "        text-align: right;\n",
              "    }\n",
              "</style>\n",
              "<table border=\"1\" class=\"dataframe\">\n",
              "  <thead>\n",
              "    <tr style=\"text-align: right;\">\n",
              "      <th></th>\n",
              "      <th>0</th>\n",
              "    </tr>\n",
              "  </thead>\n",
              "  <tbody>\n",
              "    <tr>\n",
              "      <th>EDAD_CAT</th>\n",
              "      <td>int32</td>\n",
              "    </tr>\n",
              "    <tr>\n",
              "      <th>SEXO_NUM</th>\n",
              "      <td>float64</td>\n",
              "    </tr>\n",
              "    <tr>\n",
              "      <th>ESTADO_CIVIL_NUM</th>\n",
              "      <td>float64</td>\n",
              "    </tr>\n",
              "    <tr>\n",
              "      <th>MUN_RES_NUM</th>\n",
              "      <td>float64</td>\n",
              "    </tr>\n",
              "    <tr>\n",
              "      <th>ESCOLARIDAD_PACIENTE_NUM</th>\n",
              "      <td>float64</td>\n",
              "    </tr>\n",
              "    <tr>\n",
              "      <th>CLUSTER</th>\n",
              "      <td>int32</td>\n",
              "    </tr>\n",
              "  </tbody>\n",
              "</table>\n",
              "</div><br><label><b>dtype:</b> object</label>"
            ]
          },
          "metadata": {},
          "execution_count": 88
        }
      ]
    },
    {
      "cell_type": "code",
      "source": [
        "print(type(resampled_df))"
      ],
      "metadata": {
        "colab": {
          "base_uri": "https://localhost:8080/"
        },
        "id": "rr9VzapHNd4I",
        "outputId": "60cb4d99-05ff-4927-f451-bf97bbe248b6"
      },
      "execution_count": 89,
      "outputs": [
        {
          "output_type": "stream",
          "name": "stdout",
          "text": [
            "<class 'pandas.core.frame.DataFrame'>\n"
          ]
        }
      ]
    },
    {
      "cell_type": "code",
      "source": [
        "# Reintegrar los Datos a PySpark\n",
        "\n",
        "# Convertir a lista de diccionarios\n",
        "rows = resampled_df.to_dict(orient=\"records\")\n",
        "# Crear DataFrame de PySpark\n",
        "pobAtendidaNum_cod_balanced = spark.createDataFrame(rows)\n",
        "pobAtendidaNum_cod_balanced.show(5)"
      ],
      "metadata": {
        "colab": {
          "base_uri": "https://localhost:8080/"
        },
        "id": "15GmZ4W6MtNK",
        "outputId": "a2f0babd-28ca-4f47-cd4b-34d3334b6ed1"
      },
      "execution_count": 90,
      "outputs": [
        {
          "output_type": "stream",
          "name": "stderr",
          "text": [
            "/content/spark-3.0.1-bin-hadoop3.2/python/pyspark/sql/session.py:381: UserWarning: inferring schema from dict is deprecated,please use pyspark.sql.Row instead\n",
            "  warnings.warn(\"inferring schema from dict is deprecated,\"\n"
          ]
        },
        {
          "output_type": "stream",
          "name": "stdout",
          "text": [
            "+-------+--------+------------------------+----------------+-----------+--------+\n",
            "|CLUSTER|EDAD_CAT|ESCOLARIDAD_PACIENTE_NUM|ESTADO_CIVIL_NUM|MUN_RES_NUM|SEXO_NUM|\n",
            "+-------+--------+------------------------+----------------+-----------+--------+\n",
            "|      8|       4|                     0.0|             0.0|       14.0|     1.0|\n",
            "|      6|       4|                     2.0|             3.0|        1.0|     1.0|\n",
            "|      9|       0|                     2.0|             2.0|        3.0|     1.0|\n",
            "|      9|       0|                     2.0|             2.0|        2.0|     0.0|\n",
            "|      0|       3|                     0.0|             0.0|        2.0|     0.0|\n",
            "+-------+--------+------------------------+----------------+-----------+--------+\n",
            "only showing top 5 rows\n",
            "\n"
          ]
        }
      ]
    },
    {
      "cell_type": "code",
      "source": [
        "pobAtendidaNum_cod_balanced.printSchema()"
      ],
      "metadata": {
        "colab": {
          "base_uri": "https://localhost:8080/"
        },
        "id": "LHHNSGrTJrX6",
        "outputId": "226fe298-d5b4-40c7-a677-5310a986d52a"
      },
      "execution_count": 91,
      "outputs": [
        {
          "output_type": "stream",
          "name": "stdout",
          "text": [
            "root\n",
            " |-- CLUSTER: long (nullable = true)\n",
            " |-- EDAD_CAT: long (nullable = true)\n",
            " |-- ESCOLARIDAD_PACIENTE_NUM: double (nullable = true)\n",
            " |-- ESTADO_CIVIL_NUM: double (nullable = true)\n",
            " |-- MUN_RES_NUM: double (nullable = true)\n",
            " |-- SEXO_NUM: double (nullable = true)\n",
            "\n"
          ]
        }
      ]
    },
    {
      "cell_type": "code",
      "source": [
        "pobAtendidaNum_cod_balanced.groupBy('CLUSTER').count().show()"
      ],
      "metadata": {
        "colab": {
          "base_uri": "https://localhost:8080/"
        },
        "id": "3IkYzgV9GOpI",
        "outputId": "fbf23c57-edea-4aeb-e4b7-00018a6f59e4"
      },
      "execution_count": 92,
      "outputs": [
        {
          "output_type": "stream",
          "name": "stdout",
          "text": [
            "+-------+-----+\n",
            "|CLUSTER|count|\n",
            "+-------+-----+\n",
            "|      0|21565|\n",
            "|      7|21565|\n",
            "|      6|21565|\n",
            "|      9|21565|\n",
            "|      5|21565|\n",
            "|      1|21565|\n",
            "|      3|21565|\n",
            "|      8|21565|\n",
            "|      2|21565|\n",
            "|      4|21565|\n",
            "+-------+-----+\n",
            "\n"
          ]
        }
      ]
    },
    {
      "cell_type": "markdown",
      "source": [
        "Eliminación de las variables y creacion del vector de caracteristicas"
      ],
      "metadata": {
        "id": "Klg-zk77xdZy"
      }
    },
    {
      "cell_type": "code",
      "source": [
        "cols_cats"
      ],
      "metadata": {
        "colab": {
          "base_uri": "https://localhost:8080/"
        },
        "id": "AfcAOnD3xdAr",
        "outputId": "8237fa47-581b-40b7-8190-cac6806d0aa3"
      },
      "execution_count": 93,
      "outputs": [
        {
          "output_type": "execute_result",
          "data": {
            "text/plain": [
              "['EDAD_CAT',\n",
              " 'SEXO_NUM',\n",
              " 'ESTADO_CIVIL_NUM',\n",
              " 'MUN_RES_NUM',\n",
              " 'ESCOLARIDAD_PACIENTE_NUM']"
            ]
          },
          "metadata": {},
          "execution_count": 93
        }
      ]
    },
    {
      "cell_type": "code",
      "source": [
        "model_features = cols_cats\n",
        "vectorAssembler = VectorAssembler(inputCols = model_features, outputCol = 'FEATURES')\n",
        "vdata = vectorAssembler.transform(pobAtendidaNum_cod_balanced)"
      ],
      "metadata": {
        "id": "liCbf6oJ1hr1"
      },
      "execution_count": 94,
      "outputs": []
    },
    {
      "cell_type": "code",
      "source": [
        "vdata = vdata.select(['FEATURES', 'CLUSTER'])\n",
        "vdata.show(5, truncate = False, vertical = True)"
      ],
      "metadata": {
        "colab": {
          "base_uri": "https://localhost:8080/"
        },
        "id": "EmMbNb112V2C",
        "outputId": "27b5bae5-4f4c-4f0d-bfab-67ede9127ec1"
      },
      "execution_count": 95,
      "outputs": [
        {
          "output_type": "stream",
          "name": "stdout",
          "text": [
            "-RECORD 0--------------------------\n",
            " FEATURES | [4.0,1.0,0.0,14.0,0.0] \n",
            " CLUSTER  | 8                      \n",
            "-RECORD 1--------------------------\n",
            " FEATURES | [4.0,1.0,3.0,1.0,2.0]  \n",
            " CLUSTER  | 6                      \n",
            "-RECORD 2--------------------------\n",
            " FEATURES | [0.0,1.0,2.0,3.0,2.0]  \n",
            " CLUSTER  | 9                      \n",
            "-RECORD 3--------------------------\n",
            " FEATURES | [0.0,0.0,2.0,2.0,2.0]  \n",
            " CLUSTER  | 9                      \n",
            "-RECORD 4--------------------------\n",
            " FEATURES | (5,[0,3],[3.0,2.0])    \n",
            " CLUSTER  | 0                      \n",
            "only showing top 5 rows\n",
            "\n"
          ]
        }
      ]
    },
    {
      "cell_type": "markdown",
      "source": [
        "Creamos los conjuntos de datos de entrenamiento y evaluación (Split)"
      ],
      "metadata": {
        "id": "CRoSuEbZ3Bdp"
      }
    },
    {
      "cell_type": "code",
      "source": [
        "(trainingData, testData) = vdata.randomSplit([0.7, 0.3])\n",
        "print(trainingData.count())\n",
        "print(testData.count())\n",
        "print(\"---------------------\")\n",
        "print(vdata.count())"
      ],
      "metadata": {
        "colab": {
          "base_uri": "https://localhost:8080/"
        },
        "id": "WrVAnfdU3AJI",
        "outputId": "25e0a147-fe58-43cc-eba7-08cf735bf6a4"
      },
      "execution_count": 96,
      "outputs": [
        {
          "output_type": "stream",
          "name": "stdout",
          "text": [
            "150901\n",
            "64749\n",
            "---------------------\n",
            "215650\n"
          ]
        }
      ]
    },
    {
      "cell_type": "markdown",
      "source": [
        "### **Selección del modelo**"
      ],
      "metadata": {
        "id": "kKtMyrTlLoH4"
      }
    },
    {
      "cell_type": "code",
      "source": [
        "from sklearn.metrics import classification_report, confusion_matrix\n",
        "from pyspark.ml.evaluation import BinaryClassificationEvaluator, MulticlassClassificationEvaluator"
      ],
      "metadata": {
        "id": "6OBtYjO35pPF"
      },
      "execution_count": 97,
      "outputs": []
    },
    {
      "cell_type": "markdown",
      "source": [
        "#### **Árboles de decisión para clasificación**\n"
      ],
      "metadata": {
        "id": "8wjRAAWz3UEB"
      }
    },
    {
      "cell_type": "code",
      "source": [
        "from pyspark.ml.classification import DecisionTreeClassifier"
      ],
      "metadata": {
        "id": "7V-dXqCu3bJy"
      },
      "execution_count": 98,
      "outputs": []
    },
    {
      "cell_type": "code",
      "source": [
        "dt = DecisionTreeClassifier(labelCol=\"CLUSTER\", featuresCol=\"FEATURES\", maxBins = 200)\n",
        "dt_model=dt.fit(trainingData)"
      ],
      "metadata": {
        "id": "a0I8KkkD3eWz"
      },
      "execution_count": 99,
      "outputs": []
    },
    {
      "cell_type": "code",
      "source": [
        "predict_train = dt_model.transform(trainingData)\n",
        "predict_train.select('CLUSTER','prediction').show(5)"
      ],
      "metadata": {
        "colab": {
          "base_uri": "https://localhost:8080/"
        },
        "id": "c-2H1wIR4J2J",
        "outputId": "a130a59b-028e-401f-e35d-845aab306c4d"
      },
      "execution_count": 100,
      "outputs": [
        {
          "output_type": "stream",
          "name": "stdout",
          "text": [
            "+-------+----------+\n",
            "|CLUSTER|prediction|\n",
            "+-------+----------+\n",
            "|      9|       9.0|\n",
            "|      9|       9.0|\n",
            "|      9|       9.0|\n",
            "|      9|       9.0|\n",
            "|      9|       9.0|\n",
            "+-------+----------+\n",
            "only showing top 5 rows\n",
            "\n"
          ]
        }
      ]
    },
    {
      "cell_type": "markdown",
      "source": [
        "### **Evaluar**\n",
        "\n",
        "#### **Arboles de decisión**"
      ],
      "metadata": {
        "id": "_S2kp4hL5YWM"
      }
    },
    {
      "cell_type": "code",
      "source": [
        "predict_test = dt_model.transform(testData)\n",
        "predict_test.select('CLUSTER','prediction').show(5)"
      ],
      "metadata": {
        "colab": {
          "base_uri": "https://localhost:8080/"
        },
        "id": "OOZKOo1-5i7d",
        "outputId": "ecd78872-7afa-4fae-a80c-7822e40482af"
      },
      "execution_count": 101,
      "outputs": [
        {
          "output_type": "stream",
          "name": "stdout",
          "text": [
            "+-------+----------+\n",
            "|CLUSTER|prediction|\n",
            "+-------+----------+\n",
            "|      9|       9.0|\n",
            "|      9|       9.0|\n",
            "|      9|       9.0|\n",
            "|      9|       9.0|\n",
            "|      9|       9.0|\n",
            "+-------+----------+\n",
            "only showing top 5 rows\n",
            "\n"
          ]
        }
      ]
    },
    {
      "cell_type": "code",
      "source": [
        "clase_real = predict_test.select(['CLUSTER']).collect()\n",
        "clase_prediccion = predict_test.select(['prediction']).collect()\n",
        "print(\"Medidas de error\")\n",
        "print(classification_report(clase_real, clase_prediccion))"
      ],
      "metadata": {
        "colab": {
          "base_uri": "https://localhost:8080/"
        },
        "id": "7evxGWVVyCn3",
        "outputId": "6805de8a-d66b-4adb-ac96-208cd263885f"
      },
      "execution_count": 102,
      "outputs": [
        {
          "output_type": "stream",
          "name": "stdout",
          "text": [
            "Medidas de error\n",
            "              precision    recall  f1-score   support\n",
            "\n",
            "           0       0.00      0.00      0.00      6458\n",
            "           1       0.97      1.00      0.99      6536\n",
            "           2       1.00      0.99      0.99      6472\n",
            "           3       0.97      1.00      0.98      6384\n",
            "           4       1.00      0.99      1.00      6442\n",
            "           5       0.99      0.99      0.99      6504\n",
            "           6       0.49      0.97      0.65      6491\n",
            "           7       0.99      0.87      0.93      6611\n",
            "           8       1.00      1.00      1.00      6393\n",
            "           9       0.88      1.00      0.94      6458\n",
            "\n",
            "    accuracy                           0.88     64749\n",
            "   macro avg       0.83      0.88      0.85     64749\n",
            "weighted avg       0.83      0.88      0.85     64749\n",
            "\n"
          ]
        },
        {
          "output_type": "stream",
          "name": "stderr",
          "text": [
            "/usr/local/lib/python3.10/dist-packages/sklearn/metrics/_classification.py:1531: UndefinedMetricWarning: Precision is ill-defined and being set to 0.0 in labels with no predicted samples. Use `zero_division` parameter to control this behavior.\n",
            "  _warn_prf(average, modifier, f\"{metric.capitalize()} is\", len(result))\n",
            "/usr/local/lib/python3.10/dist-packages/sklearn/metrics/_classification.py:1531: UndefinedMetricWarning: Precision is ill-defined and being set to 0.0 in labels with no predicted samples. Use `zero_division` parameter to control this behavior.\n",
            "  _warn_prf(average, modifier, f\"{metric.capitalize()} is\", len(result))\n",
            "/usr/local/lib/python3.10/dist-packages/sklearn/metrics/_classification.py:1531: UndefinedMetricWarning: Precision is ill-defined and being set to 0.0 in labels with no predicted samples. Use `zero_division` parameter to control this behavior.\n",
            "  _warn_prf(average, modifier, f\"{metric.capitalize()} is\", len(result))\n"
          ]
        }
      ]
    },
    {
      "cell_type": "code",
      "source": [
        "print(\"Matriz de confusión\")\n",
        "print(confusion_matrix(clase_real, clase_prediccion))\n",
        "evaluator = MulticlassClassificationEvaluator(labelCol='CLUSTER')"
      ],
      "metadata": {
        "colab": {
          "base_uri": "https://localhost:8080/"
        },
        "id": "UkdW6hrk76Df",
        "outputId": "80898099-f04e-4aa7-8e02-f911596548bd"
      },
      "execution_count": 103,
      "outputs": [
        {
          "output_type": "stream",
          "name": "stdout",
          "text": [
            "Matriz de confusión\n",
            "[[   0    0    0    0    0    0 6031    0    0  427]\n",
            " [   0 6536    0    0    0    0    0    0    0    0]\n",
            " [   0   86 6386    0    0    0    0    0    0    0]\n",
            " [   0    0    0 6364    0    0    0   17    3    0]\n",
            " [   0    0    0    0 6403   39    0    0    0    0]\n",
            " [   0   82    0    0    9 6413    0    0    0    0]\n",
            " [   0    0    0  153    0    0 6275   15    0   48]\n",
            " [   0    0    0   24    0    0  437 5766    1  383]\n",
            " [   0    0    0    0    0    0    0    0 6393    0]\n",
            " [   0    0    0    0    0    0    0    0    0 6458]]\n"
          ]
        }
      ]
    },
    {
      "cell_type": "code",
      "source": [
        "print('Área ROC con los datos de evaluación', evaluator.evaluate(predict_test))"
      ],
      "metadata": {
        "colab": {
          "base_uri": "https://localhost:8080/"
        },
        "id": "67YWynWc78r3",
        "outputId": "4b4396fd-ad1d-4668-fb79-a2736714c1a5"
      },
      "execution_count": 104,
      "outputs": [
        {
          "output_type": "stream",
          "name": "stdout",
          "text": [
            "Área ROC con los datos de evaluación 0.8471322692450518\n"
          ]
        }
      ]
    },
    {
      "cell_type": "markdown",
      "metadata": {
        "id": "WlI7cjLXLdlQ"
      },
      "source": [
        "##**D) Validación**\n",
        "\n",
        "Cree un archivo con la información de un nuevo paciente por cada integrante del grupo y utilice el modelo de predicción creado anteriormente para predecir el clúster al que pertenecerían los nuevos pacientes"
      ]
    },
    {
      "cell_type": "markdown",
      "metadata": {
        "id": "gaYRRcaPlN9w"
      },
      "source": [
        "A continuación se muestran los registros con los que vamos a trabajar:\n",
        "\n",
        "| ID_UNICO | SEXO      | ESTADO_CIVIL | ZONA_RES | MUN_RES    | PAIS_NCTO | EDAD | ESCOLARIDAD_PACIENTE |\n",
        "|----------|-----------|--------------|----------|------------|-----------|------|----------------------|\n",
        "| 000001   | MASCULINO | CASADO(A)    | URBANA   | MEDELLIN   | COLOMBIA  | 53   | ESPECIALIZACION      |\n",
        "| 000002   | MASCULINO | SOLTERO(A)   | URBANA   | SANTUARIO  | COLOMBIA  | 40   | PROFESIONAL          |\n"
      ]
    },
    {
      "cell_type": "code",
      "source": [
        "pobAtendidaDF_cod.show(5)"
      ],
      "metadata": {
        "colab": {
          "base_uri": "https://localhost:8080/"
        },
        "id": "Z-ZeVv5aTsPE",
        "outputId": "a63b93c6-0af4-489b-de10-5df3bba1d520"
      },
      "execution_count": 105,
      "outputs": [
        {
          "output_type": "stream",
          "name": "stdout",
          "text": [
            "+--------+---------+---------------+--------+---------------+---------+----+--------------------+\n",
            "|ID_UNICO|     SEXO|   ESTADO_CIVIL|ZONA_RES|        MUN_RES|PAIS_NCTO|EDAD|ESCOLARIDAD_PACIENTE|\n",
            "+--------+---------+---------------+--------+---------------+---------+----+--------------------+\n",
            "|  676901|MASCULINO|     SOLTERO(A)|  URBANA|  ZONA BANANERA| COLOMBIA|  54|   BASICA SECUNDARIA|\n",
            "|  676949|MASCULINO|    UNION LIBRE|  URBANA|       MEDELLIN| COLOMBIA|  27|     SIN INFORMACION|\n",
            "|  676948|MASCULINO|SIN INFORMACION|  URBANA|SIN INFORMACION| COLOMBIA|   0|     SIN INFORMACION|\n",
            "|  635991| FEMENINO|SIN INFORMACION|  URBANA|         ITAGUI| COLOMBIA|   0|     SIN INFORMACION|\n",
            "|  676947| FEMENINO|     SOLTERO(A)|  URBANA|         ITAGUI| COLOMBIA|  24|   BASICA SECUNDARIA|\n",
            "+--------+---------+---------------+--------+---------------+---------+----+--------------------+\n",
            "only showing top 5 rows\n",
            "\n"
          ]
        }
      ]
    },
    {
      "cell_type": "code",
      "source": [
        "pobAtendidaDF_cod.count()"
      ],
      "metadata": {
        "colab": {
          "base_uri": "https://localhost:8080/"
        },
        "id": "LuiO3_BIT9Hw",
        "outputId": "f85158d4-3dca-448b-9aaf-299c7259472d"
      },
      "execution_count": 106,
      "outputs": [
        {
          "output_type": "execute_result",
          "data": {
            "text/plain": [
              "55962"
            ]
          },
          "metadata": {},
          "execution_count": 106
        }
      ]
    },
    {
      "cell_type": "code",
      "source": [
        "# Datos\n",
        "new_data = [\n",
        "    (\"000001\", \"MASCULINO\", \"CASADO(A)\", \"URBANA\", \"MEDELLIN\", \"COLOMBIA\", 53, \"ESPECIALIZACION\"),\n",
        "    (\"000002\", \"MASCULINO\", \"SOLTERO(A)\", \"URBANA\", \"SANTUARIO\", \"COLOMBIA\", 40, \"PROFESIONAL\"),\n",
        "]\n",
        "\n",
        "# Definir el esquema\n",
        "schema = StructType([\n",
        "    StructField(\"ID_UNICO\", StringType(), True),\n",
        "    StructField(\"SEXO\", StringType(), True),\n",
        "    StructField(\"ESTADO_CIVIL\", StringType(), True),\n",
        "    StructField(\"ZONA_RES\", StringType(), True),\n",
        "    StructField(\"MUN_RES\", StringType(), True),\n",
        "    StructField(\"PAIS_NCTO\", StringType(), True),\n",
        "    StructField(\"EDAD\", IntegerType(), True),\n",
        "    StructField(\"ESCOLARIDAD_PACIENTE\", StringType(), True)\n",
        "])\n",
        "\n",
        "new_patients_df = spark.createDataFrame(data=new_data, schema = schema)\n",
        "new_patients_df.show()"
      ],
      "metadata": {
        "colab": {
          "base_uri": "https://localhost:8080/"
        },
        "id": "jHv8SVt-H-rI",
        "outputId": "91a7706b-60c3-4e12-e637-2279ffdbe186"
      },
      "execution_count": 107,
      "outputs": [
        {
          "output_type": "stream",
          "name": "stdout",
          "text": [
            "+--------+---------+------------+--------+---------+---------+----+--------------------+\n",
            "|ID_UNICO|     SEXO|ESTADO_CIVIL|ZONA_RES|  MUN_RES|PAIS_NCTO|EDAD|ESCOLARIDAD_PACIENTE|\n",
            "+--------+---------+------------+--------+---------+---------+----+--------------------+\n",
            "|  000001|MASCULINO|   CASADO(A)|  URBANA| MEDELLIN| COLOMBIA|  53|     ESPECIALIZACION|\n",
            "|  000002|MASCULINO|  SOLTERO(A)|  URBANA|SANTUARIO| COLOMBIA|  40|         PROFESIONAL|\n",
            "+--------+---------+------------+--------+---------+---------+----+--------------------+\n",
            "\n"
          ]
        }
      ]
    },
    {
      "cell_type": "code",
      "source": [
        "# Agregar el nuevo registro\n",
        "df_updated = pobAtendidaDF_cod.union(new_patients_df)\n",
        "\n",
        "# Mostrar el DataFrame actualizado\n",
        "df_updated.count()"
      ],
      "metadata": {
        "colab": {
          "base_uri": "https://localhost:8080/"
        },
        "id": "0riSRrR0S-5w",
        "outputId": "a44a7f0b-61e9-4005-9a2d-37a33acf2f7c"
      },
      "execution_count": 108,
      "outputs": [
        {
          "output_type": "execute_result",
          "data": {
            "text/plain": [
              "55964"
            ]
          },
          "metadata": {},
          "execution_count": 108
        }
      ]
    },
    {
      "cell_type": "code",
      "source": [
        "df_updated.tail(5)"
      ],
      "metadata": {
        "colab": {
          "base_uri": "https://localhost:8080/"
        },
        "id": "StMqQKJTUYCZ",
        "outputId": "2da0c942-a01f-41d0-98e5-e223029ddefc"
      },
      "execution_count": 109,
      "outputs": [
        {
          "output_type": "execute_result",
          "data": {
            "text/plain": [
              "[Row(ID_UNICO='249215', SEXO='MASCULINO', ESTADO_CIVIL='SOLTERO(A)', ZONA_RES='URBANA', MUN_RES='ENVIGADO', PAIS_NCTO='COLOMBIA', EDAD=30, ESCOLARIDAD_PACIENTE='BASICA SECUNDARIA'),\n",
              " Row(ID_UNICO='249209', SEXO='MASCULINO', ESTADO_CIVIL='SOLTERO(A)', ZONA_RES='URBANA', MUN_RES='ENVIGADO', PAIS_NCTO='COLOMBIA', EDAD=29, ESCOLARIDAD_PACIENTE='MEDIA ACADEMICA O CLASICA'),\n",
              " Row(ID_UNICO='249200', SEXO='MASCULINO', ESTADO_CIVIL='CASADO(A)', ZONA_RES='URBANA', MUN_RES='CERETE', PAIS_NCTO='COLOMBIA', EDAD=48, ESCOLARIDAD_PACIENTE='SIN INFORMACION'),\n",
              " Row(ID_UNICO='000001', SEXO='MASCULINO', ESTADO_CIVIL='CASADO(A)', ZONA_RES='URBANA', MUN_RES='MEDELLIN', PAIS_NCTO='COLOMBIA', EDAD=53, ESCOLARIDAD_PACIENTE='ESPECIALIZACION'),\n",
              " Row(ID_UNICO='000002', SEXO='MASCULINO', ESTADO_CIVIL='SOLTERO(A)', ZONA_RES='URBANA', MUN_RES='SANTUARIO', PAIS_NCTO='COLOMBIA', EDAD=40, ESCOLARIDAD_PACIENTE='PROFESIONAL')]"
            ]
          },
          "metadata": {},
          "execution_count": 109
        }
      ]
    },
    {
      "cell_type": "code",
      "source": [
        "df_updated_num = df_updated\n",
        "\n",
        "for c in df_updated_num.columns[1:]:\n",
        "  if c != 'EDAD':\n",
        "    # Columna\n",
        "    indexer = StringIndexer(inputCol = c, outputCol = c + '_NUM')\n",
        "    # Asignacion de valores de indices los strings\n",
        "    indexer = indexer.fit(df_updated_num)\n",
        "    # Creacion de columna con valores de indices\n",
        "    df_updated_num = indexer.transform(df_updated_num)"
      ],
      "metadata": {
        "id": "_vS2DyopMAvv"
      },
      "execution_count": 110,
      "outputs": []
    },
    {
      "cell_type": "code",
      "source": [
        "df_updated_num.tail(5)"
      ],
      "metadata": {
        "colab": {
          "base_uri": "https://localhost:8080/"
        },
        "id": "TbUI1mdHMXQi",
        "outputId": "b90305c8-cdec-4f28-a0cb-7e228005fd46"
      },
      "execution_count": 111,
      "outputs": [
        {
          "output_type": "execute_result",
          "data": {
            "text/plain": [
              "[Row(ID_UNICO='249215', SEXO='MASCULINO', ESTADO_CIVIL='SOLTERO(A)', ZONA_RES='URBANA', MUN_RES='ENVIGADO', PAIS_NCTO='COLOMBIA', EDAD=30, ESCOLARIDAD_PACIENTE='BASICA SECUNDARIA', SEXO_NUM=1.0, ESTADO_CIVIL_NUM=0.0, ZONA_RES_NUM=0.0, MUN_RES_NUM=0.0, PAIS_NCTO_NUM=0.0, ESCOLARIDAD_PACIENTE_NUM=0.0),\n",
              " Row(ID_UNICO='249209', SEXO='MASCULINO', ESTADO_CIVIL='SOLTERO(A)', ZONA_RES='URBANA', MUN_RES='ENVIGADO', PAIS_NCTO='COLOMBIA', EDAD=29, ESCOLARIDAD_PACIENTE='MEDIA ACADEMICA O CLASICA', SEXO_NUM=1.0, ESTADO_CIVIL_NUM=0.0, ZONA_RES_NUM=0.0, MUN_RES_NUM=0.0, PAIS_NCTO_NUM=0.0, ESCOLARIDAD_PACIENTE_NUM=3.0),\n",
              " Row(ID_UNICO='249200', SEXO='MASCULINO', ESTADO_CIVIL='CASADO(A)', ZONA_RES='URBANA', MUN_RES='CERETE', PAIS_NCTO='COLOMBIA', EDAD=48, ESCOLARIDAD_PACIENTE='SIN INFORMACION', SEXO_NUM=1.0, ESTADO_CIVIL_NUM=1.0, ZONA_RES_NUM=0.0, MUN_RES_NUM=120.0, PAIS_NCTO_NUM=0.0, ESCOLARIDAD_PACIENTE_NUM=2.0),\n",
              " Row(ID_UNICO='000001', SEXO='MASCULINO', ESTADO_CIVIL='CASADO(A)', ZONA_RES='URBANA', MUN_RES='MEDELLIN', PAIS_NCTO='COLOMBIA', EDAD=53, ESCOLARIDAD_PACIENTE='ESPECIALIZACION', SEXO_NUM=1.0, ESTADO_CIVIL_NUM=1.0, ZONA_RES_NUM=0.0, MUN_RES_NUM=1.0, PAIS_NCTO_NUM=0.0, ESCOLARIDAD_PACIENTE_NUM=7.0),\n",
              " Row(ID_UNICO='000002', SEXO='MASCULINO', ESTADO_CIVIL='SOLTERO(A)', ZONA_RES='URBANA', MUN_RES='SANTUARIO', PAIS_NCTO='COLOMBIA', EDAD=40, ESCOLARIDAD_PACIENTE='PROFESIONAL', SEXO_NUM=1.0, ESTADO_CIVIL_NUM=0.0, ZONA_RES_NUM=0.0, MUN_RES_NUM=100.0, PAIS_NCTO_NUM=0.0, ESCOLARIDAD_PACIENTE_NUM=4.0)]"
            ]
          },
          "metadata": {},
          "execution_count": 111
        }
      ]
    },
    {
      "cell_type": "code",
      "source": [
        "df_updated_num = df_updated_num.withColumn(\"EDAD_CAT\", categorize_udf(F.col(\"EDAD\")))\n",
        "df_updated_num.show(3)"
      ],
      "metadata": {
        "colab": {
          "base_uri": "https://localhost:8080/"
        },
        "id": "luHT5rYgLRNP",
        "outputId": "81801ff6-9881-4d34-9dd5-11eafe9dbced"
      },
      "execution_count": 112,
      "outputs": [
        {
          "output_type": "stream",
          "name": "stdout",
          "text": [
            "+--------+---------+---------------+--------+---------------+---------+----+--------------------+--------+----------------+------------+-----------+-------------+------------------------+--------+\n",
            "|ID_UNICO|     SEXO|   ESTADO_CIVIL|ZONA_RES|        MUN_RES|PAIS_NCTO|EDAD|ESCOLARIDAD_PACIENTE|SEXO_NUM|ESTADO_CIVIL_NUM|ZONA_RES_NUM|MUN_RES_NUM|PAIS_NCTO_NUM|ESCOLARIDAD_PACIENTE_NUM|EDAD_CAT|\n",
            "+--------+---------+---------------+--------+---------------+---------+----+--------------------+--------+----------------+------------+-----------+-------------+------------------------+--------+\n",
            "|  676901|MASCULINO|     SOLTERO(A)|  URBANA|  ZONA BANANERA| COLOMBIA|  54|   BASICA SECUNDARIA|     1.0|             0.0|         0.0|       14.0|          0.0|                     0.0|       4|\n",
            "|  676949|MASCULINO|    UNION LIBRE|  URBANA|       MEDELLIN| COLOMBIA|  27|     SIN INFORMACION|     1.0|             3.0|         0.0|        1.0|          0.0|                     2.0|       4|\n",
            "|  676948|MASCULINO|SIN INFORMACION|  URBANA|SIN INFORMACION| COLOMBIA|   0|     SIN INFORMACION|     1.0|             2.0|         0.0|        3.0|          0.0|                     2.0|       0|\n",
            "+--------+---------+---------------+--------+---------------+---------+----+--------------------+--------+----------------+------------+-----------+-------------+------------------------+--------+\n",
            "only showing top 3 rows\n",
            "\n"
          ]
        }
      ]
    },
    {
      "cell_type": "code",
      "source": [
        "vector_col = \"FEATURES\"\n",
        "assembler = VectorAssembler(inputCols = cols_cats, outputCol = vector_col)\n",
        "# Inspeccion del resultado\n",
        "vector_features = assembler.transform(df_updated_num)"
      ],
      "metadata": {
        "id": "kezW3t3OLYfC"
      },
      "execution_count": 113,
      "outputs": []
    },
    {
      "cell_type": "code",
      "source": [
        "vada_val = vector_features.select(\"ID_UNICO\",\"FEATURES\")\n",
        "vada_val.tail(5)"
      ],
      "metadata": {
        "colab": {
          "base_uri": "https://localhost:8080/"
        },
        "id": "ii078AgEMt9u",
        "outputId": "7503a4d6-326b-47db-b0ea-ef0f709b42fa"
      },
      "execution_count": 114,
      "outputs": [
        {
          "output_type": "execute_result",
          "data": {
            "text/plain": [
              "[Row(ID_UNICO='249215', FEATURES=SparseVector(5, {0: 4.0, 1: 1.0})),\n",
              " Row(ID_UNICO='249209', FEATURES=DenseVector([4.0, 1.0, 0.0, 0.0, 3.0])),\n",
              " Row(ID_UNICO='249200', FEATURES=DenseVector([4.0, 1.0, 1.0, 120.0, 2.0])),\n",
              " Row(ID_UNICO='000001', FEATURES=DenseVector([4.0, 1.0, 1.0, 1.0, 7.0])),\n",
              " Row(ID_UNICO='000002', FEATURES=DenseVector([4.0, 1.0, 0.0, 100.0, 4.0]))]"
            ]
          },
          "metadata": {},
          "execution_count": 114
        }
      ]
    },
    {
      "cell_type": "code",
      "source": [
        "val_test = vada_val.where(vada_val.ID_UNICO.isin([\"000001\", \"000002\"]))\n",
        "val_test.show()"
      ],
      "metadata": {
        "colab": {
          "base_uri": "https://localhost:8080/"
        },
        "id": "j43l_kh3NH3b",
        "outputId": "48ae0d41-d7fc-4a2d-b676-2244aff2dabe"
      },
      "execution_count": 115,
      "outputs": [
        {
          "output_type": "stream",
          "name": "stdout",
          "text": [
            "+--------+--------------------+\n",
            "|ID_UNICO|            FEATURES|\n",
            "+--------+--------------------+\n",
            "|  000001|[4.0,1.0,1.0,1.0,...|\n",
            "|  000002|[4.0,1.0,0.0,100....|\n",
            "+--------+--------------------+\n",
            "\n"
          ]
        }
      ]
    },
    {
      "cell_type": "code",
      "source": [
        "predict_test = dt_model.transform(val_test)\n",
        "predict_test.show(truncate = False)"
      ],
      "metadata": {
        "colab": {
          "base_uri": "https://localhost:8080/"
        },
        "id": "DB5PpHcnNZUC",
        "outputId": "d6d23c0c-8663-4393-dc40-4621f0d8468e"
      },
      "execution_count": 116,
      "outputs": [
        {
          "output_type": "stream",
          "name": "stdout",
          "text": [
            "+--------+-----------------------+-----------------------------------------------+------------------------------------------------------------------------+----------+\n",
            "|ID_UNICO|FEATURES               |rawPrediction                                  |probability                                                             |prediction|\n",
            "+--------+-----------------------+-----------------------------------------------+------------------------------------------------------------------------+----------+\n",
            "|000001  |[4.0,1.0,1.0,1.0,7.0]  |[0.0,0.0,0.0,14471.0,0.0,0.0,369.0,0.0,0.0,0.0]|[0.0,0.0,0.0,0.9751347708894879,0.0,0.0,0.02486522911051213,0.0,0.0,0.0]|3.0       |\n",
            "|000002  |[4.0,1.0,0.0,100.0,4.0]|[0.0,0.0,0.0,0.0,0.0,14720.0,0.0,0.0,0.0,0.0]  |[0.0,0.0,0.0,0.0,0.0,1.0,0.0,0.0,0.0,0.0]                               |5.0       |\n",
            "+--------+-----------------------+-----------------------------------------------+------------------------------------------------------------------------+----------+\n",
            "\n"
          ]
        }
      ]
    },
    {
      "cell_type": "markdown",
      "source": [
        "```\n",
        "Centroides:\n",
        "\n",
        "[4.0, 0.0, 0.0, 0.0, 1.0]\n",
        "[4.0, 0.0, 2.0, 51.0, 2.0]\n",
        "[4.0, 0.0, 1.0, 24.0, 2.0]\n",
        "[4.0, 0.0, 1.0, 1.0, 6.0]\n",
        "[4.0, 0.0, 1.0, 154.0, 2.0]\n",
        "[4.0, 0.0, 1.0, 92.0, 2.0]\n",
        "[4.0, 0.0, 4.0, 1.0, 1.0]\n",
        "[4.0, 0.0, 2.0, 4.0, 2.0]\n",
        "[4.0, 0.0, 1.0, 7.0, 2.0]\n",
        "[0.0, 1.0, 1.0, 1.0, 2.0]\n",
        "\n",
        "Estructura:\n",
        "\n",
        "['EDAD_CAT',\n",
        " 'SEXO_NUM',\n",
        " 'ESTADO_CIVIL_NUM',\n",
        " 'MUN_RES_NUM',\n",
        " 'ESCOLARIDAD_PACIENTE_NUM']\n",
        "\n",
        "```"
      ],
      "metadata": {
        "id": "g6pwlOisWWkK"
      }
    },
    {
      "cell_type": "code",
      "source": [],
      "metadata": {
        "id": "3srbjlPwNsT9"
      },
      "execution_count": 116,
      "outputs": []
    },
    {
      "cell_type": "markdown",
      "metadata": {
        "id": "4JYIy6EaEISf"
      },
      "source": [
        "##**Análisis de los resultados**\n",
        "\n",
        "Analice la calidad de los modelos obtenidos y presente sus conclusiones sobre el ejercicio.\n",
        "\n",
        "1. El indice de la silueta = 0.5015339351667818 indica que la cantidad de cluster escogida, 10 según la gráfica de codo, es adecuada para la caracterización de los usuarios.\n",
        "\n",
        "2. Se usó un árbol de clasificación como modelo de aprendizaje ya que este es aconcejable según el tipo de datos suministrados.\n",
        "\n",
        "2. Tanto la curva ROC como la matriz de confusión indican que el modelo usado es adecuado para una correcta clasificación de  los usuarios.\n",
        "\n",
        "3. Los datos de validación usados fueron clasificados adecuadamente por el modelo, lo que valida la conclusión 2. Según los datos suministrados el  usuario con ID: 000001 pertenece al cluster 3 y fue clasificado, según el modelo, en dicho cluster. De igual forma con el usuario con ID: 000002, que debía estar en el cluster 5 y efectivamente fue clasificado ahí.\n",
        "\n",
        "4. Para mantener el esquema de los datos los de validación se agregaron al final de tabla original y se realizó todo el prepocesamiento y luego se seleccionaron estos 2 datos de la tabla. De acuerdo con la conclusión 3 estos fueron clasificados adecuadamente. No obstante, se entiende que el procedimiento realizado no es óptimo por el tiempo de ejecución y el consumo de recuros, por lo tanto se deja como trabajo posterior mejorar esta parte del algoritmo.\n",
        "\n",
        "5. Si bien puedo haberse usado una clusterización mayor, con 12 o 14 cluster, las pruebas realizadas indicaban que el modelo no tenía una mejoría notable por lo tanto, apoyados en la gráfica de codo, de opto por que fueran 10.\n",
        "\n",
        "6. Como se indicó previamente se dio tratamiento de outliers a la zona de residencia y al país ya que tanto la zona urbana como el país Colombia son altamente predominantes en los datos.\n",
        "\n",
        "7. En este análisis nos basamos en los rangos de edad indicados y en función de estos se trabajó el tratamiento de los datos y la clasificación de los cluster pero también puede realizarse esta en función de la escolaridad o el municipio de residencia, trabajo que se deja para futuras oportunidades.\n",
        "\n",
        "8. También se hizo bastante notorio, en las pruebas realizadas, que cada vez que se corre el modelo se cambia la clusterización y por tanto los resultados optenidos, aunque en todos los casos de las pruebas realizadas estos fueron superiores al 0.8 en la curva ROC.\n",
        "\n"
      ]
    },
    {
      "cell_type": "markdown",
      "source": [
        "## **Referencias**\n",
        "\n",
        "1. https://dcain.etsin.upm.es/~carlos/bookAA/03.1_Clustering-K-Means.html\n",
        "2. https://qu4nt.github.io/sklearn-doc-es/auto_examples/cluster/plot_kmeans_silhouette_analysis.html\n",
        "3. https://forum.huawei.com/enterprise/es/%C2%BFc%C3%B3mo-introducirse-en-el-camino-de-la-ciencia-de-datos/thread/667237354135502848-667212895009779712\n",
        "4. https://dcain.etsin.upm.es/~carlos/bookAA/03.1_Clustering-K-Means.html\n",
        "5. https://learn.microsoft.com/en-us/azure/synapse-analytics/spark/apache-spark-machine-learning-mllib-notebook"
      ],
      "metadata": {
        "id": "1sELR0imxJ3A"
      }
    }
  ],
  "metadata": {
    "colab": {
      "provenance": []
    },
    "kernelspec": {
      "display_name": "Python 3",
      "name": "python3"
    }
  },
  "nbformat": 4,
  "nbformat_minor": 0
}