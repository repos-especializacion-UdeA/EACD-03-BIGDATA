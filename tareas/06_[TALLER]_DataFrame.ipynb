{
 "cells": [
  {
   "cell_type": "code",
   "execution_count": null,
   "metadata": {
    "id": "Z7rbDx_-JApm"
   },
   "outputs": [],
   "source": [
    "!wget --no-cache -O init.py -q https://raw.githubusercontent.com/UDEA-Esp-Analitica-y-Ciencia-de-Datos/EACD-03-BIGDATA/master/init.py\n",
    "import init; init.init(force_download=False);\n",
    "from IPython.display import Image"
   ]
  },
  {
   "cell_type": "code",
   "execution_count": null,
   "metadata": {
    "id": "hDzn_xcpJRWR"
   },
   "outputs": [],
   "source": [
    "Image(\"local/imgs/udea-datascience.png\")"
   ]
  },
  {
   "cell_type": "markdown",
   "metadata": {
    "id": "myHD-jFLKEal"
   },
   "source": [
    "# **TALLER 2: DataFrame**\n",
    "## Desarrollado por: Mg. Efraín Alberto Oviedo; Ing. Kevin Martínez Gallego\n",
    "## Universidad de Antioquia"
   ]
  },
  {
   "cell_type": "markdown",
   "metadata": {
    "id": "4GK6iJ1CKS8o"
   },
   "source": [
    "Por favor, ingrese la información de cada integrante del grupo de trabajo\n",
    "\n",
    "**Nombre Completo:**\n",
    "\n",
    "**Cédula:**\n",
    "\n",
    "**Correo Institucional:**"
   ]
  },
  {
   "cell_type": "markdown",
   "metadata": {
    "id": "UlYY1g0lKhz_"
   },
   "source": [
    "#**Análisis de becas académicas para estudiantes Colombianos**\n",
    "\n",
    "El ICETEX ha dispuesto un histórico de becas ofrecidas para estudios de nivel de pregrado y posgrado, presenciales o virtuales, que han sido propuestas para fortalecer la formación académica de ciudadanos colombianos en el exterior.\n",
    "\n",
    "(Disponible en https://www.datos.gov.co/Educaci-n/Icetex-Hist-rico-de-Becas/eb6r-dfgr)\n",
    "\n",
    "Para cada caso se reportan los siguientes datos:\n",
    "\n",
    "* Código Convocatoria\n",
    "* Nombre del Oferente: Nombre del gobierno que ofrece la beca.\n",
    "* Área del Conocimiento\n",
    "* Nombre del Programa\n",
    "* Nombre del País\n",
    "* Fecha de Recepción -mm/dd/aaaa\n",
    "* Perfil del Aplicante\n",
    "* Objetivo del Programa: Breve descripción del programa académico.\n",
    "\n",
    "Se solicita de su ayuda para responder a los siguientes interrogantes:"
   ]
  },
  {
   "cell_type": "markdown",
   "metadata": {
    "id": "GAyH6mgGK3VA"
   },
   "source": [
    "##**A) Calidad de datos**\n",
    "\n",
    "Revise cada una de las variables disponibles y resuelva los problemas de calidad de datos que puedan afectar el desarrollo de este taller, justificando las razones de su decisión para cada caso\n"
   ]
  },
  {
   "cell_type": "markdown",
   "metadata": {
    "id": "F-njqbnTM2To"
   },
   "source": [
    "Presente aquí el código desarrollado y el resultado obtenido"
   ]
  },
  {
   "cell_type": "markdown",
   "metadata": {
    "id": "pDX41ab4LO7g"
   },
   "source": [
    "##**B) Aumento de ofertas de becas**\n",
    "\n",
    "Identifique si la cantidad de becas ofrecidas para ciudadanos colombianos se ha incrementado con los años"
   ]
  },
  {
   "cell_type": "markdown",
   "metadata": {
    "id": "bSlgm0j-NQjn"
   },
   "source": [
    "Presente aquí el código desarrollado y el resultado obtenido"
   ]
  },
  {
   "cell_type": "markdown",
   "metadata": {
    "id": "T89Y60StLUuh"
   },
   "source": [
    "##**C) Paises que han ofrecido becas**\n",
    "\n",
    "Presente un listado con todos los países (diferentes de Colombia) de los que se tiene reporte que han ofrecido becas para estudiantes colombianos (*solamente presentar nombres de países, y estos solo deben aparecer una única vez en la lista*)"
   ]
  },
  {
   "cell_type": "markdown",
   "metadata": {
    "id": "xWQkDcDZNRVa"
   },
   "source": [
    "Presente aquí el código desarrollado y el resultado obtenido"
   ]
  },
  {
   "cell_type": "markdown",
   "metadata": {
    "id": "WlI7cjLXLdlQ"
   },
   "source": [
    "##**D) Áreas del conocimiento y Posgrados**\n",
    "\n",
    "Se desea averiguar cúal es el área de conocimiento predominante por país. Además, queremos conocer qué porcentaje de los programas ofrecidos (**de acuerdo al nombre del programa**) corresponden a estudios de posgrado."
   ]
  },
  {
   "cell_type": "markdown",
   "metadata": {
    "id": "gaYRRcaPlN9w"
   },
   "source": [
    "Presente aquí el código desarrollado y el resultado obtenido"
   ]
  },
  {
   "cell_type": "markdown",
   "metadata": {
    "id": "HGwierHTLFt3"
   },
   "source": [
    "##**E) ¿Qué podemos concluir a partir del Perfil del Aspirante y el Objetivo del Programa?**\n",
    "\n",
    "Se dispone de dos campos de descripción, que no emplean un formato claro que permita analizar los perfiles de los aspirantes con respecto al objetivo del programa.\n",
    "\n",
    "Plantee una forma de analizar esta información para conocer las relaciones entre los perfiles y lo objetivos."
   ]
  },
  {
   "cell_type": "markdown",
   "metadata": {
    "id": "xHtI3jGcNTNn"
   },
   "source": [
    "Presente aquí el código desarrollado y el resultado obtenido"
   ]
  },
  {
   "cell_type": "markdown",
   "metadata": {
    "id": "4JYIy6EaEISf"
   },
   "source": [
    "##**Análisis de los resultados**\n",
    "\n",
    "Teniendo en cuenta los resultados obtenidos en los puntos anteriores, presente sus impresiones sobre las becas académicas disponibles para los estudiantes colombianos.\n"
   ]
  },
  {
   "cell_type": "markdown",
   "metadata": {
    "id": "FIWNCDYECHFb"
   },
   "source": [
    "#**Notas:**\n",
    "\n",
    "* Analice los resultados de cada punto y presente sus conclusiones\n",
    "* Utilice al menos una vez cada uno de los siguientes métodos\n",
    "\n",
    "  *   agg\n",
    "  *   withColumn\n",
    "  *   groupBy\n",
    "  *   sql\n",
    "  *   registerFunction"
   ]
  }
 ],
 "metadata": {
  "colab": {
   "provenance": []
  },
  "kernelspec": {
   "display_name": "Python 3",
   "name": "python3"
  }
 },
 "nbformat": 4,
 "nbformat_minor": 0
}
