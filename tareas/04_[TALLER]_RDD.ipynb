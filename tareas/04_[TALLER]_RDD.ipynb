{
 "cells": [
  {
   "cell_type": "code",
   "execution_count": null,
   "metadata": {
    "id": "Z7rbDx_-JApm"
   },
   "outputs": [],
   "source": [
    "!wget --no-cache -O init.py -q https://raw.githubusercontent.com/UDEA-Esp-Analitica-y-Ciencia-de-Datos/EACD-03-BIGDATA/master/init.py\n",
    "import init; init.init(force_download=False);\n",
    "from IPython.display import Image"
   ]
  },
  {
   "cell_type": "code",
   "execution_count": null,
   "metadata": {
    "id": "hDzn_xcpJRWR"
   },
   "outputs": [],
   "source": [
    "Image(\"local/imgs/udea-datascience.png\")"
   ]
  },
  {
   "cell_type": "markdown",
   "metadata": {
    "id": "myHD-jFLKEal"
   },
   "source": [
    "# **TALLER 1: RDD**\n",
    "## Desarrollado por: Mg. Efraín Alberto Oviedo\n",
    "## Universidad de Antioquia"
   ]
  },
  {
   "cell_type": "markdown",
   "metadata": {
    "id": "4GK6iJ1CKS8o"
   },
   "source": [
    "Por favor, ingrese la siguiente información:\n",
    "\n",
    "**Nombre Completo:**\n",
    "\n",
    "**Cédula:**\n",
    "\n",
    "**Correo Institucional:**"
   ]
  },
  {
   "cell_type": "markdown",
   "metadata": {
    "id": "UlYY1g0lKhz_"
   },
   "source": [
    "#**Análisis de Accidentalidad en la ciudad de Medellín**\n",
    "\n",
    "La secretaría de movilidad de la alcaldía de Medellín ha recolectado datos relacionados con la accidentalidad vial del año 2017 (Disponible en https://www.datos.gov.co) registrando en cada accidente la siguiente información:\n",
    "* Fecha\n",
    "* Hora\n",
    "* Día de la semana\n",
    "* Clase de accidente\n",
    "* Dirección\n",
    "* Gravedad\n",
    "* Barrio\n",
    "* Comuna\n",
    "\n",
    "Con el fin de adelantar programas que permitan disminuir la accidentalidad vial en la ciudad, se requiere de su ayuda para generar un informe que contenga la siguiente información:\n",
    "\n"
   ]
  },
  {
   "cell_type": "markdown",
   "metadata": {
    "id": "GAyH6mgGK3VA"
   },
   "source": [
    "##**A) Porcentaje de accidentes en cada día de la semana**\n"
   ]
  },
  {
   "cell_type": "markdown",
   "metadata": {
    "id": "F-njqbnTM2To"
   },
   "source": [
    "Presente aquí el código desarrollado y el resultado obtenido"
   ]
  },
  {
   "cell_type": "markdown",
   "metadata": {
    "id": "HGwierHTLFt3"
   },
   "source": [
    "##**B) Barrio en el que se presenta el mayor y el menor número de accidentes**"
   ]
  },
  {
   "cell_type": "markdown",
   "metadata": {
    "id": "PfNZA5UdNPbv"
   },
   "source": [
    "Presente aquí el código desarrollado y el resultado obtenido"
   ]
  },
  {
   "cell_type": "markdown",
   "metadata": {
    "id": "pDX41ab4LO7g"
   },
   "source": [
    "##**C) Comuna en la que se presenta mayor número de accidentes con muertos**"
   ]
  },
  {
   "cell_type": "markdown",
   "metadata": {
    "id": "bSlgm0j-NQjn"
   },
   "source": [
    "Presente aquí el código desarrollado y el resultado obtenido"
   ]
  },
  {
   "cell_type": "markdown",
   "metadata": {
    "id": "T89Y60StLUuh"
   },
   "source": [
    "##**D)\tDía de la semana en que se presentaron mayor cantidad de accidentes con muertos**"
   ]
  },
  {
   "cell_type": "markdown",
   "metadata": {
    "id": "xWQkDcDZNRVa"
   },
   "source": [
    "Presente aquí el código desarrollado y el resultado obtenido"
   ]
  },
  {
   "cell_type": "markdown",
   "metadata": {
    "id": "WlI7cjLXLdlQ"
   },
   "source": [
    "##**E)\tHora en la que se presentó mayor cantidad de accidentes con heridos**"
   ]
  },
  {
   "cell_type": "markdown",
   "metadata": {
    "id": "xHtI3jGcNTNn"
   },
   "source": [
    "Presente aquí el código desarrollado y el resultado obtenido"
   ]
  },
  {
   "cell_type": "markdown",
   "metadata": {
    "id": "j1LlOYfTNVsn"
   },
   "source": [
    "#**Propuesta para disminuir la accidentalidad de la ciudad**"
   ]
  },
  {
   "cell_type": "markdown",
   "metadata": {
    "id": "Z-rPhr5tNezH"
   },
   "source": [
    "A la luz de los resultados obtenidos anteriormente, presente una propuesta orientada a mejorar las cifras de la accidentalidad en la ciudad."
   ]
  }
 ],
 "metadata": {
  "colab": {
   "provenance": []
  },
  "kernelspec": {
   "display_name": "Python 3",
   "name": "python3"
  }
 },
 "nbformat": 4,
 "nbformat_minor": 0
}
