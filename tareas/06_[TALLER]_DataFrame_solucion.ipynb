{
  "cells": [
    {
      "cell_type": "code",
      "execution_count": null,
      "metadata": {
        "id": "Z7rbDx_-JApm",
        "colab": {
          "base_uri": "https://localhost:8080/"
        },
        "outputId": "e878ffb3-ce48-4ab8-ee5f-0f3e00f8d71c"
      },
      "outputs": [
        {
          "output_type": "stream",
          "name": "stdout",
          "text": [
            "replicating local resources\n"
          ]
        }
      ],
      "source": [
        "!wget --no-cache -O init.py -q https://raw.githubusercontent.com/UDEA-Esp-Analitica-y-Ciencia-de-Datos/EACD-03-BIGDATA/master/init.py\n",
        "import init; init.init(force_download=False);\n",
        "from IPython.display import Image"
      ]
    },
    {
      "cell_type": "code",
      "execution_count": null,
      "metadata": {
        "id": "hDzn_xcpJRWR",
        "colab": {
          "base_uri": "https://localhost:8080/",
          "height": 251
        },
        "outputId": "0c5a75f8-a405-40e3-9cf4-5c79342227d0"
      },
      "outputs": [
        {
          "output_type": "execute_result",
          "data": {
            "image/png": "[encoded data removed]",
            "text/plain": [
              "<IPython.core.display.Image object>"
            ]
          },
          "metadata": {},
          "execution_count": 3
        }
      ],
      "source": [
        "Image(\"local/imgs/udea-datascience.png\")"
      ]
    },
    {
      "cell_type": "code",
      "source": [
        "#Instalación\n",
        "!apt-get install openjdk-11-jdk-headless -qq > /dev/null\n",
        "!wget -q http://archive.apache.org/dist/spark/spark-3.0.1/spark-3.0.1-bin-hadoop3.2.tgz\n",
        "!tar xf spark-3.0.1-bin-hadoop3.2.tgz\n",
        "!pip install -q findspark\n",
        "\n",
        "#Variables de Entorno\n",
        "import os\n",
        "os.environ[\"JAVA_HOME\"] = \"/usr/lib/jvm/java-11-openjdk-amd64\"\n",
        "os.environ[\"SPARK_HOME\"] = \"/content/spark-3.0.1-bin-hadoop3.2\"\n",
        "\n",
        "#SparkContext\n",
        "import findspark\n",
        "findspark.init()\n",
        "from pyspark.sql import SparkSession\n",
        "from pyspark import SparkContext\n",
        "spark = SparkSession.builder.master(\"local[*]\").getOrCreate()\n",
        "sc = SparkContext.getOrCreate()"
      ],
      "metadata": {
        "id": "_cpjPvFfjN_r"
      },
      "execution_count": null,
      "outputs": []
    },
    {
      "cell_type": "code",
      "source": [
        "sc"
      ],
      "metadata": {
        "colab": {
          "base_uri": "https://localhost:8080/",
          "height": 199
        },
        "id": "2UuIAMhRrCte",
        "outputId": "66b73e81-d2c2-42d0-c8c0-0e1765eb7abb"
      },
      "execution_count": null,
      "outputs": [
        {
          "output_type": "execute_result",
          "data": {
            "text/plain": [
              "<SparkContext master=local[*] appName=pyspark-shell>"
            ],
            "text/html": [
              "\n",
              "        <div>\n",
              "            <p><b>SparkContext</b></p>\n",
              "\n",
              "            <p><a href=\"http://cf8d3a9b5510:4040\">Spark UI</a></p>\n",
              "\n",
              "            <dl>\n",
              "              <dt>Version</dt>\n",
              "                <dd><code>v3.0.1</code></dd>\n",
              "              <dt>Master</dt>\n",
              "                <dd><code>local[*]</code></dd>\n",
              "              <dt>AppName</dt>\n",
              "                <dd><code>pyspark-shell</code></dd>\n",
              "            </dl>\n",
              "        </div>\n",
              "        "
            ]
          },
          "metadata": {},
          "execution_count": 5
        }
      ]
    },
    {
      "cell_type": "code",
      "source": [
        "from pyspark.sql import SQLContext\n",
        "sqlCtx = SQLContext(sc)"
      ],
      "metadata": {
        "id": "LRGy9SEcjS5S"
      },
      "execution_count": null,
      "outputs": []
    },
    {
      "cell_type": "code",
      "source": [
        "from pyspark.sql.functions import udf\n",
        "from pyspark.sql.types import StringType\n",
        "import pyspark.sql.functions as F"
      ],
      "metadata": {
        "id": "XPedHk2gONKA"
      },
      "execution_count": null,
      "outputs": []
    },
    {
      "cell_type": "markdown",
      "metadata": {
        "id": "myHD-jFLKEal"
      },
      "source": [
        "# **TALLER 2: DataFrame**\n",
        "## Desarrollado por: Mg. Efraín Alberto Oviedo; Ing. Kevin Martínez Gallego\n",
        "## Universidad de Antioquia"
      ]
    },
    {
      "cell_type": "markdown",
      "metadata": {
        "id": "4GK6iJ1CKS8o"
      },
      "source": [
        "Por favor, ingrese la información de cada integrante del grupo de trabajo\n",
        "\n",
        "**Nombre Completo:** Henry Alberto Arcila - Jairo Agudelo M\n",
        "\n",
        "**Cédula:** 70698438 - 98583652\n",
        "\n",
        "**Correo Institucional:** henry.arcila@udea.edu.co - jairo.agudelom@udea.edu.co"
      ]
    },
    {
      "cell_type": "markdown",
      "metadata": {
        "id": "UlYY1g0lKhz_"
      },
      "source": [
        "#**Análisis de becas académicas para estudiantes Colombianos**\n",
        "\n",
        "El ICETEX ha dispuesto un histórico de becas ofrecidas para estudios de nivel de pregrado y posgrado, presenciales o virtuales, que han sido propuestas para fortalecer la formación académica de ciudadanos colombianos en el exterior.\n",
        "\n",
        "(Disponible en https://www.datos.gov.co/Educaci-n/Icetex-Hist-rico-de-Becas/eb6r-dfgr)\n",
        "\n",
        "Para cada caso se reportan los siguientes datos:\n",
        "\n",
        "* Código Convocatoria\n",
        "* Nombre del Oferente: Nombre del gobierno que ofrece la beca.\n",
        "* Área del Conocimiento\n",
        "* Nombre del Programa\n",
        "* Nombre del País\n",
        "* Fecha de Recepción -mm/dd/aaaa\n",
        "* Perfil del Aplicante\n",
        "* Objetivo del Programa: Breve descripción del programa académico.\n",
        "\n",
        "Se solicita de su ayuda para responder a los siguientes interrogantes:"
      ]
    },
    {
      "cell_type": "code",
      "source": [
        "# Carga del dataframe\n",
        "icetex_becas = spark.read.csv('local/data/icetex_becas.csv',\n",
        "                              header=True,\n",
        "                              inferSchema=True)"
      ],
      "metadata": {
        "id": "WIbAA70_jqGc"
      },
      "execution_count": null,
      "outputs": []
    },
    {
      "cell_type": "code",
      "source": [
        "# Cantidad de registros\n",
        "icetex_becas.count()"
      ],
      "metadata": {
        "colab": {
          "base_uri": "https://localhost:8080/"
        },
        "id": "MD8-m7cOkbjr",
        "outputId": "93de54c0-0f05-48aa-a26f-9937e591a7d2"
      },
      "execution_count": null,
      "outputs": [
        {
          "output_type": "execute_result",
          "data": {
            "text/plain": [
              "1485"
            ]
          },
          "metadata": {},
          "execution_count": 10
        }
      ]
    },
    {
      "cell_type": "code",
      "source": [
        "# Columnas (Caracteristica) del dataframe\n",
        "icetex_becas.columns"
      ],
      "metadata": {
        "colab": {
          "base_uri": "https://localhost:8080/"
        },
        "id": "Q2Bm_AnskfsD",
        "outputId": "e5090e3c-a210-4828-b7e0-fc868308ba49"
      },
      "execution_count": null,
      "outputs": [
        {
          "output_type": "execute_result",
          "data": {
            "text/plain": [
              "['Codigo Convocatoria',\n",
              " 'Nombre del Oferente',\n",
              " 'Area del Conocimiento',\n",
              " 'Nombre del programa',\n",
              " 'Nombre del País',\n",
              " 'Fecha de Recepción -mm/dd/aaaa',\n",
              " 'Perfil del Aplicante',\n",
              " 'Objetivo del Programa']"
            ]
          },
          "metadata": {},
          "execution_count": 11
        }
      ]
    },
    {
      "cell_type": "code",
      "source": [
        "# Numero de caracteristicas de cada registro\n",
        "len(icetex_becas.columns)"
      ],
      "metadata": {
        "colab": {
          "base_uri": "https://localhost:8080/"
        },
        "id": "BFsraq_3KtG8",
        "outputId": "8d1c43b8-5718-4e88-d9c1-4733bc68dbb9"
      },
      "execution_count": null,
      "outputs": [
        {
          "output_type": "execute_result",
          "data": {
            "text/plain": [
              "8"
            ]
          },
          "metadata": {},
          "execution_count": 12
        }
      ]
    },
    {
      "cell_type": "code",
      "source": [
        "# Tipos de datos de cada caracteristica\n",
        "icetex_becas.dtypes"
      ],
      "metadata": {
        "colab": {
          "base_uri": "https://localhost:8080/"
        },
        "id": "1Gm7ZY4cK6dn",
        "outputId": "d289615e-cc3d-4d8c-f9c4-30736880c358"
      },
      "execution_count": null,
      "outputs": [
        {
          "output_type": "execute_result",
          "data": {
            "text/plain": [
              "[('Codigo Convocatoria', 'double'),\n",
              " ('Nombre del Oferente', 'string'),\n",
              " ('Area del Conocimiento', 'string'),\n",
              " ('Nombre del programa', 'string'),\n",
              " ('Nombre del País', 'string'),\n",
              " ('Fecha de Recepción -mm/dd/aaaa', 'string'),\n",
              " ('Perfil del Aplicante', 'string'),\n",
              " ('Objetivo del Programa', 'string')]"
            ]
          },
          "metadata": {},
          "execution_count": 13
        }
      ]
    },
    {
      "cell_type": "markdown",
      "source": [
        "Como las columnas tienen espacios y tildes y otro tipo de caracteres que pueden dificultar el acceso a estas, se van a renombrar."
      ],
      "metadata": {
        "id": "FsTGrlotJcER"
      }
    },
    {
      "cell_type": "markdown",
      "metadata": {
        "id": "GAyH6mgGK3VA"
      },
      "source": [
        "## **A) Calidad de datos**\n",
        "\n",
        "Revise cada una de las variables disponibles y resuelva los problemas de calidad de datos que puedan afectar el desarrollo de este taller, justificando las razones de su decisión para cada caso\n"
      ]
    },
    {
      "cell_type": "markdown",
      "source": [
        "### Solución"
      ],
      "metadata": {
        "id": "KCxZMRHgQ2Yl"
      }
    },
    {
      "cell_type": "markdown",
      "source": [
        "Inicialmente se renombraron las columnas"
      ],
      "metadata": {
        "id": "lTwPrQZuq-DL"
      }
    },
    {
      "cell_type": "code",
      "source": [
        "from unicodedata import normalize"
      ],
      "metadata": {
        "id": "hY89yBukom35"
      },
      "execution_count": null,
      "outputs": []
    },
    {
      "cell_type": "code",
      "source": [
        "# Normalizacion de los nombres de las columnas\n",
        "new_columns = [col.replace(\" \", \"_\").lower() for col in icetex_becas.columns]\n",
        "new_columns[5] = new_columns[5].split(\"-\")[0]\n",
        "new_columns[5] = new_columns[5][:-1]\n",
        "new_columns = [normalize('NFKD', col).encode('ASCII', 'ignore').decode('utf-8') for col in new_columns]\n",
        "new_columns\n"
      ],
      "metadata": {
        "colab": {
          "base_uri": "https://localhost:8080/"
        },
        "id": "I5KDrrCCkoLT",
        "outputId": "807a9083-e7f5-46ed-f391-0f159b205520"
      },
      "execution_count": null,
      "outputs": [
        {
          "output_type": "execute_result",
          "data": {
            "text/plain": [
              "['codigo_convocatoria',\n",
              " 'nombre_del_oferente',\n",
              " 'area_del_conocimiento',\n",
              " 'nombre_del_programa',\n",
              " 'nombre_del_pais',\n",
              " 'fecha_de_recepcion',\n",
              " 'perfil_del_aplicante',\n",
              " 'objetivo_del_programa']"
            ]
          },
          "metadata": {},
          "execution_count": 15
        }
      ]
    },
    {
      "cell_type": "code",
      "source": [
        "# Nombre actual de las columnas\n",
        "icetex_becas.columns"
      ],
      "metadata": {
        "colab": {
          "base_uri": "https://localhost:8080/"
        },
        "id": "FLR1DFa0owbS",
        "outputId": "52558f77-348d-4c39-ba67-2d4e6a12432d"
      },
      "execution_count": null,
      "outputs": [
        {
          "output_type": "execute_result",
          "data": {
            "text/plain": [
              "['Codigo Convocatoria',\n",
              " 'Nombre del Oferente',\n",
              " 'Area del Conocimiento',\n",
              " 'Nombre del programa',\n",
              " 'Nombre del País',\n",
              " 'Fecha de Recepción -mm/dd/aaaa',\n",
              " 'Perfil del Aplicante',\n",
              " 'Objetivo del Programa']"
            ]
          },
          "metadata": {},
          "execution_count": 16
        }
      ]
    },
    {
      "cell_type": "code",
      "source": [
        "# Diccionario con los nombres antiguos de las columnas como clave y lo nuevos nombres de las columnas como valor\n",
        "nuevos_nombres = dict(zip(icetex_becas.columns, new_columns))\n",
        "nuevos_nombres"
      ],
      "metadata": {
        "colab": {
          "base_uri": "https://localhost:8080/"
        },
        "id": "pRDfAOFCpFG0",
        "outputId": "019610e3-3e87-4137-d338-9470a8f688af"
      },
      "execution_count": null,
      "outputs": [
        {
          "output_type": "execute_result",
          "data": {
            "text/plain": [
              "{'Codigo Convocatoria': 'codigo_convocatoria',\n",
              " 'Nombre del Oferente': 'nombre_del_oferente',\n",
              " 'Area del Conocimiento': 'area_del_conocimiento',\n",
              " 'Nombre del programa': 'nombre_del_programa',\n",
              " 'Nombre del País': 'nombre_del_pais',\n",
              " 'Fecha de Recepción -mm/dd/aaaa': 'fecha_de_recepcion',\n",
              " 'Perfil del Aplicante': 'perfil_del_aplicante',\n",
              " 'Objetivo del Programa': 'objetivo_del_programa'}"
            ]
          },
          "metadata": {},
          "execution_count": 17
        }
      ]
    },
    {
      "cell_type": "code",
      "source": [
        "# Renombrado de las columas usando el diccionario\n",
        "\n",
        "icetex_becas = icetex_becas.select([icetex_becas[c].alias(nuevos_nombres[c]) for c in icetex_becas.columns])\n",
        "\n",
        "# Despliegue de los nombres de las columnas\n",
        "icetex_becas.columns"
      ],
      "metadata": {
        "colab": {
          "base_uri": "https://localhost:8080/"
        },
        "id": "LpkJMJ8DqQHF",
        "outputId": "b6340d17-a3ab-4a6f-bbc2-436167ac80fe"
      },
      "execution_count": null,
      "outputs": [
        {
          "output_type": "execute_result",
          "data": {
            "text/plain": [
              "['codigo_convocatoria',\n",
              " 'nombre_del_oferente',\n",
              " 'area_del_conocimiento',\n",
              " 'nombre_del_programa',\n",
              " 'nombre_del_pais',\n",
              " 'fecha_de_recepcion',\n",
              " 'perfil_del_aplicante',\n",
              " 'objetivo_del_programa']"
            ]
          },
          "metadata": {},
          "execution_count": 18
        }
      ]
    },
    {
      "cell_type": "code",
      "source": [
        "# Inspeccion de los 5 primeros registros del dataframe\n",
        "icetex_becas.show(5)"
      ],
      "metadata": {
        "colab": {
          "base_uri": "https://localhost:8080/"
        },
        "id": "0BdHT6ZgqquI",
        "outputId": "4d2923c3-b5f8-4f3e-c037-583020548b89"
      },
      "execution_count": null,
      "outputs": [
        {
          "output_type": "stream",
          "name": "stdout",
          "text": [
            "+-------------------+--------------------+---------------------+--------------------+--------------------+--------------------+--------------------+---------------------+\n",
            "|codigo_convocatoria| nombre_del_oferente|area_del_conocimiento| nombre_del_programa|     nombre_del_pais|  fecha_de_recepcion|perfil_del_aplicante|objetivo_del_programa|\n",
            "+-------------------+--------------------+---------------------+--------------------+--------------------+--------------------+--------------------+---------------------+\n",
            "|          2127916.0|OEA - TOP - ARGEN...|       ADMINISTRACIÓN|POLÍTICAS DE GOBI...|PLATAFORMA DE EDU...|05/27/2016 12:00:...|El programa está ...| a) Proporcionar a...|\n",
            "|          3101616.0|ALIANZA DEL PACÍF...|     DIFERENTES AREAS|PLATAFORMA DE MOV...|Chile (República ...|                null|El programa está ...| El objetivo del P...|\n",
            "|          2221414.0|GOBIERNO DE LA INDIA|  INGENIERIA Y AFINES|DATA COMMUNICATIO...|India (República ...|07/30/2014 12:00:...|\"El Programa \"\"Co...| Ofrecer a los par...|\n",
            "|          3001315.0|MINISTÈRE DE L'EN...| MAESTRÍAS Y DOCTO...|REDUCCIÓN DE COLE...|     Canadá (Canadá)|                null|El programa está ...| En la presente co...|\n",
            "|          4102316.0|ALIANZA DEL PACÍF...|     DIFERENTES AREAS|PLATAFORMA DE MOV...|Perú (República d...|                null|\"El programa está...| El objetivo del P...|\n",
            "+-------------------+--------------------+---------------------+--------------------+--------------------+--------------------+--------------------+---------------------+\n",
            "only showing top 5 rows\n",
            "\n"
          ]
        }
      ]
    },
    {
      "cell_type": "markdown",
      "metadata": {
        "id": "F-njqbnTM2To"
      },
      "source": [
        "**Conclusión**: Inicialmente solo se han renombrado las columnas."
      ]
    },
    {
      "cell_type": "markdown",
      "metadata": {
        "id": "pDX41ab4LO7g"
      },
      "source": [
        "## **B) Aumento de ofertas de becas**\n",
        "\n",
        "Identifique si la cantidad de becas ofrecidas para ciudadanos colombianos se ha incrementado con los años"
      ]
    },
    {
      "cell_type": "markdown",
      "source": [
        "### Solucion"
      ],
      "metadata": {
        "id": "qtxfZLcoM3fc"
      }
    },
    {
      "cell_type": "markdown",
      "source": [
        "Seleccion de la columna de interes (Fecha de las becas)."
      ],
      "metadata": {
        "id": "HExqZOhjNB2l"
      }
    },
    {
      "cell_type": "code",
      "source": [
        "# Registro del DataFrame como una tabla temporal\n",
        "icetex_becas.registerTempTable(\"becas_icetex\")\n",
        "\n",
        "# Seleccion de la columna fecha\n",
        "sql_query = \"\"\"\n",
        "\t\t        SELECT fecha_de_recepcion\n",
        "\t\t        FROM becas_icetex\n",
        "\t\t        \"\"\"\n",
        "\n",
        "fechas_becas = sqlCtx.sql(sql_query)\n",
        "fechas_becas.show(n = 3)"
      ],
      "metadata": {
        "id": "sO1g5MyKrOXL",
        "colab": {
          "base_uri": "https://localhost:8080/"
        },
        "outputId": "c05b248d-3f7e-4e8d-ebed-3a3d450700d2"
      },
      "execution_count": null,
      "outputs": [
        {
          "output_type": "stream",
          "name": "stdout",
          "text": [
            "+--------------------+\n",
            "|  fecha_de_recepcion|\n",
            "+--------------------+\n",
            "|05/27/2016 12:00:...|\n",
            "|                null|\n",
            "|07/30/2014 12:00:...|\n",
            "+--------------------+\n",
            "only showing top 3 rows\n",
            "\n"
          ]
        }
      ]
    },
    {
      "cell_type": "markdown",
      "source": [
        "Desarrollo de una funcion para obtener unicamente a partir de la información de la fecha"
      ],
      "metadata": {
        "id": "c9Dy7UOtNLQn"
      }
    },
    {
      "cell_type": "code",
      "source": [
        "def obtener_anho(fecha):\n",
        "  \"\"\"\n",
        "  Obtiene el año de una fecha en formato 'mm/dd/yyyy *'\n",
        "  \"\"\"\n",
        "  return fecha.split()[0].split('/')[-1]\n",
        "\n",
        "DEBUG = True\n",
        "\n",
        "# Test de la funcion\n",
        "if DEBUG:\n",
        "  f = \"05/27/2016 12:00\"\n",
        "  print(obtener_anho(f))"
      ],
      "metadata": {
        "id": "sMW52UJNshil",
        "colab": {
          "base_uri": "https://localhost:8080/"
        },
        "outputId": "3fb44d3c-6b79-46dd-ccfa-a9e41a66b753"
      },
      "execution_count": null,
      "outputs": [
        {
          "output_type": "stream",
          "name": "stdout",
          "text": [
            "2016\n"
          ]
        }
      ]
    },
    {
      "cell_type": "code",
      "source": [
        "# Registrar la función como UDF (User Defined Fuction)\n",
        "obtener_anho_udf = udf(obtener_anho, StringType())"
      ],
      "metadata": {
        "id": "mgT4GxJHOR9I"
      },
      "execution_count": null,
      "outputs": []
    },
    {
      "cell_type": "markdown",
      "source": [
        "Conteo de registros nulos"
      ],
      "metadata": {
        "id": "doPEbMWcOaY7"
      }
    },
    {
      "cell_type": "code",
      "source": [
        "# Catidad de registros nulos\n",
        "fechas_becas.where(fechas_becas[\"fecha_de_recepcion\"].isNull()).count()"
      ],
      "metadata": {
        "colab": {
          "base_uri": "https://localhost:8080/"
        },
        "id": "WZy2CHQHOZfR",
        "outputId": "89f76cda-466b-47fb-b2b1-caf89bb68691"
      },
      "execution_count": null,
      "outputs": [
        {
          "output_type": "execute_result",
          "data": {
            "text/plain": [
              "647"
            ]
          },
          "metadata": {},
          "execution_count": 23
        }
      ]
    },
    {
      "cell_type": "markdown",
      "source": [
        "Realizando la limpieza de registros nulos"
      ],
      "metadata": {
        "id": "MQQZ_HUtPCXJ"
      }
    },
    {
      "cell_type": "code",
      "source": [
        "fechas_becas_limpias = fechas_becas.dropna(subset=[\"fecha_de_recepcion\"])"
      ],
      "metadata": {
        "id": "06HhwxPgO_6m"
      },
      "execution_count": null,
      "outputs": []
    },
    {
      "cell_type": "code",
      "source": [
        "# Obtencion de los años\n",
        "fechas_becas_limpias = fechas_becas_limpias.withColumn(\"anho\", obtener_anho_udf(fechas_becas_limpias[\"fecha_de_recepcion\"]))\n",
        "fechas_becas_limpias.show(3)\n",
        "\n",
        "# Conteo de registros por año\n",
        "fechas_becas_limpias.groupBy(\"anho\").count().orderBy(\"anho\").show()"
      ],
      "metadata": {
        "colab": {
          "base_uri": "https://localhost:8080/"
        },
        "id": "JQwVEOVctZl7",
        "outputId": "8c9f25ed-9cec-48ac-e9b3-492d12f8911b"
      },
      "execution_count": null,
      "outputs": [
        {
          "output_type": "stream",
          "name": "stdout",
          "text": [
            "+--------------------+----+\n",
            "|  fecha_de_recepcion|anho|\n",
            "+--------------------+----+\n",
            "|05/27/2016 12:00:...|2016|\n",
            "|07/30/2014 12:00:...|2014|\n",
            "|07/26/2013 12:00:...|2013|\n",
            "+--------------------+----+\n",
            "only showing top 3 rows\n",
            "\n",
            "+----+-----+\n",
            "|anho|count|\n",
            "+----+-----+\n",
            "|2011|  126|\n",
            "|2012|  135|\n",
            "|2013|  121|\n",
            "|2014|  165|\n",
            "|2015|  114|\n",
            "|2016|  177|\n",
            "+----+-----+\n",
            "\n"
          ]
        }
      ]
    },
    {
      "cell_type": "code",
      "source": [
        "print(f\"Registros totales [Sin eliminar vacios]: {fechas_becas.count()}\")\n",
        "print(f\"Registros totales [Eliminando vacios]: {fechas_becas_limpias.count()}\")"
      ],
      "metadata": {
        "colab": {
          "base_uri": "https://localhost:8080/"
        },
        "id": "vyPtjJanQJsX",
        "outputId": "f69377f9-262e-4a85-8d9f-996f55316581"
      },
      "execution_count": null,
      "outputs": [
        {
          "output_type": "stream",
          "name": "stdout",
          "text": [
            "Registros totales [Sin eliminar vacios]: 1485\n",
            "Registros totales [Eliminando vacios]: 838\n"
          ]
        }
      ]
    },
    {
      "cell_type": "markdown",
      "metadata": {
        "id": "bSlgm0j-NQjn"
      },
      "source": [
        "**Conclusiones**:\n",
        "1. Aunque hay un incremento del primer al ultimo año, no necesariamente implico incrementos año a año.\n",
        "2. Hay que tener en cuenta cerca de la mitad de los registros no tenian informacion de la fecha por lo que esta afirmación no es lo suficientemente concluyente."
      ]
    },
    {
      "cell_type": "markdown",
      "metadata": {
        "id": "T89Y60StLUuh"
      },
      "source": [
        "##**C) Paises que han ofrecido becas**\n",
        "\n",
        "Presente un listado con todos los países (diferentes de Colombia) de los que se tiene reporte que han ofrecido becas para estudiantes colombianos (*solamente presentar nombres de países, y estos solo deben aparecer una única vez en la lista*)"
      ]
    },
    {
      "cell_type": "markdown",
      "source": [
        "### Solución"
      ],
      "metadata": {
        "id": "OFfHmLiJRD3I"
      }
    },
    {
      "cell_type": "code",
      "source": [
        "sql_query = \"\"\"\n",
        "\t\t        SELECT nombre_del_pais\n",
        "\t\t        FROM becas_icetex\n",
        "\t\t        \"\"\"\n",
        "paises_becas = sqlCtx.sql(sql_query)"
      ],
      "metadata": {
        "id": "Bxs0EEq9TzzO"
      },
      "execution_count": null,
      "outputs": []
    },
    {
      "cell_type": "code",
      "source": [
        "# Cacheando el dataframe leido para acelerar los calculos\n",
        "paises_becas_cached = paises_becas.cache()"
      ],
      "metadata": {
        "id": "Hr_6NxoMBJn5"
      },
      "execution_count": null,
      "outputs": []
    },
    {
      "cell_type": "code",
      "source": [
        "# Verificando si hay registros vacios en el dataframe obtenido\n",
        "paises_becas_cached.where(paises_becas_cached[\"nombre_del_pais\"].isNull()).count()"
      ],
      "metadata": {
        "colab": {
          "base_uri": "https://localhost:8080/"
        },
        "id": "7hmSXIE5f5I_",
        "outputId": "fbd7d9ee-abe0-42fe-d794-48477e5c1e08"
      },
      "execution_count": null,
      "outputs": [
        {
          "output_type": "execute_result",
          "data": {
            "text/plain": [
              "0"
            ]
          },
          "metadata": {},
          "execution_count": 29
        }
      ]
    },
    {
      "cell_type": "code",
      "source": [
        "# Se cuentan en numero de registros distintos\n",
        "paises_becas_cached.distinct().count()"
      ],
      "metadata": {
        "colab": {
          "base_uri": "https://localhost:8080/"
        },
        "id": "59BXEdfUeaVD",
        "outputId": "e2785e66-9cd7-49fb-c672-0946b75fcaf5"
      },
      "execution_count": null,
      "outputs": [
        {
          "output_type": "execute_result",
          "data": {
            "text/plain": [
              "55"
            ]
          },
          "metadata": {},
          "execution_count": 30
        }
      ]
    },
    {
      "cell_type": "code",
      "source": [
        "# Despliegue de los 10 primeros registros\n",
        "paises_becas_cached.distinct().show(10)"
      ],
      "metadata": {
        "colab": {
          "base_uri": "https://localhost:8080/"
        },
        "id": "ztrjsrE2UFlP",
        "outputId": "551de2e9-0c90-4a1d-dd16-f29f9b16ff55"
      },
      "execution_count": null,
      "outputs": [
        {
          "output_type": "stream",
          "name": "stdout",
          "text": [
            "+--------------------+\n",
            "|     nombre_del_pais|\n",
            "+--------------------+\n",
            "|Italia (República...|\n",
            "|Suecia (Reino de ...|\n",
            "|Corea del Sur (Re...|\n",
            "|Rusia (Federación...|\n",
            "|Paraguay (Repúbli...|\n",
            "|Australia (Mancom...|\n",
            "|Estados Unidos (E...|\n",
            "|     Belice (Belice)|\n",
            "|PLATAFORMA DE EDU...|\n",
            "|       Japón (Japón)|\n",
            "+--------------------+\n",
            "only showing top 10 rows\n",
            "\n"
          ]
        }
      ]
    },
    {
      "cell_type": "markdown",
      "source": [
        "Como los paises que aparecen tienen diferentes formatos, lo primero que se hizo fue una funcion de usuario para realizar la limpieza de estos registros colocandolos en un formato mas uniforme. A continuación se resaltan algunos de los diferentes casos de formatos encontrados:\n",
        "* `PLATAFORMA DE EDUCACIÓN A DISTANCIA TOP - OEA`\n",
        "* `India (República de India)\t`\n",
        "* `ALIANZA DEL PACÍFICO-CHILE-MÉXICO-PERÚ`"
      ],
      "metadata": {
        "id": "JFo5Gf3ZCK2R"
      }
    },
    {
      "cell_type": "code",
      "source": [
        "# Previamente se importo pyspark.sql.functions como F para abreviar la invocacion de las funciones\n",
        "\n",
        "# Remocion de parentesis de los registros de la columna 'nombre_del_pais' nombres llevando el resultado a una nueva columna llamada 'pais'\n",
        "paises_becas_cached = paises_becas_cached.withColumn(\"pais\", F.split(paises_becas_cached.nombre_del_pais,r\"\\(\")[0])\n",
        "# Remocion de espacios en la columna 'pais'\n",
        "paises_becas_cached = paises_becas_cached.withColumn(\"pais\", F.trim(paises_becas_cached.pais))"
      ],
      "metadata": {
        "id": "LBTHXI7ET1rt"
      },
      "execution_count": null,
      "outputs": []
    },
    {
      "cell_type": "code",
      "source": [
        "# Inspeccion del resultado\n",
        "paises_becas_cached.show(10)"
      ],
      "metadata": {
        "colab": {
          "base_uri": "https://localhost:8080/"
        },
        "id": "rJzPZFyehZmk",
        "outputId": "0da20e5a-4a4b-4e5a-d3d7-c1b9764c1fd3"
      },
      "execution_count": null,
      "outputs": [
        {
          "output_type": "stream",
          "name": "stdout",
          "text": [
            "+--------------------+--------------------+\n",
            "|     nombre_del_pais|                pais|\n",
            "+--------------------+--------------------+\n",
            "|PLATAFORMA DE EDU...|PLATAFORMA DE EDU...|\n",
            "|Chile (República ...|               Chile|\n",
            "|India (República ...|               India|\n",
            "|     Canadá (Canadá)|              Canadá|\n",
            "|Perú (República d...|                Perú|\n",
            "|India (República ...|               India|\n",
            "|   Diferentes Países|   Diferentes Países|\n",
            "|China (República ...|               China|\n",
            "|       Japón (Japón)|               Japón|\n",
            "|España (Reino de ...|              España|\n",
            "+--------------------+--------------------+\n",
            "only showing top 10 rows\n",
            "\n"
          ]
        }
      ]
    },
    {
      "cell_type": "markdown",
      "source": [
        "Como aun registros con el nombre de varios paises como `Estados Unidos Mexicanos EspaÃ±a y Alemania` se hizo una nueva función para tratar esta situación y alguna otra similas. La función se muestra a continuación y de define como una función UDF."
      ],
      "metadata": {
        "id": "Vat8quyPJCAu"
      }
    },
    {
      "cell_type": "code",
      "source": [
        "# India (RepÃºblica de India)\n",
        "\n",
        "def obtener_pais(pais):\n",
        "  if \"PLATAFORMA\" in pais:\n",
        "    return pais\n",
        "  elif \"Estados\" in pais:\n",
        "    if pais == \"Estados Unidos\":\n",
        "      return pais\n",
        "    else:\n",
        "      return \"Diferentes Países\"\n",
        "  else:\n",
        "    return pais\n",
        "\n",
        "# Registrar la función como UDF\n",
        "obtener_pais_udf = udf(obtener_pais, StringType())"
      ],
      "metadata": {
        "id": "Cccg9e-let5O"
      },
      "execution_count": null,
      "outputs": []
    },
    {
      "cell_type": "code",
      "source": [
        "# Aplicación de la función anterior a la columna pais\n",
        "paises_becas_cached = paises_becas_cached.withColumn(\"pais\", obtener_pais_udf(paises_becas_cached[\"pais\"]))"
      ],
      "metadata": {
        "id": "dyT4I3FSgU8j"
      },
      "execution_count": null,
      "outputs": []
    },
    {
      "cell_type": "code",
      "source": [
        "# Inspección del resultado\n",
        "paises_becas_cached.show(10)"
      ],
      "metadata": {
        "colab": {
          "base_uri": "https://localhost:8080/"
        },
        "id": "OtA6KdWgKFE2",
        "outputId": "69e7c99f-ab62-497e-a50c-8da916267d53"
      },
      "execution_count": null,
      "outputs": [
        {
          "output_type": "stream",
          "name": "stdout",
          "text": [
            "+--------------------+--------------------+\n",
            "|     nombre_del_pais|                pais|\n",
            "+--------------------+--------------------+\n",
            "|PLATAFORMA DE EDU...|PLATAFORMA DE EDU...|\n",
            "|Chile (República ...|               Chile|\n",
            "|India (República ...|               India|\n",
            "|     Canadá (Canadá)|              Canadá|\n",
            "|Perú (República d...|                Perú|\n",
            "|India (República ...|               India|\n",
            "|   Diferentes Países|   Diferentes Países|\n",
            "|China (República ...|               China|\n",
            "|       Japón (Japón)|               Japón|\n",
            "|España (Reino de ...|              España|\n",
            "+--------------------+--------------------+\n",
            "only showing top 10 rows\n",
            "\n"
          ]
        }
      ]
    },
    {
      "cell_type": "code",
      "source": [
        "# Se remueve la columna no necesaria\n",
        "paises_becas_cached.drop(\"nombre_del_pais\")\n",
        "# Remocion de Colombia de la lista\n",
        "paises_becas_cached = paises_becas_cached.filter(paises_becas_cached[\"pais\"] != \"Colombia\")"
      ],
      "metadata": {
        "id": "ld6pFhvMKXTw"
      },
      "execution_count": null,
      "outputs": []
    },
    {
      "cell_type": "code",
      "source": [
        "# Inspección del resultado\n",
        "paises_becas_cached.groupBy(\"pais\").count().orderBy(\"count\", ascending=False).show(10) #.select('pais').show(paises_becas_cached.count())"
      ],
      "metadata": {
        "colab": {
          "base_uri": "https://localhost:8080/"
        },
        "id": "75LsfNi8K4I0",
        "outputId": "5deb88d5-d533-406d-de11-c110da07cd5f"
      },
      "execution_count": null,
      "outputs": [
        {
          "output_type": "stream",
          "name": "stdout",
          "text": [
            "+--------------------+-----+\n",
            "|                pais|count|\n",
            "+--------------------+-----+\n",
            "|               India|  223|\n",
            "|              Israel|  184|\n",
            "|              España|  166|\n",
            "|                Perú|   91|\n",
            "|       Corea del Sur|   86|\n",
            "|PLATAFORMA DE EDU...|   78|\n",
            "|         Reino Unido|   51|\n",
            "|              Egipto|   48|\n",
            "|               Japón|   46|\n",
            "|PLATAFORMA DE EDU...|   42|\n",
            "+--------------------+-----+\n",
            "only showing top 10 rows\n",
            "\n"
          ]
        }
      ]
    },
    {
      "cell_type": "markdown",
      "source": [
        "Finalmente, el resultado solicitado se muestra a continuación:"
      ],
      "metadata": {
        "id": "5FJrZ2cDLhz9"
      }
    },
    {
      "cell_type": "code",
      "source": [
        "paises_becas_cached.groupBy(\"pais\").count().orderBy(\"pais\", ascending=True).select('pais').show(paises_becas_cached.count())"
      ],
      "metadata": {
        "colab": {
          "base_uri": "https://localhost:8080/"
        },
        "id": "GU7VAMs2LX7I",
        "outputId": "dc2a4380-7cd6-4e3d-92ca-7fb162405380"
      },
      "execution_count": null,
      "outputs": [
        {
          "output_type": "stream",
          "name": "stdout",
          "text": [
            "+--------------------+\n",
            "|                pais|\n",
            "+--------------------+\n",
            "|           Argentina|\n",
            "|           Australia|\n",
            "|Barbados Jamaica ...|\n",
            "|              Belice|\n",
            "|              Brasil|\n",
            "|              Brunéi|\n",
            "|             Bélgica|\n",
            "|              Canadá|\n",
            "|          Checa Rep.|\n",
            "|               Chile|\n",
            "|               China|\n",
            "|       Corea del Sur|\n",
            "|          Costa Rica|\n",
            "|   Diferentes Países|\n",
            "|             Ecuador|\n",
            "|              Egipto|\n",
            "|              España|\n",
            "|      Estados Unidos|\n",
            "|             Francia|\n",
            "|            Honduras|\n",
            "|             Hungría|\n",
            "|               India|\n",
            "|           Indonesia|\n",
            "|              Israel|\n",
            "|              Italia|\n",
            "|               Japón|\n",
            "|             Malasia|\n",
            "|              México|\n",
            "|           Nicaragua|\n",
            "|       Nueva Zelanda|\n",
            "|PLATAFORMA DE EDU...|\n",
            "|PLATAFORMA DE EDU...|\n",
            "|PLATAFORMA DE EDU...|\n",
            "|PLATAFORMA DE EDU...|\n",
            "|PLATAFORMA DE EDU...|\n",
            "|              Panamá|\n",
            "|            Paraguay|\n",
            "|                Perú|\n",
            "|Plataforma de edu...|\n",
            "|             Polonia|\n",
            "|         Puerto Rico|\n",
            "|         Reino Unido|\n",
            "|               Rusia|\n",
            "|            Singapur|\n",
            "|              Suecia|\n",
            "|               Suiza|\n",
            "|           Tailandia|\n",
            "|              Taiwán|\n",
            "|   Trinidad y Tobago|\n",
            "|             Turquía|\n",
            "|             Uruguay|\n",
            "+--------------------+\n",
            "\n"
          ]
        }
      ]
    },
    {
      "cell_type": "code",
      "source": [
        "# Se libera el DataFrame cacheado\n",
        "paises_becas_cached.unpersist()\n",
        "paises_becas_cached.is_cached"
      ],
      "metadata": {
        "colab": {
          "base_uri": "https://localhost:8080/"
        },
        "id": "hp-0Ug84L1-F",
        "outputId": "75207db4-c9c1-426f-a91e-36b51248d356"
      },
      "execution_count": null,
      "outputs": [
        {
          "output_type": "execute_result",
          "data": {
            "text/plain": [
              "False"
            ]
          },
          "metadata": {},
          "execution_count": 40
        }
      ]
    },
    {
      "cell_type": "markdown",
      "metadata": {
        "id": "xWQkDcDZNRVa"
      },
      "source": [
        "**Conclusiones**: Se realizo una limpieza de datos para mostrar los paises que ofrecieron becas."
      ]
    },
    {
      "cell_type": "markdown",
      "metadata": {
        "id": "WlI7cjLXLdlQ"
      },
      "source": [
        "##**D) Áreas del conocimiento y Posgrados**\n",
        "\n",
        "Se desea averiguar cúal es el área de conocimiento predominante por país. Además, queremos conocer qué porcentaje de los programas ofrecidos (**de acuerdo al nombre del programa**) corresponden a estudios de posgrado."
      ]
    },
    {
      "cell_type": "markdown",
      "source": [
        "### Solución\n",
        "\n",
        "Inicialmente vamos a realizar una función simple para que permita identificar si una carrera es de posgrado o pregrado."
      ],
      "metadata": {
        "id": "UvpPoQicMmIn"
      }
    },
    {
      "cell_type": "code",
      "source": [
        "# \"INGENIERIA Y ADMINISTRACION\"\n",
        "# \"ADMINISTRACIÃ“N - ECONOMÃA\"\n",
        "\n",
        "def obtener_titulacion(area):\n",
        "  \"\"\"\n",
        "  Determina si una carrera es de posgrado o pregrado\n",
        "  \"\"\"\n",
        "  if \"MAESTR\" in area or \"POSGR\" in area or \"DOCTORADO\" in area:\n",
        "    return \"posgrado\"\n",
        "  else:\n",
        "    return \"pregrado\""
      ],
      "metadata": {
        "id": "9uO7pFeCF8zj"
      },
      "execution_count": null,
      "outputs": []
    },
    {
      "cell_type": "markdown",
      "source": [
        "Tambien vamos a realizar una funcion para obtener el pais (un poco diferente de la que se empleo anteriormente) y la vamos a registrar para que pueda ser usada como SQL:"
      ],
      "metadata": {
        "id": "jh7EcWh7QPxI"
      }
    },
    {
      "cell_type": "code",
      "source": [
        "def obtener_pais2(pais):\n",
        "  \"\"\"\n",
        "  Obtiene el año de una fecha en formato 'mm/dd/yyyy'\n",
        "  \"\"\"\n",
        "  pais_ = pais.split(\"(\")[0][:-1]\n",
        "\n",
        "  if len(pais_) <= len(\"Estados Unidos\"):\n",
        "    return pais_\n",
        "  elif \"PLATAFORMA\" in pais_:\n",
        "    return pais_\n",
        "  else:\n",
        "    return \"Diferentes Países\""
      ],
      "metadata": {
        "id": "BtLWHP3OQO44"
      },
      "execution_count": null,
      "outputs": []
    },
    {
      "cell_type": "markdown",
      "source": [
        "Vamos a registrar esta y las funciones anteriores para poder utilizarlas en expresiones SQL"
      ],
      "metadata": {
        "id": "N56UTYptNQWY"
      }
    },
    {
      "cell_type": "code",
      "source": [
        "# Se regitra la funcion\n",
        "sqlCtx.registerFunction(\"obtener_anho\",obtener_anho)\n",
        "sqlCtx.registerFunction(\"obtener_pais2\",obtener_pais2)\n",
        "sqlCtx.registerFunction(\"obtener_titulacion\",obtener_titulacion)"
      ],
      "metadata": {
        "colab": {
          "base_uri": "https://localhost:8080/",
          "height": 104
        },
        "id": "QgUzTUq9HBdj",
        "outputId": "bb37328f-5629-40ef-8fb8-2090280df6df"
      },
      "execution_count": null,
      "outputs": [
        {
          "output_type": "execute_result",
          "data": {
            "text/plain": [
              "<function __main__.obtener_titulacion(area)>"
            ],
            "text/html": [
              "<div style=\"max-width:800px; border: 1px solid var(--colab-border-color);\"><style>\n",
              "      pre.function-repr-contents {\n",
              "        overflow-x: auto;\n",
              "        padding: 8px 12px;\n",
              "        max-height: 500px;\n",
              "      }\n",
              "\n",
              "      pre.function-repr-contents.function-repr-contents-collapsed {\n",
              "        cursor: pointer;\n",
              "        max-height: 100px;\n",
              "      }\n",
              "    </style>\n",
              "    <pre style=\"white-space: initial; background:\n",
              "         var(--colab-secondary-surface-color); padding: 8px 12px;\n",
              "         border-bottom: 1px solid var(--colab-border-color);\"><b>obtener_titulacion</b><br/>def obtener_titulacion(area)</pre><pre class=\"function-repr-contents function-repr-contents-collapsed\" style=\"\"><a class=\"filepath\" style=\"display:none\" href=\"#\">/content/&lt;ipython-input-41-89b702ed9860&gt;</a>Determina si una carrera es de posgrado o pregrado</pre></div>"
            ]
          },
          "metadata": {},
          "execution_count": 43
        }
      ]
    },
    {
      "cell_type": "code",
      "source": [
        "sql_query = \"\"\"\n",
        "\t\t        SELECT obtener_pais2(nombre_del_pais) AS pais, area_del_conocimiento , obtener_titulacion(area_del_conocimiento) AS titulacion\n",
        "\t\t        FROM becas_icetex\n",
        "\t\t        \"\"\""
      ],
      "metadata": {
        "id": "UH0NSRf2N0n2"
      },
      "execution_count": null,
      "outputs": []
    },
    {
      "cell_type": "code",
      "source": [
        "area_del_conocimiento = sqlCtx.sql(sql_query)\n",
        "area_del_conocimiento.columns"
      ],
      "metadata": {
        "colab": {
          "base_uri": "https://localhost:8080/"
        },
        "id": "KCsM4mBC86pZ",
        "outputId": "86851a32-79c7-406d-fa0f-43b266f7fe8e"
      },
      "execution_count": null,
      "outputs": [
        {
          "output_type": "execute_result",
          "data": {
            "text/plain": [
              "['pais', 'area_del_conocimiento', 'titulacion']"
            ]
          },
          "metadata": {},
          "execution_count": 45
        }
      ]
    },
    {
      "cell_type": "code",
      "source": [
        "# Inspeccion\n",
        "area_del_conocimiento.show(5)\n",
        "total_registros = area_del_conocimiento.count()\n",
        "print(f\"Total registros: {total_registros}\")"
      ],
      "metadata": {
        "colab": {
          "base_uri": "https://localhost:8080/"
        },
        "id": "ss8XdH0NKShs",
        "outputId": "2aea0aa0-3076-41b6-87ab-74493dd995a9"
      },
      "execution_count": null,
      "outputs": [
        {
          "output_type": "stream",
          "name": "stdout",
          "text": [
            "+--------------------+---------------------+----------+\n",
            "|                pais|area_del_conocimiento|titulacion|\n",
            "+--------------------+---------------------+----------+\n",
            "|PLATAFORMA DE EDU...|       ADMINISTRACIÓN|  pregrado|\n",
            "|               Chile|     DIFERENTES AREAS|  pregrado|\n",
            "|               India|  INGENIERIA Y AFINES|  pregrado|\n",
            "|              Canadá| MAESTRÍAS Y DOCTO...|  posgrado|\n",
            "|                Perú|     DIFERENTES AREAS|  pregrado|\n",
            "+--------------------+---------------------+----------+\n",
            "only showing top 5 rows\n",
            "\n",
            "Total registros: 1485\n"
          ]
        }
      ]
    },
    {
      "cell_type": "code",
      "source": [
        "# Se cachea el dataframe\n",
        "area_del_conocimiento_cached = area_del_conocimiento.cache()"
      ],
      "metadata": {
        "id": "Ivz3sNiUOH13"
      },
      "execution_count": null,
      "outputs": []
    },
    {
      "cell_type": "markdown",
      "source": [
        "#### Parte 1\n",
        "Area de conocimiento predominante por pais"
      ],
      "metadata": {
        "id": "3u7NqV6hTzdw"
      }
    },
    {
      "cell_type": "code",
      "source": [
        "area_conocimiento_pais = area_del_conocimiento_cached.groupBy(\"pais\",\"area_del_conocimiento\") \\\n",
        "                                                           .count() \\\n",
        "                                                           .orderBy(\"pais\", ascending=True)\n",
        "area_conocimiento_pais.show(10)"
      ],
      "metadata": {
        "colab": {
          "base_uri": "https://localhost:8080/"
        },
        "id": "m160GPXYORMw",
        "outputId": "f186caae-fafd-4755-bf1a-fffa46c45ae7"
      },
      "execution_count": null,
      "outputs": [
        {
          "output_type": "stream",
          "name": "stdout",
          "text": [
            "+---------+---------------------+-----+\n",
            "|     pais|area_del_conocimiento|count|\n",
            "+---------+---------------------+-----+\n",
            "|Argentina| ADMINISTRACIÓN - ...|    2|\n",
            "|Argentina|     DIFERENTES AREAS|    2|\n",
            "|Argentina|       ADMINISTRACIÓN|   20|\n",
            "|Argentina|  INGENIERIA Y AFINES|    9|\n",
            "|Argentina| CIENCIAS DE LA ED...|    2|\n",
            "|Argentina| CIENCIAS NATURALE...|    1|\n",
            "|Argentina|    CIENCIAS SOCIALES|    1|\n",
            "|Argentina| ADMINISTRACIÓN - ...|    1|\n",
            "|Argentina| CIENCIAS AGROPECU...|    1|\n",
            "|Argentina| PREGRADO EN DIFER...|    3|\n",
            "+---------+---------------------+-----+\n",
            "only showing top 10 rows\n",
            "\n"
          ]
        }
      ]
    },
    {
      "cell_type": "code",
      "source": [
        "# Obtencion del maximo por pais\n",
        "max_counts_by_country = area_conocimiento_pais.groupBy(\"pais\").agg(F.max(\"count\").alias(\"max_count\"))\n",
        "# Se agrega la columna con el maximo por pais\n",
        "area_conocimiento_pais = area_conocimiento_pais.join(max_counts_by_country, \"pais\", \"left\")"
      ],
      "metadata": {
        "id": "1FF84kVlPv_v"
      },
      "execution_count": null,
      "outputs": []
    },
    {
      "cell_type": "code",
      "source": [
        "# Inspeccion del resultado\n",
        "area_conocimiento_pais.orderBy(\"pais\", ascending=True).show(20)"
      ],
      "metadata": {
        "colab": {
          "base_uri": "https://localhost:8080/"
        },
        "id": "M8xvCFSROq0c",
        "outputId": "c45f6ade-7aac-4ff0-b8a3-6509042bfd50"
      },
      "execution_count": null,
      "outputs": [
        {
          "output_type": "stream",
          "name": "stdout",
          "text": [
            "+---------+---------------------+-----+---------+\n",
            "|     pais|area_del_conocimiento|count|max_count|\n",
            "+---------+---------------------+-----+---------+\n",
            "|Argentina| CIENCIAS AGROPECU...|    1|       20|\n",
            "|Argentina| CIENCIAS DE LA ED...|    2|       20|\n",
            "|Argentina| ADMINISTRACIÓN - ...|    2|       20|\n",
            "|Argentina|    CIENCIAS SOCIALES|    1|       20|\n",
            "|Argentina|  INGENIERIA Y AFINES|    9|       20|\n",
            "|Argentina|     DIFERENTES AREAS|    2|       20|\n",
            "|Argentina| CIENCIAS NATURALE...|    1|       20|\n",
            "|Argentina|       ADMINISTRACIÓN|   20|       20|\n",
            "|Argentina| ADMINISTRACIÓN - ...|    1|       20|\n",
            "|Argentina| PREGRADO EN DIFER...|    3|       20|\n",
            "|Australia| DOCTORADO EN DIFE...|    2|        3|\n",
            "|Australia|     DIFERENTES AREAS|    1|        3|\n",
            "|Australia| MAESTRÍAS Y DOCTO...|    1|        3|\n",
            "|Australia| POSGRADO DIFERENT...|    1|        3|\n",
            "|Australia|              IDIOMAS|    1|        3|\n",
            "|Australia| MAESTRÍAS EN DIFE...|    3|        3|\n",
            "|   Belice|          HUMANIDADES|    2|        2|\n",
            "|   Brasil| INGENIERIA Y ADMI...|    1|        6|\n",
            "|   Brasil| CIENCIAS DE LA ED...|    1|        6|\n",
            "|   Brasil| PREGRADO EN DIFER...|    6|        6|\n",
            "+---------+---------------------+-----+---------+\n",
            "only showing top 20 rows\n",
            "\n"
          ]
        }
      ]
    },
    {
      "cell_type": "markdown",
      "source": [
        "Se hacer el filtro colocando dejando las filas correspondientes a la maxima cantidad de area de conocimiento por pais (carrera)"
      ],
      "metadata": {
        "id": "fheBdAQJRTE6"
      }
    },
    {
      "cell_type": "code",
      "source": [
        "area_conocimiento_pais = area_conocimiento_pais.where(area_conocimiento_pais[\"count\"] == area_conocimiento_pais[\"max_count\"])"
      ],
      "metadata": {
        "id": "cA4UtV1aRRup"
      },
      "execution_count": null,
      "outputs": []
    },
    {
      "cell_type": "code",
      "source": [
        "# Inspeccion del resultado\n",
        "area_conocimiento_pais.orderBy(\"pais\", ascending=True).show(10)"
      ],
      "metadata": {
        "colab": {
          "base_uri": "https://localhost:8080/"
        },
        "id": "ZfrzD0ThRtZN",
        "outputId": "d51439fd-c835-48d8-894d-f54d8e1a4891"
      },
      "execution_count": null,
      "outputs": [
        {
          "output_type": "stream",
          "name": "stdout",
          "text": [
            "+----------+---------------------+-----+---------+\n",
            "|      pais|area_del_conocimiento|count|max_count|\n",
            "+----------+---------------------+-----+---------+\n",
            "| Argentina|       ADMINISTRACIÓN|   20|       20|\n",
            "| Australia| MAESTRÍAS EN DIFE...|    3|        3|\n",
            "|    Belice|          HUMANIDADES|    2|        2|\n",
            "|    Brasil| PREGRADO EN DIFER...|    6|        6|\n",
            "|    Brasil| DERECHO Y CIENCIA...|    6|        6|\n",
            "|    Brunéi| MAESTRÍAS Y DOCTO...|    1|        1|\n",
            "|    Brunéi|     DIFERENTES AREAS|    1|        1|\n",
            "|   Bélgica|  INGENIERIA Y AFINES|    4|        4|\n",
            "|    Canadá| MAESTRÍAS Y DOCTO...|    7|        7|\n",
            "|Checa Rep.|          HUMANIDADES|    5|        5|\n",
            "+----------+---------------------+-----+---------+\n",
            "only showing top 10 rows\n",
            "\n"
          ]
        }
      ]
    },
    {
      "cell_type": "markdown",
      "source": [
        "Ahora, si tenemos todo lo necesario para desplegar el resultado final de lo que se pide que es el **Area del conocimiento predominante por pais**:"
      ],
      "metadata": {
        "id": "0pbDWJqNTJ_w"
      }
    },
    {
      "cell_type": "code",
      "source": [
        "area_conocimiento_pais.select(\"pais\",\"area_del_conocimiento\").orderBy(\"pais\", ascending=True).show(area_conocimiento_pais.count())"
      ],
      "metadata": {
        "colab": {
          "base_uri": "https://localhost:8080/"
        },
        "id": "FlBENCTETUX5",
        "outputId": "1be09919-cffa-490c-bacb-552799b3103a"
      },
      "execution_count": null,
      "outputs": [
        {
          "output_type": "stream",
          "name": "stdout",
          "text": [
            "+--------------------+---------------------+\n",
            "|                pais|area_del_conocimiento|\n",
            "+--------------------+---------------------+\n",
            "|           Argentina|       ADMINISTRACIÓN|\n",
            "|           Australia| MAESTRÍAS EN DIFE...|\n",
            "|              Belice|          HUMANIDADES|\n",
            "|              Brasil| PREGRADO EN DIFER...|\n",
            "|              Brasil| DERECHO Y CIENCIA...|\n",
            "|              Brunéi| MAESTRÍAS Y DOCTO...|\n",
            "|              Brunéi|     DIFERENTES AREAS|\n",
            "|             Bélgica|  INGENIERIA Y AFINES|\n",
            "|              Canadá| MAESTRÍAS Y DOCTO...|\n",
            "|          Checa Rep.|          HUMANIDADES|\n",
            "|               Chile|     DIFERENTES AREAS|\n",
            "|               China| POSGRADO DIFERENT...|\n",
            "|            Colombia| CIENCIAS NATURALE...|\n",
            "|            Colombia|          HUMANIDADES|\n",
            "|       Corea del Sur| ADMINISTRACIÓN - ...|\n",
            "|          Costa Rica|       ADMINISTRACIÓN|\n",
            "|   Diferentes Países|     DIFERENTES AREAS|\n",
            "|             Ecuador|     DIFERENTES AREAS|\n",
            "|              Egipto| CIENCIAS AGROPECU...|\n",
            "|              España|       ADMINISTRACIÓN|\n",
            "|      Estados Unidos|  INGENIERIA Y AFINES|\n",
            "|             Francia| CIENCIAS DE LA ED...|\n",
            "|            Honduras| CIENCIAS NATURALE...|\n",
            "|             Hungría| PREGRADO EN DIFER...|\n",
            "|             Hungría|     DIFERENTES AREAS|\n",
            "|             Hungría| MAESTRÍAS Y DOCTO...|\n",
            "|               India|  INGENIERIA Y AFINES|\n",
            "|           Indonesia|     DIFERENTES AREAS|\n",
            "|           Indonesia|          HUMANIDADES|\n",
            "|              Israel| CIENCIAS DE LA ED...|\n",
            "|              Italia| POSGRADO DIFERENT...|\n",
            "|               Japón|     DIFERENTES AREAS|\n",
            "|             Malasia|          HUMANIDADES|\n",
            "|              México|     DIFERENTES AREAS|\n",
            "|           Nicaragua|       ADMINISTRACIÓN|\n",
            "|       Nueva Zelanda|          HUMANIDADES|\n",
            "|PLATAFORMA DE EDU...|    CIENCIAS SOCIALES|\n",
            "|PLATAFORMA DE EDU...| ADMINISTRACIÓN - ...|\n",
            "|PLATAFORMA DE EDU...|     DIFERENTES AREAS|\n",
            "|PLATAFORMA DE EDU...|  INGENIERIA Y AFINES|\n",
            "|PLATAFORMA DE EDU...|       ADMINISTRACIÓN|\n",
            "|              Panamá|  INGENIERIA Y AFINES|\n",
            "|            Paraguay|  INGENIERIA Y AFINES|\n",
            "|                Perú|  INGENIERIA Y AFINES|\n",
            "|             Polonia|  INGENIERIA Y AFINES|\n",
            "|         Puerto Rico|       ADMINISTRACIÓN|\n",
            "|         Reino Unido|     DIFERENTES AREAS|\n",
            "|               Rusia| PREGRADO EN DIFER...|\n",
            "|            Singapur| ADMINISTRACIÓN - ...|\n",
            "|            Singapur|       ADMINISTRACIÓN|\n",
            "|              Suecia|    CIENCIAS SOCIALES|\n",
            "|               Suiza| DOCTORADO EN DIFE...|\n",
            "|           Tailandia| CIENCIAS AGROPECU...|\n",
            "|              Taiwán| POSGRADO DIFERENT...|\n",
            "|             Turquía| DOCTORADO EN DIFE...|\n",
            "|             Turquía| MAESTRÍAS EN DIFE...|\n",
            "|             Uruguay|  INGENIERIA Y AFINES|\n",
            "+--------------------+---------------------+\n",
            "\n"
          ]
        }
      ]
    },
    {
      "cell_type": "markdown",
      "source": [
        "#### Parte 2\n",
        "\n",
        "Porentaje de los programas que se ofrecen con posgrado"
      ],
      "metadata": {
        "id": "6-iKoIp_UA5u"
      }
    },
    {
      "cell_type": "code",
      "source": [
        "posgrados = area_del_conocimiento_cached.filter(area_del_conocimiento_cached[\"titulacion\"] == \"posgrado\")\n",
        "# Inspeccion\n",
        "posgrados.show(5)"
      ],
      "metadata": {
        "colab": {
          "base_uri": "https://localhost:8080/"
        },
        "id": "kDFUPGNBUWHl",
        "outputId": "8c1c0626-07f6-4bce-a36d-3f73fa2a511c"
      },
      "execution_count": null,
      "outputs": [
        {
          "output_type": "stream",
          "name": "stdout",
          "text": [
            "+---------+---------------------+----------+\n",
            "|     pais|area_del_conocimiento|titulacion|\n",
            "+---------+---------------------+----------+\n",
            "|   Canadá| MAESTRÍAS Y DOCTO...|  posgrado|\n",
            "|   España| POSGRADO DIFERENT...|  posgrado|\n",
            "|Australia| MAESTRÍAS EN DIFE...|  posgrado|\n",
            "|   España| MAESTRÍAS EN DIFE...|  posgrado|\n",
            "|    Suiza| POSGRADO DIFERENT...|  posgrado|\n",
            "+---------+---------------------+----------+\n",
            "only showing top 5 rows\n",
            "\n"
          ]
        }
      ]
    },
    {
      "cell_type": "code",
      "source": [
        "area_conocimiento_postrado = posgrados.groupBy(\"area_del_conocimiento\").count().orderBy(\"area_del_conocimiento\", ascending=True)\n",
        "# Inspeccion del resultado\n",
        "area_conocimiento_postrado.show()"
      ],
      "metadata": {
        "colab": {
          "base_uri": "https://localhost:8080/"
        },
        "id": "cPsH63N1MbO8",
        "outputId": "964a23bf-4f73-46bd-c558-42fe1bb901db"
      },
      "execution_count": null,
      "outputs": [
        {
          "output_type": "stream",
          "name": "stdout",
          "text": [
            "+---------------------+-----+\n",
            "|area_del_conocimiento|count|\n",
            "+---------------------+-----+\n",
            "| DOCTORADO EN DIFE...|   17|\n",
            "| MAESTRÍAS EN DIFE...|   58|\n",
            "| MAESTRÍAS Y DOCTO...|   28|\n",
            "| POSGRADO DIFERENT...|   45|\n",
            "+---------------------+-----+\n",
            "\n"
          ]
        }
      ]
    },
    {
      "cell_type": "code",
      "source": [
        "total_becas_ofrecidas = area_del_conocimiento_cached.count()\n",
        "total_becas_ofrecidas_posgrado = area_conocimiento_postrado.select(F.sum(\"count\")).collect()[0][0]\n",
        "print(f\"Cantidad de becas ofrecidas: {total_becas_ofrecidas}\")\n",
        "print(f\"Cantidad de de posgrados becas ofrecidas: {total_becas_ofrecidas_posgrado}\")"
      ],
      "metadata": {
        "colab": {
          "base_uri": "https://localhost:8080/"
        },
        "id": "MnJro1SyLsl_",
        "outputId": "a72032f3-8b8d-4d15-e388-d4bdde9b02f5"
      },
      "execution_count": null,
      "outputs": [
        {
          "output_type": "stream",
          "name": "stdout",
          "text": [
            "Cantidad de becas ofrecidas: 1485\n",
            "Cantidad de de posgrados becas ofrecidas: 148\n"
          ]
        }
      ]
    },
    {
      "cell_type": "code",
      "source": [
        "porc_posgrados = (total_becas_ofrecidas_posgrado/total_becas_ofrecidas)*100\n",
        "print(f\"Porcentaje de becas ofrecidas para posgrado (teniendo en cuenta a Colombia): {porc_posgrados:.2f} %\")"
      ],
      "metadata": {
        "colab": {
          "base_uri": "https://localhost:8080/"
        },
        "id": "DSrOC9vpI7o_",
        "outputId": "b0e4d8b8-176f-4671-c240-ea417d4d0db8"
      },
      "execution_count": null,
      "outputs": [
        {
          "output_type": "stream",
          "name": "stdout",
          "text": [
            "Porcentaje de becas ofrecidas para posgrado (teniendo en cuenta a Colombia): 9.97 %\n"
          ]
        }
      ]
    },
    {
      "cell_type": "code",
      "source": [
        "# Se libera el DataFrame cacheado\n",
        "area_del_conocimiento_cached.unpersist()\n",
        "area_del_conocimiento_cached.is_cached"
      ],
      "metadata": {
        "colab": {
          "base_uri": "https://localhost:8080/"
        },
        "id": "ZV9ty5WXXEuh",
        "outputId": "580e5813-3c66-405a-e78a-0229d4796ece"
      },
      "execution_count": null,
      "outputs": [
        {
          "output_type": "execute_result",
          "data": {
            "text/plain": [
              "False"
            ]
          },
          "metadata": {},
          "execution_count": 58
        }
      ]
    },
    {
      "cell_type": "markdown",
      "metadata": {
        "id": "gaYRRcaPlN9w"
      },
      "source": [
        "Presente aquí el código desarrollado y el resultado obtenido"
      ]
    },
    {
      "cell_type": "markdown",
      "metadata": {
        "id": "HGwierHTLFt3"
      },
      "source": [
        "##**E) ¿Qué podemos concluir a partir del Perfil del Aspirante y el Objetivo del Programa?**\n",
        "\n",
        "Se dispone de dos campos de descripción, que no emplean un formato claro que permita analizar los perfiles de los aspirantes con respecto al objetivo del programa.\n",
        "\n",
        "Plantee una forma de analizar esta información para conocer las relaciones entre los perfiles y lo objetivos."
      ]
    },
    {
      "cell_type": "markdown",
      "source": [
        "### Solución\n",
        "\n",
        "#### Procedimiento resumido\n",
        "\n",
        "Para el analisis de los perfiles de los aspirantes se llevo a cabo un procedimiento de mineria de texto simple el cual consistió en tres pasos:\n",
        "1. Realizar la normalización del texto eliminando signos (de puntuacion, tildes por citar algunos) caracteres numericos y convirtiendo a minusculas el texto.\n",
        "2. Limpiar el texto normalizado eliminando stopwords\n",
        "3. Tokenizar el texto con el fin de obtener las lista de palabras que aparecen en este.\n",
        "\n",
        "El procedimiento anterior, se llevo a cabo en cada una de las columnas de interes (`perfil_del_aplicante` y `objetivo_del_programa`) para luego, mediante la comparación la lista de palabras de cada una, obtener una nueva lista con las palabra comunes. Como esta nueva lista podría tener verbos en infinitivo (terminados en *ar*, *er* o *ir*), se procedio a la eliminación de estos.\n",
        "\n",
        "Finalmente, se contó el numero de palabras de la lista y si este superaba cierto ***umbral minimo*** (definido manualmente) se consideraba el perfil como relacionado con el objetivo.\n",
        "\n",
        "#### Librerias empleadas\n",
        "\n",
        "Se empleo la libreria [**NLTK**](https://www.nltk.org/) (Natural Language Toolkit) para realizar diferentes tareas de procesamiento de lenguaje natural (**PLN**). En nuestro caso particular, se realizaron las citadas anteriormente.\n",
        "\n",
        "#### Aspectos importantes\n",
        "\n",
        "Para desarrollar este punto ***nos apoyamos en buena medida de herramientas de inteligencia artificial*** como ChatGPT y Gemini.\n"
      ],
      "metadata": {
        "id": "gdbPT51Mum8j"
      }
    },
    {
      "cell_type": "markdown",
      "metadata": {
        "id": "xHtI3jGcNTNn"
      },
      "source": [
        "Presente aquí el código desarrollado y el resultado obtenido"
      ]
    },
    {
      "cell_type": "code",
      "source": [
        "from pyspark.sql.functions import udf, col, explode, split, array_intersect, concat\n",
        "from pyspark.sql.types import ArrayType, StringType\n",
        "from pyspark.ml.feature import Tokenizer, NGram\n",
        "\n",
        "import unicodedata\n",
        "import nltk\n",
        "from nltk.corpus import stopwords\n",
        "import re\n",
        "\n",
        "nltk.download('stopwords')"
      ],
      "metadata": {
        "colab": {
          "base_uri": "https://localhost:8080/"
        },
        "id": "2EYswlGNUHul",
        "outputId": "5f59cd34-3524-4e94-d118-e10855c3f23f"
      },
      "execution_count": null,
      "outputs": [
        {
          "output_type": "stream",
          "name": "stderr",
          "text": [
            "[nltk_data] Downloading package stopwords to /root/nltk_data...\n",
            "[nltk_data]   Unzipping corpora/stopwords.zip.\n"
          ]
        },
        {
          "output_type": "execute_result",
          "data": {
            "text/plain": [
              "True"
            ]
          },
          "metadata": {},
          "execution_count": 59
        }
      ]
    },
    {
      "cell_type": "markdown",
      "source": [
        "Las siguientes funciones de realizaron con la ayuda de IA generativa ([quita trabajo](https://www.southpark.lat/episodios/n6dj9t/south-park-espaldas-babosas-temporada-8-ep-7)):"
      ],
      "metadata": {
        "id": "8TpOIWKIUPhu"
      }
    },
    {
      "cell_type": "code",
      "source": [
        "# Función para eliminar tildes y normalizar texto\n",
        "def normalize_text(text):\n",
        "    if text is None:\n",
        "        return None\n",
        "    # Reemplazar puntos con espacios\n",
        "    text = text.replace('.', ' ')\n",
        "    # Convertir a forma normalizada y eliminar tildes\n",
        "    text = unicodedata.normalize('NFKD', text)\n",
        "    text = text.lower()\n",
        "    return ''.join(c for c in text if not unicodedata.combining(c))\n",
        "\n",
        "# Registrar función como UDF\n",
        "normalize_udf = udf(normalize_text, StringType())\n",
        "\n",
        "# ------------------------------------------------------------------------------------------------------------------------------\n",
        "# Definir una función personalizada para limpiar texto\n",
        "\n",
        "spanish_stopwords = set(stopwords.words('spanish'))  # Stopwords en español\n",
        "\n",
        "# Definir una función personalizada para limpiar texto\n",
        "def clean_text(text):\n",
        "    # Convertir a minúsculas\n",
        "    text = text.lower()\n",
        "    # Eliminar números\n",
        "    text = re.sub(r'\\d+', '', text)\n",
        "    # Eliminar puntuación\n",
        "    text = re.sub(r'[^\\w\\s]', '', text)\n",
        "    # Tokenizar y eliminar stopwords\n",
        "    tokens = text.split()\n",
        "    tokens_cleaned = [word for word in tokens if word not in spanish_stopwords]\n",
        "    # Reconstruir el texto limpio\n",
        "    return ' '.join(tokens_cleaned)\n",
        "\n",
        "# Registrar la función como una UDF\n",
        "clean_text_udf = udf(clean_text, StringType())\n",
        "\n",
        "# ------------------------------------------------------------------------------------------------------------------------------\n",
        "\n",
        "# Función para eliminar verbos en infinitivo\n",
        "def remove_infinitive_verbs_es(tokens):\n",
        "    \"\"\"\n",
        "    Elimina verbos en infinitivo de una lista de tokens en español.\n",
        "\n",
        "    Args:\n",
        "        tokens (list): Lista de palabras o tokens.\n",
        "\n",
        "    Returns:\n",
        "        list: Lista de tokens sin los verbos en infinitivo.\n",
        "    \"\"\"\n",
        "    tokens_sin_verbos = [word for word in tokens if not word.endswith((\"ar\", \"er\", \"ir\"))]\n",
        "    return tokens_sin_verbos\n",
        "\n",
        "# Registrar la función como una UDF para PySpark\n",
        "remove_infinitive_verbs_es_udf = udf(remove_infinitive_verbs_es, ArrayType(StringType()))\n"
      ],
      "metadata": {
        "id": "b-zqc5UIUNgm"
      },
      "execution_count": null,
      "outputs": []
    },
    {
      "cell_type": "markdown",
      "source": [
        "Retomando el dataframe inicial tenemos:"
      ],
      "metadata": {
        "id": "VGUrzn3Y0JLt"
      }
    },
    {
      "cell_type": "code",
      "source": [
        "icetex_becas.show(5)"
      ],
      "metadata": {
        "colab": {
          "base_uri": "https://localhost:8080/"
        },
        "id": "B5Y26U39Qgf1",
        "outputId": "ba4e7331-58d9-4445-c90e-ef41cceebe6a"
      },
      "execution_count": null,
      "outputs": [
        {
          "output_type": "stream",
          "name": "stdout",
          "text": [
            "+-------------------+--------------------+---------------------+--------------------+--------------------+--------------------+--------------------+---------------------+\n",
            "|codigo_convocatoria| nombre_del_oferente|area_del_conocimiento| nombre_del_programa|     nombre_del_pais|  fecha_de_recepcion|perfil_del_aplicante|objetivo_del_programa|\n",
            "+-------------------+--------------------+---------------------+--------------------+--------------------+--------------------+--------------------+---------------------+\n",
            "|          2127916.0|OEA - TOP - ARGEN...|       ADMINISTRACIÓN|POLÍTICAS DE GOBI...|PLATAFORMA DE EDU...|05/27/2016 12:00:...|El programa está ...| a) Proporcionar a...|\n",
            "|          3101616.0|ALIANZA DEL PACÍF...|     DIFERENTES AREAS|PLATAFORMA DE MOV...|Chile (República ...|                null|El programa está ...| El objetivo del P...|\n",
            "|          2221414.0|GOBIERNO DE LA INDIA|  INGENIERIA Y AFINES|DATA COMMUNICATIO...|India (República ...|07/30/2014 12:00:...|\"El Programa \"\"Co...| Ofrecer a los par...|\n",
            "|          3001315.0|MINISTÈRE DE L'EN...| MAESTRÍAS Y DOCTO...|REDUCCIÓN DE COLE...|     Canadá (Canadá)|                null|El programa está ...| En la presente co...|\n",
            "|          4102316.0|ALIANZA DEL PACÍF...|     DIFERENTES AREAS|PLATAFORMA DE MOV...|Perú (República d...|                null|\"El programa está...| El objetivo del P...|\n",
            "+-------------------+--------------------+---------------------+--------------------+--------------------+--------------------+--------------------+---------------------+\n",
            "only showing top 5 rows\n",
            "\n"
          ]
        }
      ]
    },
    {
      "cell_type": "markdown",
      "source": [
        "A continuación vamos a aplicar el procedimiento para determinar si existe una relación entre el perfil del aplicante y el objetivo del programa tomando como umbral de selección la coincidencia en 5 o mas palabras claves en las columnas de interes."
      ],
      "metadata": {
        "id": "BEYzPpIpGyew"
      }
    },
    {
      "cell_type": "code",
      "source": [
        "# --- Obtencion de las columnas de interes ---\n",
        "reg_perfil_objetivo = icetex_becas.select(\"codigo_convocatoria\",\"perfil_del_aplicante\",\"objetivo_del_programa\")\n",
        "# --- Normalizacion ---\n",
        "normalized_data = reg_perfil_objetivo.withColumn(\"perfil_del_aplicante_norm\", normalize_udf(col(\"perfil_del_aplicante\")))\n",
        "normalized_data = normalized_data.withColumn(\"objetivo_del_programa_norm\", normalize_udf(col(\"objetivo_del_programa\")))\n",
        "normalized_data = normalized_data.drop(\"perfil_del_aplicante\",\"objetivo_del_programa\")\n",
        "# --- Quitar stopwords ---\n",
        "clean_data = normalized_data.withColumn(\"perfil_del_aplicante_limpio\",clean_text_udf(col(\"perfil_del_aplicante_norm\")))\n",
        "clean_data = clean_data.withColumn(\"objetivo_del_programa_limpio\",clean_text_udf(col(\"objetivo_del_programa_norm\")))\n",
        "clean_data = clean_data.drop(\"perfil_del_aplicante_norm\",\"objetivo_del_programa_norm\")\n",
        "# --- Tokenizacion ---\n",
        "tokenized_data = clean_data.withColumn(\"perfil_del_aplicante_tokens\", split(\"perfil_del_aplicante_limpio\", \" \"))\n",
        "tokenized_data = tokenized_data.withColumn(\"objetivo_del_programa_tokens\", split(\"objetivo_del_programa_limpio\", \" \"))\n",
        "tokenized_data = tokenized_data.drop(\"perfil_del_aplicante_limpio\",\"objetivo_del_programa_limpio\")\n",
        "# --- Interseccion de tokens ---\n",
        "common_tokenized_data = tokenized_data.withColumn(\"palabras_comunes\", array_intersect(\"perfil_del_aplicante_tokens\", \"objetivo_del_programa_tokens\"))\n",
        "# --- Eliminacion de verbos en infinitivo ---\n",
        "common_tokenized_data = common_tokenized_data.withColumn(\"tokens_sin_verbos\", remove_infinitive_verbs_es_udf(\"palabras_comunes\"))\n",
        "# --- Aplicacion del criterio que define la relacion entre perfil y objetivo ---\n",
        "UMBRAL = 5\n",
        "common_tokenized_data = common_tokenized_data.withColumn(\"relacion\", F.size(\"tokens_sin_verbos\") >= UMBRAL)\n",
        "# --- Inspeccion del resultado final ---\n",
        "# common_tokenized_data.show(5)\n"
      ],
      "metadata": {
        "id": "p-msIlOMGxzh"
      },
      "execution_count": null,
      "outputs": []
    },
    {
      "cell_type": "markdown",
      "source": [
        "Despliegue de los resultados finales"
      ],
      "metadata": {
        "id": "HFup7PO9JjWP"
      }
    },
    {
      "cell_type": "code",
      "source": [
        "columas_salida = ['codigo_convocatoria', 'nombre_del_oferente', 'area_del_conocimiento', 'nombre_del_programa']\n",
        "# icetex_becas.select(columas_salida).show(5)\n",
        "informe = icetex_becas.select(columas_salida).join(common_tokenized_data.select('codigo_convocatoria','relacion'), \"codigo_convocatoria\", \"left\")\n",
        "informe.show()"
      ],
      "metadata": {
        "colab": {
          "base_uri": "https://localhost:8080/"
        },
        "id": "5Susv40YJi14",
        "outputId": "c2a8a6db-4ff8-4ddb-a867-6fdca2cf4cce"
      },
      "execution_count": null,
      "outputs": [
        {
          "output_type": "stream",
          "name": "stdout",
          "text": [
            "+-------------------+--------------------+---------------------+--------------------+--------+\n",
            "|codigo_convocatoria| nombre_del_oferente|area_del_conocimiento| nombre_del_programa|relacion|\n",
            "+-------------------+--------------------+---------------------+--------------------+--------+\n",
            "|          2127916.0|OEA - TOP - ARGEN...|       ADMINISTRACIÓN|POLÍTICAS DE GOBI...|   false|\n",
            "|          3101616.0|ALIANZA DEL PACÍF...|     DIFERENTES AREAS|PLATAFORMA DE MOV...|    true|\n",
            "|          2221414.0|GOBIERNO DE LA INDIA|  INGENIERIA Y AFINES|DATA COMMUNICATIO...|   false|\n",
            "|          3001315.0|MINISTÈRE DE L'EN...| MAESTRÍAS Y DOCTO...|REDUCCIÓN DE COLE...|    true|\n",
            "|          4102316.0|ALIANZA DEL PACÍF...|     DIFERENTES AREAS|PLATAFORMA DE MOV...|   false|\n",
            "|          2214713.0|GOBIERNO DE LA INDIA|          HUMANIDADES|PROGRESS TO PROFI...|   false|\n",
            "|          3900314.0|    UNESCO - L´OREAL| CIENCIAS NATURALE...|INVESTIGACIÓN PAR...|   false|\n",
            "|          5202816.0|UNESCO - GOBIERNO...|     DIFERENTES AREAS|PROGRAMA LA GRAN ...|   false|\n",
            "|          2204712.0|GOBIERNO DE JAPON...|  INGENIERIA Y AFINES|TECNOLOGÍA PRÁCTI...|   false|\n",
            "|          2204712.0|GOBIERNO DE JAPON...|  INGENIERIA Y AFINES|TECNOLOGÍA PRÁCTI...|   false|\n",
            "|          6200312.0|UNIVERSIDAD CARLO...| POSGRADO DIFERENT...|PROGRAMA DE MAEST...|    true|\n",
            "|          2233116.0|GOBIERNO DE LA INDIA|  INGENIERIA Y AFINES|SUSTAINABLE AGRIC...|   false|\n",
            "|          4100614.0|ALIANZA DEL PACÍF...|     DIFERENTES AREAS|PLATAFORMA DE MOV...|    true|\n",
            "|          5202316.0|GOBIERNO DE LA INDIA|       ADMINISTRACIÓN|POST GRADUATE DIP...|   false|\n",
            "|          2000612.0|OEA - GOBIERNO DE...| DERECHO Y CIENCIA...|\"XXXIX CURSO DE D...|   false|\n",
            "|          6210416.0|   CURTIN UNIVERSITY| MAESTRÍAS EN DIFE...|MAESTRÍAS EN DIFE...|    true|\n",
            "|          2227715.0|GOBIERNO DE LA INDIA| CIENCIAS NATURALE...|NATURAL RESOURCE ...|   false|\n",
            "|          6110015.0|INSTITUTO EUROPEO...| MAESTRÍAS EN DIFE...|MBA MAESTRÍAS Y E...|   false|\n",
            "|          6003512.0|   GOBIERNO DE SUIZA| POSGRADO DIFERENT...|POSGRADO EN DIFER...|    true|\n",
            "|          2105611.0|GOBIERNO DE JAPON...| CIENCIAS AGROPECU...|METODOLOGÍAS DE E...|    true|\n",
            "+-------------------+--------------------+---------------------+--------------------+--------+\n",
            "only showing top 20 rows\n",
            "\n"
          ]
        }
      ]
    },
    {
      "cell_type": "markdown",
      "source": [
        "## **Análisis de los resultados**\n",
        "\n",
        "Teniendo en cuenta los resultados obtenidos en los puntos anteriores, presente sus impresiones sobre las becas académicas disponibles para los estudiantes colombianos.\n",
        "\n",
        "1. Para los años reportados se ofrecen 1485 becas en total pero solo el 9% son para estudios de posgrado.\n",
        "2. Los paises más industrializados son, en general, los que tiene mayor cantidad de ofertas.\n",
        "3. No son solo los paises los que ofrecen becas, también lo hacen instituciones de deferente índole.\n",
        "4. Egipto es el único país africano que ofrece becas para los años reportados.\n",
        "5. Hay poca relación entre los perfiles definidos para los aspirantes y los objetivos de los programas.\n",
        "6. Debido a la calidad de los datos suministrados, pricipalmente en los campos de \"Perfil\" y \"Objetivo\", se requirió de un ardúo trabajo para adecuarlos.\n",
        "7. Se observa incremento en las becas ofrecidas entre el primer y el último año reportados pero no se cuenta con datos del incremento o no de estudiantes, principalmente universitarios, en el mismo período como para indicar si hay proporcionalidad."
      ],
      "metadata": {
        "id": "6z6o29C30u37"
      }
    },
    {
      "cell_type": "markdown",
      "source": [
        "## **Notas:**\n",
        "\n",
        "* Analice los resultados de cada punto y presente sus conclusiones\n",
        "* Utilice al menos una vez cada uno de los siguientes métodos\n",
        "\n",
        "  *   agg\n",
        "  *   withColumn\n",
        "  *   groupBy\n",
        "  *   sql\n",
        "  *   registerFunction"
      ],
      "metadata": {
        "id": "Btqwte-g0-aD"
      }
    },
    {
      "cell_type": "markdown",
      "source": [
        "## **Referencias**\n",
        "\n",
        "* https://github.com/mchesterkadwell/intro-to-text-mining-with-python/tree/master\n",
        "* https://runawayhorse001.github.io/LearningApacheSpark/textmining.html"
      ],
      "metadata": {
        "id": "CrgHtp1_1NRl"
      }
    },
    {
      "cell_type": "markdown",
      "source": [
        "## **Anexos**\n",
        "\n",
        "A continuacion se presenta un anexo con las pruebas hechas para las diferentes funciones con las que se hace la mineria de texto (definidas en la **punto e**) antes de usarlas para el problema en cuestion."
      ],
      "metadata": {
        "id": "SJKKkQtIdXsn"
      }
    },
    {
      "cell_type": "markdown",
      "source": [
        "### **Anexo 1**"
      ],
      "metadata": {
        "id": "AcCOPfF7s0pN"
      }
    },
    {
      "cell_type": "markdown",
      "source": [
        "Inicialmente se toman solo los dos primeros registros de la columnas de interes (`perfil_del_aplicante` y `objetivo_del_programa`) y se aplican las funciones para ver que hacen su trabajo según lo esperado."
      ],
      "metadata": {
        "id": "omyE3qDA1sw1"
      }
    },
    {
      "cell_type": "code",
      "source": [
        "primeros_dos_registros = icetex_becas.select(\"codigo_convocatoria\",\"perfil_del_aplicante\",\"objetivo_del_programa\").limit(2)\n",
        "primeros_dos_registros.count()"
      ],
      "metadata": {
        "id": "xGhGU_0yQ6tA",
        "colab": {
          "base_uri": "https://localhost:8080/"
        },
        "outputId": "a94868ee-fc5c-43d4-a675-2b1c0879d103"
      },
      "execution_count": null,
      "outputs": [
        {
          "output_type": "execute_result",
          "data": {
            "text/plain": [
              "2"
            ]
          },
          "metadata": {},
          "execution_count": 111
        }
      ]
    },
    {
      "cell_type": "code",
      "source": [
        "# Mostrar los dos primeros registros\n",
        "primeros_dos_registros.show()"
      ],
      "metadata": {
        "colab": {
          "base_uri": "https://localhost:8080/"
        },
        "id": "JubHnJhVRXFU",
        "outputId": "735da46a-81a1-4807-cdf9-ac9a5329d9c0"
      },
      "execution_count": null,
      "outputs": [
        {
          "output_type": "stream",
          "name": "stdout",
          "text": [
            "+-------------------+--------------------+---------------------+\n",
            "|codigo_convocatoria|perfil_del_aplicante|objetivo_del_programa|\n",
            "+-------------------+--------------------+---------------------+\n",
            "|          2127916.0|El programa está ...| a) Proporcionar a...|\n",
            "|          3101616.0|El programa está ...| El objetivo del P...|\n",
            "+-------------------+--------------------+---------------------+\n",
            "\n"
          ]
        }
      ]
    },
    {
      "cell_type": "code",
      "source": [
        "registro1 = primeros_dos_registros.collect()\n",
        "# Se imprime ambas columnas del primer registro [Fila 0]\n",
        "print('codigo_convocatoria:')\n",
        "print(f\"  {registro1[0][0]}\")\n",
        "print()\n",
        "print('perfil_del_aplicante:')\n",
        "print(f\"  {registro1[0][1]}\")\n",
        "print()\n",
        "print('objetivo_del_programa:')\n",
        "print(f\"  {registro1[0][2]}\")"
      ],
      "metadata": {
        "colab": {
          "base_uri": "https://localhost:8080/"
        },
        "id": "E17A3vLXSHKr",
        "outputId": "7a132602-d2c3-4879-aedd-bf68a8bd7810"
      },
      "execution_count": null,
      "outputs": [
        {
          "output_type": "stream",
          "name": "stdout",
          "text": [
            "codigo_convocatoria:\n",
            "  2127916.0\n",
            "\n",
            "perfil_del_aplicante:\n",
            "  El programa está dirigido a profesionales universitarios en administración- economía- derecho- ciencias políticas o en áreas directamente relacionadas con el tema del curso que se desempeñen en entidades públicas o privadas- desarrollando actividades inherentes a las políticas de gobierno abierto y acceso a datos públicos. REQUISITOS: El candidato debe ser mayor de 23 años y menor de 65 años- tener un promedio mínimo de notas de pregrado de 3-7/5-0  contar con mínimo 2 años de experiencia profesional en el área del programa y gozar de buena salud física y mental.\n",
            "\n",
            "objetivo_del_programa:\n",
            "  a) Proporcionar a los participantes un panorama actualizado del concepto de Gobierno Abierto.b) Analizar las principales tendencias con un abordaje teórico y práctico.c) Desarrollar y compartir conocimientos y habilidades sobre el impacto que pueden tener la implementación de políticas de transparencia en nuestros países.\n"
          ]
        }
      ]
    },
    {
      "cell_type": "markdown",
      "source": [
        "#### **Pruebas de funciones**\n",
        "\n",
        "Estas pruebas solo involucran los pasos 1, 2 y 3 sobre una sola columna (para el caso la relacionada con el perfil `perfil_del_aplicante`) con el fin de verificar que las funciones definidas hacen lo que se espera."
      ],
      "metadata": {
        "id": "K0aqvH1WUcUu"
      }
    },
    {
      "cell_type": "markdown",
      "source": [
        "##### **Normalizacion**"
      ],
      "metadata": {
        "id": "wYhTXA1n3BaM"
      }
    },
    {
      "cell_type": "code",
      "source": [
        "# Columnas dataframe inicial\n",
        "print(f\"Columnas DF inicial: {primeros_dos_registros.columns}\")\n",
        "# Aplicar la normalización\n",
        "normalized_data = primeros_dos_registros.select(\"perfil_del_aplicante\") \\\n",
        "                                        .withColumn(\"perfil_del_aplicante_norm\", normalize_udf(col(\"perfil_del_aplicante\")))\n",
        "# Columnas dataframe normalizado\n",
        "print(f\"Columnas DF normalizado: {normalized_data.columns}\")\n",
        "print()\n",
        "# Columna perfil_del_aplicante con datos normalizados\n",
        "normalized_data.select(\"perfil_del_aplicante\").show(truncate=False)\n",
        "print()\n",
        "normalized_data.select(\"perfil_del_aplicante_norm\").show(truncate=False)\n"
      ],
      "metadata": {
        "colab": {
          "base_uri": "https://localhost:8080/"
        },
        "id": "iABExLbqUfGX",
        "outputId": "cf014b44-0924-4208-8ab7-234e661252fc"
      },
      "execution_count": null,
      "outputs": [
        {
          "output_type": "stream",
          "name": "stdout",
          "text": [
            "Columnas DF inicial: ['codigo_convocatoria', 'perfil_del_aplicante', 'objetivo_del_programa']\n",
            "Columnas DF normalizado: ['perfil_del_aplicante', 'perfil_del_aplicante_norm']\n",
            "\n",
            "+---------------------------------------------------------------------------------------------------------------------------------------------------------------------------------------------------------------------------------------------------------------------------------------------------------------------------------------------------------------------------------------------------------------------------------------------------------------------------------------------------------------------------------------------------------------------------------------------------------------------------------------------------------------------------------------------------------------------------------------------------------------------------------------------------------------------------------------------------------------------------------------------------------------------------------------------------------------------------------------------------------------------------------------------------------------------------------------------------------------------------------------------------------------------------------------------------------------------------------------------------------------------------------------------------------------------------------------------------------------------------------------------------------------------------------------------------------------------------------------------------------------------------------------------------------------------------------------------------------------------------------------------------------------------------------------------------------------------------------------------------------------------------------------------------------------------------------------------------------------------------------------------------------------------------------------------------------------------------------------------------------------------------------------------------------------------------------------------------------------------------------------------------------------------------------------------------------------------------------------------------------------------------------------------------------------------------------------------------------------------------------------------------------------------------------------------------------------------------------------------------------------------------------------------------------------------------------------------------------------------------------------------------------------------------------------------------------------------------------------------------------------------------------------------------------------------------------------------------------------------------------------------------------------------------------------------------------------------------------------------------------------------------------------------------------------------------------------------------------------------------------------------------------------------------------------------------------------------------------------------------------------------------------------------------------------------------------------------------------------------------------------------------------------+\n",
            "|perfil_del_aplicante                                                                                                                                                                                                                                                                                                                                                                                                                                                                                                                                                                                                                                                                                                                                                                                                                                                                                                                                                                                                                                                                                                                                                                                                                                                                                                                                                                                                                                                                                                                                                                                                                                                                                                                                                                                                                                                                                                                                                                                                                                                                                                                                                                                                                                                                                                                                                                                                                                                                                                                                                                                                                                                                                                                                                                                                                                                                                                                                                                                                                                                                                                                                                                                                                                                                                                                                                                                           |\n",
            "+---------------------------------------------------------------------------------------------------------------------------------------------------------------------------------------------------------------------------------------------------------------------------------------------------------------------------------------------------------------------------------------------------------------------------------------------------------------------------------------------------------------------------------------------------------------------------------------------------------------------------------------------------------------------------------------------------------------------------------------------------------------------------------------------------------------------------------------------------------------------------------------------------------------------------------------------------------------------------------------------------------------------------------------------------------------------------------------------------------------------------------------------------------------------------------------------------------------------------------------------------------------------------------------------------------------------------------------------------------------------------------------------------------------------------------------------------------------------------------------------------------------------------------------------------------------------------------------------------------------------------------------------------------------------------------------------------------------------------------------------------------------------------------------------------------------------------------------------------------------------------------------------------------------------------------------------------------------------------------------------------------------------------------------------------------------------------------------------------------------------------------------------------------------------------------------------------------------------------------------------------------------------------------------------------------------------------------------------------------------------------------------------------------------------------------------------------------------------------------------------------------------------------------------------------------------------------------------------------------------------------------------------------------------------------------------------------------------------------------------------------------------------------------------------------------------------------------------------------------------------------------------------------------------------------------------------------------------------------------------------------------------------------------------------------------------------------------------------------------------------------------------------------------------------------------------------------------------------------------------------------------------------------------------------------------------------------------------------------------------------------------------------------------------+\n",
            "|El programa está dirigido a profesionales universitarios en administración- economía- derecho- ciencias políticas o en áreas directamente relacionadas con el tema del curso que se desempeñen en entidades públicas o privadas- desarrollando actividades inherentes a las políticas de gobierno abierto y acceso a datos públicos. REQUISITOS: El candidato debe ser mayor de 23 años y menor de 65 años- tener un promedio mínimo de notas de pregrado de 3-7/5-0  contar con mínimo 2 años de experiencia profesional en el área del programa y gozar de buena salud física y mental.                                                                                                                                                                                                                                                                                                                                                                                                                                                                                                                                                                                                                                                                                                                                                                                                                                                                                                                                                                                                                                                                                                                                                                                                                                                                                                                                                                                                                                                                                                                                                                                                                                                                                                                                                                                                                                                                                                                                                                                                                                                                                                                                                                                                                                                                                                                                                                                                                                                                                                                                                                                                                                                                                                                                                                                                                      |\n",
            "|El programa está dirigido a profesionales universitarios con maestría o a profesores o investigadores que cuenten con admisión definitiva al nivel de estudios que vayan a adelantar (doctorado- investigación o profesores invitados) en Chile- en las siguientes áreas:  1. NEGOCIOS. 2. FINANZAS. 3. COMERCIO INTERNACIONAL. 4. ADMINISTRACIÓN PÚBLICA. 5. CIENCIA POLÍTICA. 6. TURISMO. 7. ECONOMÍA. 8. RELACIONES INTERNACIONALES. 9. MEDIO AMBIENTE Y CAMBIO CLIMÁTICO. 10. INNOVACIÓN- CIENCIA Y TECNOLOGÍA. 11. INGENIERÍAS.   - Para obtener mayor información- visite: http://www.agci.cl/index.php/becas/becas-para-extranjeros/105-encuentra-tu-beca/1522-infobecaextr/?tipo=2&idNew=119   NOTA: SE EXCLUYEN ÁREAS DISTINTAS A LAS SEÑALADAS EN LA PRESENTE CONVOCATORIA.  REQUISITOS: El aspirante debe tener un promedio de notas de posgrado de 4-0/5-0 y deben gozar de excelente salud física y mental.  INFORMACIÓN IMPORTANTE:   1. La duración mínima será de tres semanas y máximo de un año académico (10 meses)- la movilidad en estudiantes de doctorado- investigadores y profesores invitados se deberá realizar con base en el calendario aprobado por la Universidad o Institución de Educación Superior receptora de cada país.  2. Los estudiantes de doctorado podrán realizar con esta beca: cursos- pasantías de co-tutela- estancias de investigación en el marco de su programa de postgrado en la universidad de origen.   3. Los docentes podrán ocupar esta beca para impartir clases como profesor invitado- para ello deberán presentar un programa de trabajo con las materias que dictarán- el nivel y deberán dar al menos cuatro (4) horas a la semana si son programas de pregrado y al menos tres (3) horas a la semana si son clases en programas de postgrado en general.   4. Los investigadores podrán integrarse a equipos de investigación en las instituciones académicas de destino y deberán presentar un Plan de Trabajo con los detalles de la investigación a realizar.  5. Los candidatos seleccionados por AGCID deberán: 1. Viajar a Chile- o encontrarse en él- con una anticipación suficiente a la fecha de inicio del respectivo programa de estudio. Se sugiere entre 3 y 5 días antes del inicio de las clases. 2. Obtener- con la debida anticipación- la Visa respectiva para estar en Chile en calidad de estudiante. 3. Obtener- con la debida anticipación- los permisos correspondientes en la universidad de origen. 4. Presentarse personalmente en las oficinas de AGCID para firmar el convenio que materializa la beca y entregar toda documentación original requerida que fuese solicitada. 5. Suscribir una Declaración Jurada que confirma haber leído el convenio que materializará la beca y entregar ese original.   6. TODA LA DOCUMENTACIÓN REQUERIDA EN ESTA CONVOCATORIA SE DEBE PRESENTAR EN FÍSICO Y EN UN (1) CD (ROTULADO CON EL NOMBRE DEL POSTULANTE Y AÑO DE REALIZACIÓN PARA LA CORRESPONDIENTE OFICIALIZACIÓN)- ÚNICAMENTE EN LOS PUNTOS DE ATENCIÓN DE ICETEX A NIVEL NACIONAL. EN EL CD- SE DEBEN INCLUIR TODOS LOS DOCUMENTOS REQUERIDOS EN ESTA CONVOCATORIA. LOS ARCHIVOS DEBEN ADJUNTARSE DE FORMA INDIVIDUAL EN FORMATO PDF- ES DECIR- POR CADA DOCUMENTO- UN (1) ARCHIVO QUE NO SUPERE 15 MEGAS. No presentar documentación en carpeta ni con separadores- ÚNICAMENTE legajados en el lado izquierdo.|\n",
            "+---------------------------------------------------------------------------------------------------------------------------------------------------------------------------------------------------------------------------------------------------------------------------------------------------------------------------------------------------------------------------------------------------------------------------------------------------------------------------------------------------------------------------------------------------------------------------------------------------------------------------------------------------------------------------------------------------------------------------------------------------------------------------------------------------------------------------------------------------------------------------------------------------------------------------------------------------------------------------------------------------------------------------------------------------------------------------------------------------------------------------------------------------------------------------------------------------------------------------------------------------------------------------------------------------------------------------------------------------------------------------------------------------------------------------------------------------------------------------------------------------------------------------------------------------------------------------------------------------------------------------------------------------------------------------------------------------------------------------------------------------------------------------------------------------------------------------------------------------------------------------------------------------------------------------------------------------------------------------------------------------------------------------------------------------------------------------------------------------------------------------------------------------------------------------------------------------------------------------------------------------------------------------------------------------------------------------------------------------------------------------------------------------------------------------------------------------------------------------------------------------------------------------------------------------------------------------------------------------------------------------------------------------------------------------------------------------------------------------------------------------------------------------------------------------------------------------------------------------------------------------------------------------------------------------------------------------------------------------------------------------------------------------------------------------------------------------------------------------------------------------------------------------------------------------------------------------------------------------------------------------------------------------------------------------------------------------------------------------------------------------------------------------------------+\n",
            "\n",
            "\n",
            "+---------------------------------------------------------------------------------------------------------------------------------------------------------------------------------------------------------------------------------------------------------------------------------------------------------------------------------------------------------------------------------------------------------------------------------------------------------------------------------------------------------------------------------------------------------------------------------------------------------------------------------------------------------------------------------------------------------------------------------------------------------------------------------------------------------------------------------------------------------------------------------------------------------------------------------------------------------------------------------------------------------------------------------------------------------------------------------------------------------------------------------------------------------------------------------------------------------------------------------------------------------------------------------------------------------------------------------------------------------------------------------------------------------------------------------------------------------------------------------------------------------------------------------------------------------------------------------------------------------------------------------------------------------------------------------------------------------------------------------------------------------------------------------------------------------------------------------------------------------------------------------------------------------------------------------------------------------------------------------------------------------------------------------------------------------------------------------------------------------------------------------------------------------------------------------------------------------------------------------------------------------------------------------------------------------------------------------------------------------------------------------------------------------------------------------------------------------------------------------------------------------------------------------------------------------------------------------------------------------------------------------------------------------------------------------------------------------------------------------------------------------------------------------------------------------------------------------------------------------------------------------------------------------------------------------------------------------------------------------------------------------------------------------------------------------------------------------------------------------------------------------------------------------------------------------------------------------------------------------------------------------------------------------------------------------------------------------------------------------------------------------------------------------------+\n",
            "|perfil_del_aplicante_norm                                                                                                                                                                                                                                                                                                                                                                                                                                                                                                                                                                                                                                                                                                                                                                                                                                                                                                                                                                                                                                                                                                                                                                                                                                                                                                                                                                                                                                                                                                                                                                                                                                                                                                                                                                                                                                                                                                                                                                                                                                                                                                                                                                                                                                                                                                                                                                                                                                                                                                                                                                                                                                                                                                                                                                                                                                                                                                                                                                                                                                                                                                                                                                                                                                                                                                                                                                                      |\n",
            "+---------------------------------------------------------------------------------------------------------------------------------------------------------------------------------------------------------------------------------------------------------------------------------------------------------------------------------------------------------------------------------------------------------------------------------------------------------------------------------------------------------------------------------------------------------------------------------------------------------------------------------------------------------------------------------------------------------------------------------------------------------------------------------------------------------------------------------------------------------------------------------------------------------------------------------------------------------------------------------------------------------------------------------------------------------------------------------------------------------------------------------------------------------------------------------------------------------------------------------------------------------------------------------------------------------------------------------------------------------------------------------------------------------------------------------------------------------------------------------------------------------------------------------------------------------------------------------------------------------------------------------------------------------------------------------------------------------------------------------------------------------------------------------------------------------------------------------------------------------------------------------------------------------------------------------------------------------------------------------------------------------------------------------------------------------------------------------------------------------------------------------------------------------------------------------------------------------------------------------------------------------------------------------------------------------------------------------------------------------------------------------------------------------------------------------------------------------------------------------------------------------------------------------------------------------------------------------------------------------------------------------------------------------------------------------------------------------------------------------------------------------------------------------------------------------------------------------------------------------------------------------------------------------------------------------------------------------------------------------------------------------------------------------------------------------------------------------------------------------------------------------------------------------------------------------------------------------------------------------------------------------------------------------------------------------------------------------------------------------------------------------------------------------------+\n",
            "|el programa esta dirigido a profesionales universitarios en administracion- economia- derecho- ciencias politicas o en areas directamente relacionadas con el tema del curso que se desempenen en entidades publicas o privadas- desarrollando actividades inherentes a las politicas de gobierno abierto y acceso a datos publicos  requisitos: el candidato debe ser mayor de 23 anos y menor de 65 anos- tener un promedio minimo de notas de pregrado de 3-7/5-0  contar con minimo 2 anos de experiencia profesional en el area del programa y gozar de buena salud fisica y mental                                                                                                                                                                                                                                                                                                                                                                                                                                                                                                                                                                                                                                                                                                                                                                                                                                                                                                                                                                                                                                                                                                                                                                                                                                                                                                                                                                                                                                                                                                                                                                                                                                                                                                                                                                                                                                                                                                                                                                                                                                                                                                                                                                                                                                                                                                                                                                                                                                                                                                                                                                                                                                                                                                                                                                                                                       |\n",
            "|el programa esta dirigido a profesionales universitarios con maestria o a profesores o investigadores que cuenten con admision definitiva al nivel de estudios que vayan a adelantar (doctorado- investigacion o profesores invitados) en chile- en las siguientes areas:  1  negocios  2  finanzas  3  comercio internacional  4  administracion publica  5  ciencia politica  6  turismo  7  economia  8  relaciones internacionales  9  medio ambiente y cambio climatico  10  innovacion- ciencia y tecnologia  11  ingenierias    - para obtener mayor informacion- visite: http://www agci cl/index php/becas/becas-para-extranjeros/105-encuentra-tu-beca/1522-infobecaextr/?tipo=2&idnew=119   nota: se excluyen areas distintas a las senaladas en la presente convocatoria   requisitos: el aspirante debe tener un promedio de notas de posgrado de 4-0/5-0 y deben gozar de excelente salud fisica y mental   informacion importante:   1  la duracion minima sera de tres semanas y maximo de un ano academico (10 meses)- la movilidad en estudiantes de doctorado- investigadores y profesores invitados se debera realizar con base en el calendario aprobado por la universidad o institucion de educacion superior receptora de cada pais   2  los estudiantes de doctorado podran realizar con esta beca: cursos- pasantias de co-tutela- estancias de investigacion en el marco de su programa de postgrado en la universidad de origen    3  los docentes podran ocupar esta beca para impartir clases como profesor invitado- para ello deberan presentar un programa de trabajo con las materias que dictaran- el nivel y deberan dar al menos cuatro (4) horas a la semana si son programas de pregrado y al menos tres (3) horas a la semana si son clases en programas de postgrado en general    4  los investigadores podran integrarse a equipos de investigacion en las instituciones academicas de destino y deberan presentar un plan de trabajo con los detalles de la investigacion a realizar   5  los candidatos seleccionados por agcid deberan: 1  viajar a chile- o encontrarse en el- con una anticipacion suficiente a la fecha de inicio del respectivo programa de estudio  se sugiere entre 3 y 5 dias antes del inicio de las clases  2  obtener- con la debida anticipacion- la visa respectiva para estar en chile en calidad de estudiante  3  obtener- con la debida anticipacion- los permisos correspondientes en la universidad de origen  4  presentarse personalmente en las oficinas de agcid para firmar el convenio que materializa la beca y entregar toda documentacion original requerida que fuese solicitada  5  suscribir una declaracion jurada que confirma haber leido el convenio que materializara la beca y entregar ese original    6  toda la documentacion requerida en esta convocatoria se debe presentar en fisico y en un (1) cd (rotulado con el nombre del postulante y ano de realizacion para la correspondiente oficializacion)- unicamente en los puntos de atencion de icetex a nivel nacional  en el cd- se deben incluir todos los documentos requeridos en esta convocatoria  los archivos deben adjuntarse de forma individual en formato pdf- es decir- por cada documento- un (1) archivo que no supere 15 megas  no presentar documentacion en carpeta ni con separadores- unicamente legajados en el lado izquierdo |\n",
            "+---------------------------------------------------------------------------------------------------------------------------------------------------------------------------------------------------------------------------------------------------------------------------------------------------------------------------------------------------------------------------------------------------------------------------------------------------------------------------------------------------------------------------------------------------------------------------------------------------------------------------------------------------------------------------------------------------------------------------------------------------------------------------------------------------------------------------------------------------------------------------------------------------------------------------------------------------------------------------------------------------------------------------------------------------------------------------------------------------------------------------------------------------------------------------------------------------------------------------------------------------------------------------------------------------------------------------------------------------------------------------------------------------------------------------------------------------------------------------------------------------------------------------------------------------------------------------------------------------------------------------------------------------------------------------------------------------------------------------------------------------------------------------------------------------------------------------------------------------------------------------------------------------------------------------------------------------------------------------------------------------------------------------------------------------------------------------------------------------------------------------------------------------------------------------------------------------------------------------------------------------------------------------------------------------------------------------------------------------------------------------------------------------------------------------------------------------------------------------------------------------------------------------------------------------------------------------------------------------------------------------------------------------------------------------------------------------------------------------------------------------------------------------------------------------------------------------------------------------------------------------------------------------------------------------------------------------------------------------------------------------------------------------------------------------------------------------------------------------------------------------------------------------------------------------------------------------------------------------------------------------------------------------------------------------------------------------------------------------------------------------------------------------------------+\n",
            "\n"
          ]
        }
      ]
    },
    {
      "cell_type": "markdown",
      "source": [
        "##### **Limpieza**"
      ],
      "metadata": {
        "id": "zQ3Wk8y-35Sj"
      }
    },
    {
      "cell_type": "code",
      "source": [
        "# Aplicar UDF\n",
        "\n",
        "df_cleaned = normalized_data.select(\"perfil_del_aplicante_norm\").withColumn(\"perfil_del_aplicante_limpio\",clean_text_udf(col(\"perfil_del_aplicante_norm\")))\n",
        "df_cleaned = df_cleaned.select(\"perfil_del_aplicante_limpio\")\n",
        "\n",
        "# Se muestra el texto limpio\n",
        "print(\"Texto limpio\")\n",
        "print(f\"--> {df_cleaned.collect()[0][0]}\")\n",
        "\n",
        "\n"
      ],
      "metadata": {
        "colab": {
          "base_uri": "https://localhost:8080/"
        },
        "id": "n87-d-evXoH_",
        "outputId": "d9a8dd13-23a4-48a6-cc00-2f76e97f8990"
      },
      "execution_count": null,
      "outputs": [
        {
          "output_type": "stream",
          "name": "stdout",
          "text": [
            "Texto limpio\n",
            "--> programa dirigido profesionales universitarios administracion economia derecho ciencias politicas areas directamente relacionadas tema curso desempenen entidades publicas privadas desarrollando actividades inherentes politicas gobierno abierto acceso datos publicos requisitos candidato debe ser mayor anos menor anos tener promedio minimo notas pregrado contar minimo anos experiencia profesional area programa gozar buena salud fisica mental\n"
          ]
        }
      ]
    },
    {
      "cell_type": "markdown",
      "source": [
        "##### **Tokenizacion**"
      ],
      "metadata": {
        "id": "ae2WGT6q5SLY"
      }
    },
    {
      "cell_type": "code",
      "source": [
        "df_tokenized = df_cleaned.withColumn(\"perfil_del_aplicante_tokens\", split(\"perfil_del_aplicante_limpio\", \" \"))\n",
        "# Mostrar resultados\n",
        "\n",
        "# Columna con datos originales\n",
        "print(\"Texto limpio\")\n",
        "print(f\"---> {df_tokenized.select('perfil_del_aplicante_limpio').collect()[0][0]}\")\n",
        "# Columna con datos normalizados\n",
        "print(\"Tokens\")\n",
        "print(f\"---> {df_tokenized.select('perfil_del_aplicante_tokens').collect()[1][0]}\")"
      ],
      "metadata": {
        "colab": {
          "base_uri": "https://localhost:8080/"
        },
        "id": "8BmyEXMK5U4x",
        "outputId": "dd6b8ef2-e9ff-4013-c4ed-718de96b5145"
      },
      "execution_count": null,
      "outputs": [
        {
          "output_type": "stream",
          "name": "stdout",
          "text": [
            "Texto limpio\n",
            "---> programa dirigido profesionales universitarios administracion economia derecho ciencias politicas areas directamente relacionadas tema curso desempenen entidades publicas privadas desarrollando actividades inherentes politicas gobierno abierto acceso datos publicos requisitos candidato debe ser mayor anos menor anos tener promedio minimo notas pregrado contar minimo anos experiencia profesional area programa gozar buena salud fisica mental\n",
            "Tokens\n",
            "---> ['programa', 'dirigido', 'profesionales', 'universitarios', 'maestria', 'profesores', 'investigadores', 'cuenten', 'admision', 'definitiva', 'nivel', 'estudios', 'vayan', 'adelantar', 'doctorado', 'investigacion', 'profesores', 'invitados', 'chile', 'siguientes', 'areas', 'negocios', 'finanzas', 'comercio', 'internacional', 'administracion', 'publica', 'ciencia', 'politica', 'turismo', 'economia', 'relaciones', 'internacionales', 'medio', 'ambiente', 'cambio', 'climatico', 'innovacion', 'ciencia', 'tecnologia', 'ingenierias', 'obtener', 'mayor', 'informacion', 'visite', 'httpwww', 'agci', 'clindex', 'phpbecasbecasparaextranjerosencuentratubecainfobecaextrtipoidnew', 'nota', 'excluyen', 'areas', 'distintas', 'senaladas', 'presente', 'convocatoria', 'requisitos', 'aspirante', 'debe', 'tener', 'promedio', 'notas', 'posgrado', 'deben', 'gozar', 'excelente', 'salud', 'fisica', 'mental', 'informacion', 'importante', 'duracion', 'minima', 'sera', 'tres', 'semanas', 'maximo', 'ano', 'academico', 'meses', 'movilidad', 'estudiantes', 'doctorado', 'investigadores', 'profesores', 'invitados', 'debera', 'realizar', 'base', 'calendario', 'aprobado', 'universidad', 'institucion', 'educacion', 'superior', 'receptora', 'cada', 'pais', 'estudiantes', 'doctorado', 'podran', 'realizar', 'beca', 'cursos', 'pasantias', 'cotutela', 'estancias', 'investigacion', 'marco', 'programa', 'postgrado', 'universidad', 'origen', 'docentes', 'podran', 'ocupar', 'beca', 'impartir', 'clases', 'profesor', 'invitado', 'ello', 'deberan', 'presentar', 'programa', 'trabajo', 'materias', 'dictaran', 'nivel', 'deberan', 'dar', 'menos', 'cuatro', 'horas', 'semana', 'si', 'programas', 'pregrado', 'menos', 'tres', 'horas', 'semana', 'si', 'clases', 'programas', 'postgrado', 'general', 'investigadores', 'podran', 'integrarse', 'equipos', 'investigacion', 'instituciones', 'academicas', 'destino', 'deberan', 'presentar', 'plan', 'trabajo', 'detalles', 'investigacion', 'realizar', 'candidatos', 'seleccionados', 'agcid', 'deberan', 'viajar', 'chile', 'encontrarse', 'anticipacion', 'suficiente', 'fecha', 'inicio', 'respectivo', 'programa', 'estudio', 'sugiere', 'dias', 'inicio', 'clases', 'obtener', 'debida', 'anticipacion', 'visa', 'respectiva', 'chile', 'calidad', 'estudiante', 'obtener', 'debida', 'anticipacion', 'permisos', 'correspondientes', 'universidad', 'origen', 'presentarse', 'personalmente', 'oficinas', 'agcid', 'firmar', 'convenio', 'materializa', 'beca', 'entregar', 'toda', 'documentacion', 'original', 'requerida', 'solicitada', 'suscribir', 'declaracion', 'jurada', 'confirma', 'haber', 'leido', 'convenio', 'materializara', 'beca', 'entregar', 'original', 'toda', 'documentacion', 'requerida', 'convocatoria', 'debe', 'presentar', 'fisico', 'cd', 'rotulado', 'nombre', 'postulante', 'ano', 'realizacion', 'correspondiente', 'oficializacion', 'unicamente', 'puntos', 'atencion', 'icetex', 'nivel', 'nacional', 'cd', 'deben', 'incluir', 'documentos', 'requeridos', 'convocatoria', 'archivos', 'deben', 'adjuntarse', 'forma', 'individual', 'formato', 'pdf', 'decir', 'cada', 'documento', 'archivo', 'supere', 'megas', 'presentar', 'documentacion', 'carpeta', 'separadores', 'unicamente', 'legajados', 'lado', 'izquierdo']\n"
          ]
        }
      ]
    },
    {
      "cell_type": "markdown",
      "source": [
        "### **Anexo 2**\n",
        "\n",
        "En esta parte se prueba la aplicación de las funciones anteriores relacionando las dos columnas de interes para aplicar el criterio de seleccion."
      ],
      "metadata": {
        "id": "gZ4W4kWTs6If"
      }
    },
    {
      "cell_type": "code",
      "source": [
        "primeros_dos_registros = icetex_becas.select(\"codigo_convocatoria\",\"perfil_del_aplicante\",\"objetivo_del_programa\").limit(2)\n",
        "primeros_dos_registros.show()"
      ],
      "metadata": {
        "colab": {
          "base_uri": "https://localhost:8080/"
        },
        "id": "TXgnle-0unRb",
        "outputId": "04524bb8-309b-4b6c-ed52-c4c595f91f0c"
      },
      "execution_count": null,
      "outputs": [
        {
          "output_type": "stream",
          "name": "stdout",
          "text": [
            "+-------------------+--------------------+---------------------+\n",
            "|codigo_convocatoria|perfil_del_aplicante|objetivo_del_programa|\n",
            "+-------------------+--------------------+---------------------+\n",
            "|          2127916.0|El programa está ...| a) Proporcionar a...|\n",
            "|          3101616.0|El programa está ...| El objetivo del P...|\n",
            "+-------------------+--------------------+---------------------+\n",
            "\n"
          ]
        }
      ]
    },
    {
      "cell_type": "code",
      "source": [
        "primeros_dos_registros.columns"
      ],
      "metadata": {
        "colab": {
          "base_uri": "https://localhost:8080/"
        },
        "id": "7TRGRomLwBYQ",
        "outputId": "98be3948-0532-47c3-dece-a272331a361f"
      },
      "execution_count": null,
      "outputs": [
        {
          "output_type": "execute_result",
          "data": {
            "text/plain": [
              "['perfil_del_aplicante', 'objetivo_del_programa']"
            ]
          },
          "metadata": {},
          "execution_count": 69
        }
      ]
    },
    {
      "cell_type": "markdown",
      "source": [
        "#### **Pruebas funciones**\n",
        "\n",
        "En esta parte se prueban las funciones empleando el par de columnas de interes con el fin de completar el procedimiento para determinar si el perfil del aplicante se relaciona con el objetivo de la convocatoria."
      ],
      "metadata": {
        "id": "vt1WReP_7-gN"
      }
    },
    {
      "cell_type": "markdown",
      "source": [
        "##### **Normalizacion**"
      ],
      "metadata": {
        "id": "jpPcc_x6_iQ-"
      }
    },
    {
      "cell_type": "code",
      "source": [
        "# Columnas dataframe inicial\n",
        "print(f\"Columnas DF inicial: {primeros_dos_registros.columns}\")\n",
        "# Aplicar la normalización\n",
        "normalized_data = primeros_dos_registros.withColumn(\"perfil_del_aplicante_norm\", normalize_udf(col(\"perfil_del_aplicante\")))\n",
        "normalized_data = normalized_data.withColumn(\"objetivo_del_programa_norm\", normalize_udf(col(\"objetivo_del_programa\")))\n",
        "# Columnas dataframe normalizado\n",
        "print(f\"Columnas DF normalizado: {normalized_data.columns}\")\n",
        "# Mostrar resultados del dataframe normalizado\n",
        "normalized_data = normalized_data.drop(\"perfil_del_aplicante\",\"objetivo_del_programa\")\n",
        "print(f\"Columnas DF normalizado despues de eliminar las columnas no normalizadas:{normalized_data.columns}\")\n",
        "print()\n",
        "# Despliegue de los resultados\n",
        "# Columna perfil_del_aplicante con datos normalizados\n",
        "normalized_data.select(\"perfil_del_aplicante_norm\").show(truncate=False)\n",
        "# Columna objetivo_del_programa_norm con datos normalizados\n",
        "normalized_data.select(\"objetivo_del_programa_norm\").show(truncate=False)"
      ],
      "metadata": {
        "id": "fO3bugbZ_nQp",
        "colab": {
          "base_uri": "https://localhost:8080/"
        },
        "outputId": "b06b05f8-d7e7-4647-9269-6949a5987eee"
      },
      "execution_count": null,
      "outputs": [
        {
          "output_type": "stream",
          "name": "stdout",
          "text": [
            "Columnas DF inicial: ['codigo_convocatoria', 'perfil_del_aplicante', 'objetivo_del_programa']\n",
            "Columnas DF normalizado: ['codigo_convocatoria', 'perfil_del_aplicante', 'objetivo_del_programa', 'perfil_del_aplicante_norm', 'objetivo_del_programa_norm']\n",
            "Columnas DF normalizado despues de eliminar las columnas no normalizadas:['codigo_convocatoria', 'perfil_del_aplicante_norm', 'objetivo_del_programa_norm']\n",
            "\n",
            "+---------------------------------------------------------------------------------------------------------------------------------------------------------------------------------------------------------------------------------------------------------------------------------------------------------------------------------------------------------------------------------------------------------------------------------------------------------------------------------------------------------------------------------------------------------------------------------------------------------------------------------------------------------------------------------------------------------------------------------------------------------------------------------------------------------------------------------------------------------------------------------------------------------------------------------------------------------------------------------------------------------------------------------------------------------------------------------------------------------------------------------------------------------------------------------------------------------------------------------------------------------------------------------------------------------------------------------------------------------------------------------------------------------------------------------------------------------------------------------------------------------------------------------------------------------------------------------------------------------------------------------------------------------------------------------------------------------------------------------------------------------------------------------------------------------------------------------------------------------------------------------------------------------------------------------------------------------------------------------------------------------------------------------------------------------------------------------------------------------------------------------------------------------------------------------------------------------------------------------------------------------------------------------------------------------------------------------------------------------------------------------------------------------------------------------------------------------------------------------------------------------------------------------------------------------------------------------------------------------------------------------------------------------------------------------------------------------------------------------------------------------------------------------------------------------------------------------------------------------------------------------------------------------------------------------------------------------------------------------------------------------------------------------------------------------------------------------------------------------------------------------------------------------------------------------------------------------------------------------------------------------------------------------------------------------------------------------------------------------------------------------------------------------------+\n",
            "|perfil_del_aplicante_norm                                                                                                                                                                                                                                                                                                                                                                                                                                                                                                                                                                                                                                                                                                                                                                                                                                                                                                                                                                                                                                                                                                                                                                                                                                                                                                                                                                                                                                                                                                                                                                                                                                                                                                                                                                                                                                                                                                                                                                                                                                                                                                                                                                                                                                                                                                                                                                                                                                                                                                                                                                                                                                                                                                                                                                                                                                                                                                                                                                                                                                                                                                                                                                                                                                                                                                                                                                                      |\n",
            "+---------------------------------------------------------------------------------------------------------------------------------------------------------------------------------------------------------------------------------------------------------------------------------------------------------------------------------------------------------------------------------------------------------------------------------------------------------------------------------------------------------------------------------------------------------------------------------------------------------------------------------------------------------------------------------------------------------------------------------------------------------------------------------------------------------------------------------------------------------------------------------------------------------------------------------------------------------------------------------------------------------------------------------------------------------------------------------------------------------------------------------------------------------------------------------------------------------------------------------------------------------------------------------------------------------------------------------------------------------------------------------------------------------------------------------------------------------------------------------------------------------------------------------------------------------------------------------------------------------------------------------------------------------------------------------------------------------------------------------------------------------------------------------------------------------------------------------------------------------------------------------------------------------------------------------------------------------------------------------------------------------------------------------------------------------------------------------------------------------------------------------------------------------------------------------------------------------------------------------------------------------------------------------------------------------------------------------------------------------------------------------------------------------------------------------------------------------------------------------------------------------------------------------------------------------------------------------------------------------------------------------------------------------------------------------------------------------------------------------------------------------------------------------------------------------------------------------------------------------------------------------------------------------------------------------------------------------------------------------------------------------------------------------------------------------------------------------------------------------------------------------------------------------------------------------------------------------------------------------------------------------------------------------------------------------------------------------------------------------------------------------------------------------------+\n",
            "|el programa esta dirigido a profesionales universitarios en administracion- economia- derecho- ciencias politicas o en areas directamente relacionadas con el tema del curso que se desempenen en entidades publicas o privadas- desarrollando actividades inherentes a las politicas de gobierno abierto y acceso a datos publicos  requisitos: el candidato debe ser mayor de 23 anos y menor de 65 anos- tener un promedio minimo de notas de pregrado de 3-7/5-0  contar con minimo 2 anos de experiencia profesional en el area del programa y gozar de buena salud fisica y mental                                                                                                                                                                                                                                                                                                                                                                                                                                                                                                                                                                                                                                                                                                                                                                                                                                                                                                                                                                                                                                                                                                                                                                                                                                                                                                                                                                                                                                                                                                                                                                                                                                                                                                                                                                                                                                                                                                                                                                                                                                                                                                                                                                                                                                                                                                                                                                                                                                                                                                                                                                                                                                                                                                                                                                                                                       |\n",
            "|el programa esta dirigido a profesionales universitarios con maestria o a profesores o investigadores que cuenten con admision definitiva al nivel de estudios que vayan a adelantar (doctorado- investigacion o profesores invitados) en chile- en las siguientes areas:  1  negocios  2  finanzas  3  comercio internacional  4  administracion publica  5  ciencia politica  6  turismo  7  economia  8  relaciones internacionales  9  medio ambiente y cambio climatico  10  innovacion- ciencia y tecnologia  11  ingenierias    - para obtener mayor informacion- visite: http://www agci cl/index php/becas/becas-para-extranjeros/105-encuentra-tu-beca/1522-infobecaextr/?tipo=2&idnew=119   nota: se excluyen areas distintas a las senaladas en la presente convocatoria   requisitos: el aspirante debe tener un promedio de notas de posgrado de 4-0/5-0 y deben gozar de excelente salud fisica y mental   informacion importante:   1  la duracion minima sera de tres semanas y maximo de un ano academico (10 meses)- la movilidad en estudiantes de doctorado- investigadores y profesores invitados se debera realizar con base en el calendario aprobado por la universidad o institucion de educacion superior receptora de cada pais   2  los estudiantes de doctorado podran realizar con esta beca: cursos- pasantias de co-tutela- estancias de investigacion en el marco de su programa de postgrado en la universidad de origen    3  los docentes podran ocupar esta beca para impartir clases como profesor invitado- para ello deberan presentar un programa de trabajo con las materias que dictaran- el nivel y deberan dar al menos cuatro (4) horas a la semana si son programas de pregrado y al menos tres (3) horas a la semana si son clases en programas de postgrado en general    4  los investigadores podran integrarse a equipos de investigacion en las instituciones academicas de destino y deberan presentar un plan de trabajo con los detalles de la investigacion a realizar   5  los candidatos seleccionados por agcid deberan: 1  viajar a chile- o encontrarse en el- con una anticipacion suficiente a la fecha de inicio del respectivo programa de estudio  se sugiere entre 3 y 5 dias antes del inicio de las clases  2  obtener- con la debida anticipacion- la visa respectiva para estar en chile en calidad de estudiante  3  obtener- con la debida anticipacion- los permisos correspondientes en la universidad de origen  4  presentarse personalmente en las oficinas de agcid para firmar el convenio que materializa la beca y entregar toda documentacion original requerida que fuese solicitada  5  suscribir una declaracion jurada que confirma haber leido el convenio que materializara la beca y entregar ese original    6  toda la documentacion requerida en esta convocatoria se debe presentar en fisico y en un (1) cd (rotulado con el nombre del postulante y ano de realizacion para la correspondiente oficializacion)- unicamente en los puntos de atencion de icetex a nivel nacional  en el cd- se deben incluir todos los documentos requeridos en esta convocatoria  los archivos deben adjuntarse de forma individual en formato pdf- es decir- por cada documento- un (1) archivo que no supere 15 megas  no presentar documentacion en carpeta ni con separadores- unicamente legajados en el lado izquierdo |\n",
            "+---------------------------------------------------------------------------------------------------------------------------------------------------------------------------------------------------------------------------------------------------------------------------------------------------------------------------------------------------------------------------------------------------------------------------------------------------------------------------------------------------------------------------------------------------------------------------------------------------------------------------------------------------------------------------------------------------------------------------------------------------------------------------------------------------------------------------------------------------------------------------------------------------------------------------------------------------------------------------------------------------------------------------------------------------------------------------------------------------------------------------------------------------------------------------------------------------------------------------------------------------------------------------------------------------------------------------------------------------------------------------------------------------------------------------------------------------------------------------------------------------------------------------------------------------------------------------------------------------------------------------------------------------------------------------------------------------------------------------------------------------------------------------------------------------------------------------------------------------------------------------------------------------------------------------------------------------------------------------------------------------------------------------------------------------------------------------------------------------------------------------------------------------------------------------------------------------------------------------------------------------------------------------------------------------------------------------------------------------------------------------------------------------------------------------------------------------------------------------------------------------------------------------------------------------------------------------------------------------------------------------------------------------------------------------------------------------------------------------------------------------------------------------------------------------------------------------------------------------------------------------------------------------------------------------------------------------------------------------------------------------------------------------------------------------------------------------------------------------------------------------------------------------------------------------------------------------------------------------------------------------------------------------------------------------------------------------------------------------------------------------------------------------------------+\n",
            "\n",
            "+----------------------------------------------------------------------------------------------------------------------------------------------------------------------------------------------------------------------------------------------------------------------------------------------------------------------------------------------------+\n",
            "|objetivo_del_programa_norm                                                                                                                                                                                                                                                                                                                          |\n",
            "+----------------------------------------------------------------------------------------------------------------------------------------------------------------------------------------------------------------------------------------------------------------------------------------------------------------------------------------------------+\n",
            "|a) proporcionar a los participantes un panorama actualizado del concepto de gobierno abierto b) analizar las principales tendencias con un abordaje teorico y practico c) desarrollar y compartir conocimientos y habilidades sobre el impacto que pueden tener la implementacion de politicas de transparencia en nuestros paises                  |\n",
            "|el objetivo del programa de becas de movilidad estudiantil y academica de la alianza del pacifico es contribuir a la formacion de capital humano avanzado de los nacionales de los paises miembros de la alianza del pacifico a traves del intercambio academico de estudiantes de doctorado- profesores o investigadores en universidades chilenas |\n",
            "+----------------------------------------------------------------------------------------------------------------------------------------------------------------------------------------------------------------------------------------------------------------------------------------------------------------------------------------------------+\n",
            "\n"
          ]
        }
      ]
    },
    {
      "cell_type": "code",
      "source": [
        "# Inspeccion resultado final\n",
        "print(f\"Columnas DF normalizado:{normalized_data.columns}\")\n",
        "print()\n",
        "normalized_data.show(truncate=False)\n"
      ],
      "metadata": {
        "colab": {
          "base_uri": "https://localhost:8080/"
        },
        "id": "80XFhjgn7_Cx",
        "outputId": "597ad391-3eaa-440a-9461-6a4dc980724d"
      },
      "execution_count": null,
      "outputs": [
        {
          "output_type": "stream",
          "name": "stdout",
          "text": [
            "Columnas DF normalizado:['codigo_convocatoria', 'perfil_del_aplicante_norm', 'objetivo_del_programa_norm']\n",
            "\n",
            "+-------------------+---------------------------------------------------------------------------------------------------------------------------------------------------------------------------------------------------------------------------------------------------------------------------------------------------------------------------------------------------------------------------------------------------------------------------------------------------------------------------------------------------------------------------------------------------------------------------------------------------------------------------------------------------------------------------------------------------------------------------------------------------------------------------------------------------------------------------------------------------------------------------------------------------------------------------------------------------------------------------------------------------------------------------------------------------------------------------------------------------------------------------------------------------------------------------------------------------------------------------------------------------------------------------------------------------------------------------------------------------------------------------------------------------------------------------------------------------------------------------------------------------------------------------------------------------------------------------------------------------------------------------------------------------------------------------------------------------------------------------------------------------------------------------------------------------------------------------------------------------------------------------------------------------------------------------------------------------------------------------------------------------------------------------------------------------------------------------------------------------------------------------------------------------------------------------------------------------------------------------------------------------------------------------------------------------------------------------------------------------------------------------------------------------------------------------------------------------------------------------------------------------------------------------------------------------------------------------------------------------------------------------------------------------------------------------------------------------------------------------------------------------------------------------------------------------------------------------------------------------------------------------------------------------------------------------------------------------------------------------------------------------------------------------------------------------------------------------------------------------------------------------------------------------------------------------------------------------------------------------------------------------------------------------------------------------------------------------------------------------------------------------------------------------------------+----------------------------------------------------------------------------------------------------------------------------------------------------------------------------------------------------------------------------------------------------------------------------------------------------------------------------------------------------+\n",
            "|codigo_convocatoria|perfil_del_aplicante_norm                                                                                                                                                                                                                                                                                                                                                                                                                                                                                                                                                                                                                                                                                                                                                                                                                                                                                                                                                                                                                                                                                                                                                                                                                                                                                                                                                                                                                                                                                                                                                                                                                                                                                                                                                                                                                                                                                                                                                                                                                                                                                                                                                                                                                                                                                                                                                                                                                                                                                                                                                                                                                                                                                                                                                                                                                                                                                                                                                                                                                                                                                                                                                                                                                                                                                                                                                                                      |objetivo_del_programa_norm                                                                                                                                                                                                                                                                                                                          |\n",
            "+-------------------+---------------------------------------------------------------------------------------------------------------------------------------------------------------------------------------------------------------------------------------------------------------------------------------------------------------------------------------------------------------------------------------------------------------------------------------------------------------------------------------------------------------------------------------------------------------------------------------------------------------------------------------------------------------------------------------------------------------------------------------------------------------------------------------------------------------------------------------------------------------------------------------------------------------------------------------------------------------------------------------------------------------------------------------------------------------------------------------------------------------------------------------------------------------------------------------------------------------------------------------------------------------------------------------------------------------------------------------------------------------------------------------------------------------------------------------------------------------------------------------------------------------------------------------------------------------------------------------------------------------------------------------------------------------------------------------------------------------------------------------------------------------------------------------------------------------------------------------------------------------------------------------------------------------------------------------------------------------------------------------------------------------------------------------------------------------------------------------------------------------------------------------------------------------------------------------------------------------------------------------------------------------------------------------------------------------------------------------------------------------------------------------------------------------------------------------------------------------------------------------------------------------------------------------------------------------------------------------------------------------------------------------------------------------------------------------------------------------------------------------------------------------------------------------------------------------------------------------------------------------------------------------------------------------------------------------------------------------------------------------------------------------------------------------------------------------------------------------------------------------------------------------------------------------------------------------------------------------------------------------------------------------------------------------------------------------------------------------------------------------------------------------------------------------+----------------------------------------------------------------------------------------------------------------------------------------------------------------------------------------------------------------------------------------------------------------------------------------------------------------------------------------------------+\n",
            "|2127916.0          |el programa esta dirigido a profesionales universitarios en administracion- economia- derecho- ciencias politicas o en areas directamente relacionadas con el tema del curso que se desempenen en entidades publicas o privadas- desarrollando actividades inherentes a las politicas de gobierno abierto y acceso a datos publicos  requisitos: el candidato debe ser mayor de 23 anos y menor de 65 anos- tener un promedio minimo de notas de pregrado de 3-7/5-0  contar con minimo 2 anos de experiencia profesional en el area del programa y gozar de buena salud fisica y mental                                                                                                                                                                                                                                                                                                                                                                                                                                                                                                                                                                                                                                                                                                                                                                                                                                                                                                                                                                                                                                                                                                                                                                                                                                                                                                                                                                                                                                                                                                                                                                                                                                                                                                                                                                                                                                                                                                                                                                                                                                                                                                                                                                                                                                                                                                                                                                                                                                                                                                                                                                                                                                                                                                                                                                                                                       |a) proporcionar a los participantes un panorama actualizado del concepto de gobierno abierto b) analizar las principales tendencias con un abordaje teorico y practico c) desarrollar y compartir conocimientos y habilidades sobre el impacto que pueden tener la implementacion de politicas de transparencia en nuestros paises                  |\n",
            "|3101616.0          |el programa esta dirigido a profesionales universitarios con maestria o a profesores o investigadores que cuenten con admision definitiva al nivel de estudios que vayan a adelantar (doctorado- investigacion o profesores invitados) en chile- en las siguientes areas:  1  negocios  2  finanzas  3  comercio internacional  4  administracion publica  5  ciencia politica  6  turismo  7  economia  8  relaciones internacionales  9  medio ambiente y cambio climatico  10  innovacion- ciencia y tecnologia  11  ingenierias    - para obtener mayor informacion- visite: http://www agci cl/index php/becas/becas-para-extranjeros/105-encuentra-tu-beca/1522-infobecaextr/?tipo=2&idnew=119   nota: se excluyen areas distintas a las senaladas en la presente convocatoria   requisitos: el aspirante debe tener un promedio de notas de posgrado de 4-0/5-0 y deben gozar de excelente salud fisica y mental   informacion importante:   1  la duracion minima sera de tres semanas y maximo de un ano academico (10 meses)- la movilidad en estudiantes de doctorado- investigadores y profesores invitados se debera realizar con base en el calendario aprobado por la universidad o institucion de educacion superior receptora de cada pais   2  los estudiantes de doctorado podran realizar con esta beca: cursos- pasantias de co-tutela- estancias de investigacion en el marco de su programa de postgrado en la universidad de origen    3  los docentes podran ocupar esta beca para impartir clases como profesor invitado- para ello deberan presentar un programa de trabajo con las materias que dictaran- el nivel y deberan dar al menos cuatro (4) horas a la semana si son programas de pregrado y al menos tres (3) horas a la semana si son clases en programas de postgrado en general    4  los investigadores podran integrarse a equipos de investigacion en las instituciones academicas de destino y deberan presentar un plan de trabajo con los detalles de la investigacion a realizar   5  los candidatos seleccionados por agcid deberan: 1  viajar a chile- o encontrarse en el- con una anticipacion suficiente a la fecha de inicio del respectivo programa de estudio  se sugiere entre 3 y 5 dias antes del inicio de las clases  2  obtener- con la debida anticipacion- la visa respectiva para estar en chile en calidad de estudiante  3  obtener- con la debida anticipacion- los permisos correspondientes en la universidad de origen  4  presentarse personalmente en las oficinas de agcid para firmar el convenio que materializa la beca y entregar toda documentacion original requerida que fuese solicitada  5  suscribir una declaracion jurada que confirma haber leido el convenio que materializara la beca y entregar ese original    6  toda la documentacion requerida en esta convocatoria se debe presentar en fisico y en un (1) cd (rotulado con el nombre del postulante y ano de realizacion para la correspondiente oficializacion)- unicamente en los puntos de atencion de icetex a nivel nacional  en el cd- se deben incluir todos los documentos requeridos en esta convocatoria  los archivos deben adjuntarse de forma individual en formato pdf- es decir- por cada documento- un (1) archivo que no supere 15 megas  no presentar documentacion en carpeta ni con separadores- unicamente legajados en el lado izquierdo |el objetivo del programa de becas de movilidad estudiantil y academica de la alianza del pacifico es contribuir a la formacion de capital humano avanzado de los nacionales de los paises miembros de la alianza del pacifico a traves del intercambio academico de estudiantes de doctorado- profesores o investigadores en universidades chilenas |\n",
            "+-------------------+---------------------------------------------------------------------------------------------------------------------------------------------------------------------------------------------------------------------------------------------------------------------------------------------------------------------------------------------------------------------------------------------------------------------------------------------------------------------------------------------------------------------------------------------------------------------------------------------------------------------------------------------------------------------------------------------------------------------------------------------------------------------------------------------------------------------------------------------------------------------------------------------------------------------------------------------------------------------------------------------------------------------------------------------------------------------------------------------------------------------------------------------------------------------------------------------------------------------------------------------------------------------------------------------------------------------------------------------------------------------------------------------------------------------------------------------------------------------------------------------------------------------------------------------------------------------------------------------------------------------------------------------------------------------------------------------------------------------------------------------------------------------------------------------------------------------------------------------------------------------------------------------------------------------------------------------------------------------------------------------------------------------------------------------------------------------------------------------------------------------------------------------------------------------------------------------------------------------------------------------------------------------------------------------------------------------------------------------------------------------------------------------------------------------------------------------------------------------------------------------------------------------------------------------------------------------------------------------------------------------------------------------------------------------------------------------------------------------------------------------------------------------------------------------------------------------------------------------------------------------------------------------------------------------------------------------------------------------------------------------------------------------------------------------------------------------------------------------------------------------------------------------------------------------------------------------------------------------------------------------------------------------------------------------------------------------------------------------------------------------------------------------------------------+----------------------------------------------------------------------------------------------------------------------------------------------------------------------------------------------------------------------------------------------------------------------------------------------------------------------------------------------------+\n",
            "\n"
          ]
        }
      ]
    },
    {
      "cell_type": "markdown",
      "source": [
        "##### **Limpieza**"
      ],
      "metadata": {
        "id": "VwxgMvtwEVN1"
      }
    },
    {
      "cell_type": "code",
      "source": [
        "# ---- Quitar stopwords ----\n",
        "\n",
        "# Se agregan dos columnas con los resultados de quitar las stopwords\n",
        "clean_data = normalized_data.withColumn(\"perfil_del_aplicante_limpio\",clean_text_udf(col(\"perfil_del_aplicante_norm\")))\n",
        "clean_data = clean_data.withColumn(\"objetivo_del_programa_limpio\",clean_text_udf(col(\"objetivo_del_programa_norm\")))\n",
        "print(f\"Columnas DF limpio (con las columnas iniciales): {clean_data.columns}\")\n",
        "# Se quitan las dos columnas iniciales normalizadas\n",
        "clean_data = clean_data.drop(\"perfil_del_aplicante_norm\",\"objetivo_del_programa_norm\")\n",
        "print(f\"Columnas DF limpio: {clean_data.columns}\")\n",
        "print()\n",
        "# Se muestran los resultados\n",
        "clean_data.show(truncate=False)"
      ],
      "metadata": {
        "colab": {
          "base_uri": "https://localhost:8080/"
        },
        "id": "qUaRFfNX8hr0",
        "outputId": "4d9089a2-05e7-4ae5-9032-6507714ec268"
      },
      "execution_count": null,
      "outputs": [
        {
          "output_type": "stream",
          "name": "stdout",
          "text": [
            "Columnas DF limpio (con las columnas iniciales): ['codigo_convocatoria', 'perfil_del_aplicante_norm', 'objetivo_del_programa_norm', 'perfil_del_aplicante_limpio', 'objetivo_del_programa_limpio']\n",
            "Columnas DF limpio: ['codigo_convocatoria', 'perfil_del_aplicante_limpio', 'objetivo_del_programa_limpio']\n",
            "\n",
            "+-------------------+-----------------------------------------------------------------------------------------------------------------------------------------------------------------------------------------------------------------------------------------------------------------------------------------------------------------------------------------------------------------------------------------------------------------------------------------------------------------------------------------------------------------------------------------------------------------------------------------------------------------------------------------------------------------------------------------------------------------------------------------------------------------------------------------------------------------------------------------------------------------------------------------------------------------------------------------------------------------------------------------------------------------------------------------------------------------------------------------------------------------------------------------------------------------------------------------------------------------------------------------------------------------------------------------------------------------------------------------------------------------------------------------------------------------------------------------------------------------------------------------------------------------------------------------------------------------------------------------------------------------------------------------------------------------------------------------------------------------------------------------------------------------------------------------------------------------------------------------------------------------------------------------------------------------------------------------------------------------------------------------------------------------------------------------------------------------------------------------------------------------------------------------------------------------------------------------------------------------------------------------------------------------------------------------------------------------------------------------------------------------------------------------------------------------------------------------------------------------------------------------------------------------------+---------------------------------------------------------------------------------------------------------------------------------------------------------------------------------------------------------------------------------------------------------------------+\n",
            "|codigo_convocatoria|perfil_del_aplicante_limpio                                                                                                                                                                                                                                                                                                                                                                                                                                                                                                                                                                                                                                                                                                                                                                                                                                                                                                                                                                                                                                                                                                                                                                                                                                                                                                                                                                                                                                                                                                                                                                                                                                                                                                                                                                                                                                                                                                                                                                                                                                                                                                                                                                                                                                                                                                                                                                                                                                                                                            |objetivo_del_programa_limpio                                                                                                                                                                                                                                         |\n",
            "+-------------------+-----------------------------------------------------------------------------------------------------------------------------------------------------------------------------------------------------------------------------------------------------------------------------------------------------------------------------------------------------------------------------------------------------------------------------------------------------------------------------------------------------------------------------------------------------------------------------------------------------------------------------------------------------------------------------------------------------------------------------------------------------------------------------------------------------------------------------------------------------------------------------------------------------------------------------------------------------------------------------------------------------------------------------------------------------------------------------------------------------------------------------------------------------------------------------------------------------------------------------------------------------------------------------------------------------------------------------------------------------------------------------------------------------------------------------------------------------------------------------------------------------------------------------------------------------------------------------------------------------------------------------------------------------------------------------------------------------------------------------------------------------------------------------------------------------------------------------------------------------------------------------------------------------------------------------------------------------------------------------------------------------------------------------------------------------------------------------------------------------------------------------------------------------------------------------------------------------------------------------------------------------------------------------------------------------------------------------------------------------------------------------------------------------------------------------------------------------------------------------------------------------------------------+---------------------------------------------------------------------------------------------------------------------------------------------------------------------------------------------------------------------------------------------------------------------+\n",
            "|2127916.0          |programa dirigido profesionales universitarios administracion economia derecho ciencias politicas areas directamente relacionadas tema curso desempenen entidades publicas privadas desarrollando actividades inherentes politicas gobierno abierto acceso datos publicos requisitos candidato debe ser mayor anos menor anos tener promedio minimo notas pregrado contar minimo anos experiencia profesional area programa gozar buena salud fisica mental                                                                                                                                                                                                                                                                                                                                                                                                                                                                                                                                                                                                                                                                                                                                                                                                                                                                                                                                                                                                                                                                                                                                                                                                                                                                                                                                                                                                                                                                                                                                                                                                                                                                                                                                                                                                                                                                                                                                                                                                                                                            |proporcionar participantes panorama actualizado concepto gobierno abierto b analizar principales tendencias abordaje teorico practico c desarrollar compartir conocimientos habilidades impacto pueden tener implementacion politicas transparencia paises           |\n",
            "|3101616.0          |programa dirigido profesionales universitarios maestria profesores investigadores cuenten admision definitiva nivel estudios vayan adelantar doctorado investigacion profesores invitados chile siguientes areas negocios finanzas comercio internacional administracion publica ciencia politica turismo economia relaciones internacionales medio ambiente cambio climatico innovacion ciencia tecnologia ingenierias obtener mayor informacion visite httpwww agci clindex phpbecasbecasparaextranjerosencuentratubecainfobecaextrtipoidnew nota excluyen areas distintas senaladas presente convocatoria requisitos aspirante debe tener promedio notas posgrado deben gozar excelente salud fisica mental informacion importante duracion minima sera tres semanas maximo ano academico meses movilidad estudiantes doctorado investigadores profesores invitados debera realizar base calendario aprobado universidad institucion educacion superior receptora cada pais estudiantes doctorado podran realizar beca cursos pasantias cotutela estancias investigacion marco programa postgrado universidad origen docentes podran ocupar beca impartir clases profesor invitado ello deberan presentar programa trabajo materias dictaran nivel deberan dar menos cuatro horas semana si programas pregrado menos tres horas semana si clases programas postgrado general investigadores podran integrarse equipos investigacion instituciones academicas destino deberan presentar plan trabajo detalles investigacion realizar candidatos seleccionados agcid deberan viajar chile encontrarse anticipacion suficiente fecha inicio respectivo programa estudio sugiere dias inicio clases obtener debida anticipacion visa respectiva chile calidad estudiante obtener debida anticipacion permisos correspondientes universidad origen presentarse personalmente oficinas agcid firmar convenio materializa beca entregar toda documentacion original requerida solicitada suscribir declaracion jurada confirma haber leido convenio materializara beca entregar original toda documentacion requerida convocatoria debe presentar fisico cd rotulado nombre postulante ano realizacion correspondiente oficializacion unicamente puntos atencion icetex nivel nacional cd deben incluir documentos requeridos convocatoria archivos deben adjuntarse forma individual formato pdf decir cada documento archivo supere megas presentar documentacion carpeta separadores unicamente legajados lado izquierdo|objetivo programa becas movilidad estudiantil academica alianza pacifico contribuir formacion capital humano avanzado nacionales paises miembros alianza pacifico traves intercambio academico estudiantes doctorado profesores investigadores universidades chilenas|\n",
            "+-------------------+-----------------------------------------------------------------------------------------------------------------------------------------------------------------------------------------------------------------------------------------------------------------------------------------------------------------------------------------------------------------------------------------------------------------------------------------------------------------------------------------------------------------------------------------------------------------------------------------------------------------------------------------------------------------------------------------------------------------------------------------------------------------------------------------------------------------------------------------------------------------------------------------------------------------------------------------------------------------------------------------------------------------------------------------------------------------------------------------------------------------------------------------------------------------------------------------------------------------------------------------------------------------------------------------------------------------------------------------------------------------------------------------------------------------------------------------------------------------------------------------------------------------------------------------------------------------------------------------------------------------------------------------------------------------------------------------------------------------------------------------------------------------------------------------------------------------------------------------------------------------------------------------------------------------------------------------------------------------------------------------------------------------------------------------------------------------------------------------------------------------------------------------------------------------------------------------------------------------------------------------------------------------------------------------------------------------------------------------------------------------------------------------------------------------------------------------------------------------------------------------------------------------------+---------------------------------------------------------------------------------------------------------------------------------------------------------------------------------------------------------------------------------------------------------------------+\n",
            "\n"
          ]
        }
      ]
    },
    {
      "cell_type": "markdown",
      "source": [
        "##### **Tokenizacion**"
      ],
      "metadata": {
        "id": "ZH6Q8bg6Eqwq"
      }
    },
    {
      "cell_type": "code",
      "source": [
        "# Se agregan dos columnas con los tokens\n",
        "tokenized_data = clean_data.withColumn(\"perfil_del_aplicante_tokens\", split(\"perfil_del_aplicante_limpio\", \" \"))\n",
        "tokenized_data = tokenized_data.withColumn(\"objetivo_del_programa_tokens\", split(\"objetivo_del_programa_limpio\", \" \"))\n",
        "print(f\"Columnas DF tokenizado: {tokenized_data.columns}\")\n",
        "# Se quitan las dos columnas iniciales limpias\n",
        "tokenized_data = tokenized_data.drop(\"perfil_del_aplicante_limpio\",\"objetivo_del_programa_limpio\")\n",
        "print(f\"Columnas DF tokenizado: {tokenized_data.columns}\")\n",
        "print()\n",
        "# Se muestran los resultados\n",
        "tokenized_data.show(truncate=False)"
      ],
      "metadata": {
        "colab": {
          "base_uri": "https://localhost:8080/"
        },
        "id": "DtbVdbwP_xwm",
        "outputId": "18888fa7-50cf-4796-b18b-ccee0f611c88"
      },
      "execution_count": null,
      "outputs": [
        {
          "output_type": "stream",
          "name": "stdout",
          "text": [
            "Columnas DF tokenizado: ['codigo_convocatoria', 'perfil_del_aplicante_limpio', 'objetivo_del_programa_limpio', 'perfil_del_aplicante_tokens', 'objetivo_del_programa_tokens']\n",
            "Columnas DF tokenizado: ['codigo_convocatoria', 'perfil_del_aplicante_tokens', 'objetivo_del_programa_tokens']\n",
            "\n",
            "+-------------------+----------------------------------------------------------------------------------------------------------------------------------------------------------------------------------------------------------------------------------------------------------------------------------------------------------------------------------------------------------------------------------------------------------------------------------------------------------------------------------------------------------------------------------------------------------------------------------------------------------------------------------------------------------------------------------------------------------------------------------------------------------------------------------------------------------------------------------------------------------------------------------------------------------------------------------------------------------------------------------------------------------------------------------------------------------------------------------------------------------------------------------------------------------------------------------------------------------------------------------------------------------------------------------------------------------------------------------------------------------------------------------------------------------------------------------------------------------------------------------------------------------------------------------------------------------------------------------------------------------------------------------------------------------------------------------------------------------------------------------------------------------------------------------------------------------------------------------------------------------------------------------------------------------------------------------------------------------------------------------------------------------------------------------------------------------------------------------------------------------------------------------------------------------------------------------------------------------------------------------------------------------------------------------------------------------------------------------------------------------------------------------------------------------------------------------------------------------------------------------------------------------------------------------------------------------------------------------------------------------------------------------------------------------------------------------------------------------------------------------------------------------------------------------------------------+-------------------------------------------------------------------------------------------------------------------------------------------------------------------------------------------------------------------------------------------------------------------------------------------------+\n",
            "|codigo_convocatoria|perfil_del_aplicante_tokens                                                                                                                                                                                                                                                                                                                                                                                                                                                                                                                                                                                                                                                                                                                                                                                                                                                                                                                                                                                                                                                                                                                                                                                                                                                                                                                                                                                                                                                                                                                                                                                                                                                                                                                                                                                                                                                                                                                                                                                                                                                                                                                                                                                                                                                                                                                                                                                                                                                                                                                                                                                                                                                                                                                                                                         |objetivo_del_programa_tokens                                                                                                                                                                                                                                                                     |\n",
            "+-------------------+----------------------------------------------------------------------------------------------------------------------------------------------------------------------------------------------------------------------------------------------------------------------------------------------------------------------------------------------------------------------------------------------------------------------------------------------------------------------------------------------------------------------------------------------------------------------------------------------------------------------------------------------------------------------------------------------------------------------------------------------------------------------------------------------------------------------------------------------------------------------------------------------------------------------------------------------------------------------------------------------------------------------------------------------------------------------------------------------------------------------------------------------------------------------------------------------------------------------------------------------------------------------------------------------------------------------------------------------------------------------------------------------------------------------------------------------------------------------------------------------------------------------------------------------------------------------------------------------------------------------------------------------------------------------------------------------------------------------------------------------------------------------------------------------------------------------------------------------------------------------------------------------------------------------------------------------------------------------------------------------------------------------------------------------------------------------------------------------------------------------------------------------------------------------------------------------------------------------------------------------------------------------------------------------------------------------------------------------------------------------------------------------------------------------------------------------------------------------------------------------------------------------------------------------------------------------------------------------------------------------------------------------------------------------------------------------------------------------------------------------------------------------------------------------------+-------------------------------------------------------------------------------------------------------------------------------------------------------------------------------------------------------------------------------------------------------------------------------------------------+\n",
            "|2127916.0          |[programa, dirigido, profesionales, universitarios, administracion, economia, derecho, ciencias, politicas, areas, directamente, relacionadas, tema, curso, desempenen, entidades, publicas, privadas, desarrollando, actividades, inherentes, politicas, gobierno, abierto, acceso, datos, publicos, requisitos, candidato, debe, ser, mayor, anos, menor, anos, tener, promedio, minimo, notas, pregrado, contar, minimo, anos, experiencia, profesional, area, programa, gozar, buena, salud, fisica, mental]                                                                                                                                                                                                                                                                                                                                                                                                                                                                                                                                                                                                                                                                                                                                                                                                                                                                                                                                                                                                                                                                                                                                                                                                                                                                                                                                                                                                                                                                                                                                                                                                                                                                                                                                                                                                                                                                                                                                                                                                                                                                                                                                                                                                                                                                                    |[proporcionar, participantes, panorama, actualizado, concepto, gobierno, abierto, b, analizar, principales, tendencias, abordaje, teorico, practico, c, desarrollar, compartir, conocimientos, habilidades, impacto, pueden, tener, implementacion, politicas, transparencia, paises]            |\n",
            "|3101616.0          |[programa, dirigido, profesionales, universitarios, maestria, profesores, investigadores, cuenten, admision, definitiva, nivel, estudios, vayan, adelantar, doctorado, investigacion, profesores, invitados, chile, siguientes, areas, negocios, finanzas, comercio, internacional, administracion, publica, ciencia, politica, turismo, economia, relaciones, internacionales, medio, ambiente, cambio, climatico, innovacion, ciencia, tecnologia, ingenierias, obtener, mayor, informacion, visite, httpwww, agci, clindex, phpbecasbecasparaextranjerosencuentratubecainfobecaextrtipoidnew, nota, excluyen, areas, distintas, senaladas, presente, convocatoria, requisitos, aspirante, debe, tener, promedio, notas, posgrado, deben, gozar, excelente, salud, fisica, mental, informacion, importante, duracion, minima, sera, tres, semanas, maximo, ano, academico, meses, movilidad, estudiantes, doctorado, investigadores, profesores, invitados, debera, realizar, base, calendario, aprobado, universidad, institucion, educacion, superior, receptora, cada, pais, estudiantes, doctorado, podran, realizar, beca, cursos, pasantias, cotutela, estancias, investigacion, marco, programa, postgrado, universidad, origen, docentes, podran, ocupar, beca, impartir, clases, profesor, invitado, ello, deberan, presentar, programa, trabajo, materias, dictaran, nivel, deberan, dar, menos, cuatro, horas, semana, si, programas, pregrado, menos, tres, horas, semana, si, clases, programas, postgrado, general, investigadores, podran, integrarse, equipos, investigacion, instituciones, academicas, destino, deberan, presentar, plan, trabajo, detalles, investigacion, realizar, candidatos, seleccionados, agcid, deberan, viajar, chile, encontrarse, anticipacion, suficiente, fecha, inicio, respectivo, programa, estudio, sugiere, dias, inicio, clases, obtener, debida, anticipacion, visa, respectiva, chile, calidad, estudiante, obtener, debida, anticipacion, permisos, correspondientes, universidad, origen, presentarse, personalmente, oficinas, agcid, firmar, convenio, materializa, beca, entregar, toda, documentacion, original, requerida, solicitada, suscribir, declaracion, jurada, confirma, haber, leido, convenio, materializara, beca, entregar, original, toda, documentacion, requerida, convocatoria, debe, presentar, fisico, cd, rotulado, nombre, postulante, ano, realizacion, correspondiente, oficializacion, unicamente, puntos, atencion, icetex, nivel, nacional, cd, deben, incluir, documentos, requeridos, convocatoria, archivos, deben, adjuntarse, forma, individual, formato, pdf, decir, cada, documento, archivo, supere, megas, presentar, documentacion, carpeta, separadores, unicamente, legajados, lado, izquierdo]|[objetivo, programa, becas, movilidad, estudiantil, academica, alianza, pacifico, contribuir, formacion, capital, humano, avanzado, nacionales, paises, miembros, alianza, pacifico, traves, intercambio, academico, estudiantes, doctorado, profesores, investigadores, universidades, chilenas]|\n",
            "+-------------------+----------------------------------------------------------------------------------------------------------------------------------------------------------------------------------------------------------------------------------------------------------------------------------------------------------------------------------------------------------------------------------------------------------------------------------------------------------------------------------------------------------------------------------------------------------------------------------------------------------------------------------------------------------------------------------------------------------------------------------------------------------------------------------------------------------------------------------------------------------------------------------------------------------------------------------------------------------------------------------------------------------------------------------------------------------------------------------------------------------------------------------------------------------------------------------------------------------------------------------------------------------------------------------------------------------------------------------------------------------------------------------------------------------------------------------------------------------------------------------------------------------------------------------------------------------------------------------------------------------------------------------------------------------------------------------------------------------------------------------------------------------------------------------------------------------------------------------------------------------------------------------------------------------------------------------------------------------------------------------------------------------------------------------------------------------------------------------------------------------------------------------------------------------------------------------------------------------------------------------------------------------------------------------------------------------------------------------------------------------------------------------------------------------------------------------------------------------------------------------------------------------------------------------------------------------------------------------------------------------------------------------------------------------------------------------------------------------------------------------------------------------------------------------------------------+-------------------------------------------------------------------------------------------------------------------------------------------------------------------------------------------------------------------------------------------------------------------------------------------------+\n",
            "\n"
          ]
        }
      ]
    },
    {
      "cell_type": "markdown",
      "source": [
        "##### **Intercección de los tokens de cada columna**"
      ],
      "metadata": {
        "id": "kKQ6Fl_OBO4c"
      }
    },
    {
      "cell_type": "code",
      "source": [
        "common_tokenized_data = tokenized_data.withColumn(\"palabras_comunes\", array_intersect(\"perfil_del_aplicante_tokens\", \"objetivo_del_programa_tokens\"))\n",
        "# Se muestra el dataframe resultante\n",
        "common_tokenized_data.show()\n",
        "# Se muestra la ultima columna con los tokens comunes\n",
        "common_tokenized_data.select(\"palabras_comunes\").show(truncate=False)\n"
      ],
      "metadata": {
        "colab": {
          "base_uri": "https://localhost:8080/"
        },
        "id": "c2dbw6p3BOXy",
        "outputId": "40f26ca2-648d-4033-b7e7-1f058abb47d9"
      },
      "execution_count": null,
      "outputs": [
        {
          "output_type": "stream",
          "name": "stdout",
          "text": [
            "+-------------------+---------------------------+----------------------------+--------------------+\n",
            "|codigo_convocatoria|perfil_del_aplicante_tokens|objetivo_del_programa_tokens|    palabras_comunes|\n",
            "+-------------------+---------------------------+----------------------------+--------------------+\n",
            "|          2127916.0|       [programa, dirigi...|        [proporcionar, pa...|[politicas, gobie...|\n",
            "|          3101616.0|       [programa, dirigi...|        [objetivo, progra...|[programa, profes...|\n",
            "+-------------------+---------------------------+----------------------------+--------------------+\n",
            "\n",
            "+------------------------------------------------------------------------------------+\n",
            "|palabras_comunes                                                                    |\n",
            "+------------------------------------------------------------------------------------+\n",
            "|[politicas, gobierno, abierto, tener]                                               |\n",
            "|[programa, profesores, investigadores, doctorado, academico, movilidad, estudiantes]|\n",
            "+------------------------------------------------------------------------------------+\n",
            "\n"
          ]
        }
      ]
    },
    {
      "cell_type": "markdown",
      "source": [
        "##### **Eliminacion de los verbos de los tokens combinados**"
      ],
      "metadata": {
        "id": "na_d-9Gk9kSK"
      }
    },
    {
      "cell_type": "code",
      "source": [
        "# Aplicar la UDF para eliminar los verbos en infinitivo\n",
        "common_tokenized_data = common_tokenized_data.withColumn(\"tokens_sin_verbos\", remove_infinitive_verbs_es_udf(\"palabras_comunes\"))\n",
        "# Se muestra el dataframe resultante\n",
        "common_tokenized_data.show(2)\n",
        "# Se muestra la columna con los verbos sin remover y removidos\n",
        "common_tokenized_data.select(\"palabras_comunes\",\"tokens_sin_verbos\").show(truncate=False)"
      ],
      "metadata": {
        "colab": {
          "base_uri": "https://localhost:8080/"
        },
        "id": "fKpN4saiwbfi",
        "outputId": "831d69d0-b04b-424c-b7ac-59fa9e4ccde4"
      },
      "execution_count": null,
      "outputs": [
        {
          "output_type": "stream",
          "name": "stdout",
          "text": [
            "+-------------------+---------------------------+----------------------------+--------------------+--------------------+\n",
            "|codigo_convocatoria|perfil_del_aplicante_tokens|objetivo_del_programa_tokens|    palabras_comunes|   tokens_sin_verbos|\n",
            "+-------------------+---------------------------+----------------------------+--------------------+--------------------+\n",
            "|          2127916.0|       [programa, dirigi...|        [proporcionar, pa...|[politicas, gobie...|[politicas, gobie...|\n",
            "|          3101616.0|       [programa, dirigi...|        [objetivo, progra...|[programa, profes...|[programa, profes...|\n",
            "+-------------------+---------------------------+----------------------------+--------------------+--------------------+\n",
            "\n",
            "+------------------------------------------------------------------------------------+------------------------------------------------------------------------------------+\n",
            "|palabras_comunes                                                                    |tokens_sin_verbos                                                                   |\n",
            "+------------------------------------------------------------------------------------+------------------------------------------------------------------------------------+\n",
            "|[politicas, gobierno, abierto, tener]                                               |[politicas, gobierno, abierto]                                                      |\n",
            "|[programa, profesores, investigadores, doctorado, academico, movilidad, estudiantes]|[programa, profesores, investigadores, doctorado, academico, movilidad, estudiantes]|\n",
            "+------------------------------------------------------------------------------------+------------------------------------------------------------------------------------+\n",
            "\n"
          ]
        }
      ]
    },
    {
      "cell_type": "markdown",
      "source": [
        "##### **Criterio de relacion**\n",
        "\n",
        "Se aplica el criterio de relacion empleando el umbral, el cual para esta prueba se definio en 5."
      ],
      "metadata": {
        "id": "rQ0X5zsu93DT"
      }
    },
    {
      "cell_type": "code",
      "source": [
        "# prompt: filtra el df_with_intersection con tokens_sin_verbos con longitud mayor que 1\n",
        "umbral = 5\n",
        "common_tokenized_data = common_tokenized_data.withColumn(\"relacion\", F.size(\"tokens_sin_verbos\") >= umbral)\n",
        "#df_filtered = df_with_intersection.filter(F.size(\"tokens_sin_verbos\") >= umbral)\n",
        "common_tokenized_data.show(2)"
      ],
      "metadata": {
        "colab": {
          "base_uri": "https://localhost:8080/"
        },
        "id": "ge8Dz80U-dFf",
        "outputId": "ee0f9075-ab3d-4804-823f-9ccd65f27418"
      },
      "execution_count": null,
      "outputs": [
        {
          "output_type": "stream",
          "name": "stdout",
          "text": [
            "+-------------------+---------------------------+----------------------------+--------------------+--------------------+--------+\n",
            "|codigo_convocatoria|perfil_del_aplicante_tokens|objetivo_del_programa_tokens|    palabras_comunes|   tokens_sin_verbos|relacion|\n",
            "+-------------------+---------------------------+----------------------------+--------------------+--------------------+--------+\n",
            "|          2127916.0|       [programa, dirigi...|        [proporcionar, pa...|[politicas, gobie...|[politicas, gobie...|   false|\n",
            "|          3101616.0|       [programa, dirigi...|        [objetivo, progra...|[programa, profes...|[programa, profes...|    true|\n",
            "+-------------------+---------------------------+----------------------------+--------------------+--------------------+--------+\n",
            "\n"
          ]
        }
      ]
    },
    {
      "cell_type": "markdown",
      "source": [
        "Finalmente se eliminan las columnas relacionadas con los resultados intermedios"
      ],
      "metadata": {
        "id": "p7uueoeuEfoG"
      }
    },
    {
      "cell_type": "code",
      "source": [
        "common_tokenized_data = common_tokenized_data.drop(\"perfil_del_aplicante_tokens\",\"objetivo_del_programa_tokens\",\"palabras_comunes\",\"tokens_sin_verbos\")\n",
        "common_tokenized_data.show()"
      ],
      "metadata": {
        "colab": {
          "base_uri": "https://localhost:8080/"
        },
        "id": "3kESp1AT-Z14",
        "outputId": "cc9697a1-1953-4dbf-b564-f26ae72c1a20"
      },
      "execution_count": null,
      "outputs": [
        {
          "output_type": "stream",
          "name": "stdout",
          "text": [
            "+-------------------+--------+\n",
            "|codigo_convocatoria|relacion|\n",
            "+-------------------+--------+\n",
            "|          2127916.0|   false|\n",
            "|          3101616.0|    true|\n",
            "+-------------------+--------+\n",
            "\n"
          ]
        }
      ]
    },
    {
      "cell_type": "markdown",
      "source": [
        "## Referencias\n",
        "\n",
        "* https://github.com/mchesterkadwell/intro-to-text-mining-with-python/tree/master\n",
        "* https://runawayhorse001.github.io/LearningApacheSpark/textmining.html"
      ],
      "metadata": {
        "id": "12vf5JnhQFyi"
      }
    }
  ],
  "metadata": {
    "colab": {
      "provenance": [],
      "toc_visible": true
    },
    "kernelspec": {
      "display_name": "Python 3",
      "name": "python3"
    }
  },
  "nbformat": 4,
  "nbformat_minor": 0
}